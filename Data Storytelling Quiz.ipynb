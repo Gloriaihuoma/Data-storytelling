{
 "cells": [
  {
   "cell_type": "code",
   "execution_count": 9,
   "metadata": {},
   "outputs": [],
   "source": [
    "import numpy as np\n",
    "import pandas as pd\n",
    "import matplotlib.pyplot as plt\n",
    "import seaborn as sns  "
   ]
  },
  {
   "cell_type": "code",
   "execution_count": 10,
   "metadata": {},
   "outputs": [
    {
     "data": {
      "text/html": [
       "<div>\n",
       "<style scoped>\n",
       "    .dataframe tbody tr th:only-of-type {\n",
       "        vertical-align: middle;\n",
       "    }\n",
       "\n",
       "    .dataframe tbody tr th {\n",
       "        vertical-align: top;\n",
       "    }\n",
       "\n",
       "    .dataframe thead th {\n",
       "        text-align: right;\n",
       "    }\n",
       "</style>\n",
       "<table border=\"1\" class=\"dataframe\">\n",
       "  <thead>\n",
       "    <tr style=\"text-align: right;\">\n",
       "      <th></th>\n",
       "      <th>Country</th>\n",
       "      <th>Item</th>\n",
       "      <th>Year</th>\n",
       "      <th>Value</th>\n",
       "    </tr>\n",
       "  </thead>\n",
       "  <tbody>\n",
       "    <tr>\n",
       "      <th>0</th>\n",
       "      <td>Algeria</td>\n",
       "      <td>Wheat and products</td>\n",
       "      <td>2004</td>\n",
       "      <td>2731</td>\n",
       "    </tr>\n",
       "    <tr>\n",
       "      <th>1</th>\n",
       "      <td>Algeria</td>\n",
       "      <td>Wheat and products</td>\n",
       "      <td>2005</td>\n",
       "      <td>2415</td>\n",
       "    </tr>\n",
       "    <tr>\n",
       "      <th>2</th>\n",
       "      <td>Algeria</td>\n",
       "      <td>Wheat and products</td>\n",
       "      <td>2006</td>\n",
       "      <td>2688</td>\n",
       "    </tr>\n",
       "    <tr>\n",
       "      <th>3</th>\n",
       "      <td>Algeria</td>\n",
       "      <td>Wheat and products</td>\n",
       "      <td>2007</td>\n",
       "      <td>2319</td>\n",
       "    </tr>\n",
       "    <tr>\n",
       "      <th>4</th>\n",
       "      <td>Algeria</td>\n",
       "      <td>Wheat and products</td>\n",
       "      <td>2008</td>\n",
       "      <td>1111</td>\n",
       "    </tr>\n",
       "  </tbody>\n",
       "</table>\n",
       "</div>"
      ],
      "text/plain": [
       "   Country                Item  Year  Value\n",
       "0  Algeria  Wheat and products  2004   2731\n",
       "1  Algeria  Wheat and products  2005   2415\n",
       "2  Algeria  Wheat and products  2006   2688\n",
       "3  Algeria  Wheat and products  2007   2319\n",
       "4  Algeria  Wheat and products  2008   1111"
      ]
     },
     "execution_count": 10,
     "metadata": {},
     "output_type": "execute_result"
    }
   ],
   "source": [
    "African_product = pd.read_csv('Africa Food Production (2004 - 2013).csv')\n",
    "African_product.head()"
   ]
  },
  {
   "cell_type": "code",
   "execution_count": 58,
   "metadata": {},
   "outputs": [
    {
     "data": {
      "text/plain": [
       "45"
      ]
     },
     "execution_count": 58,
     "metadata": {},
     "output_type": "execute_result"
    }
   ],
   "source": [
    "African_product['Country'].nunique()"
   ]
  },
  {
   "cell_type": "code",
   "execution_count": 24,
   "metadata": {},
   "outputs": [
    {
     "data": {
      "text/html": [
       "<div>\n",
       "<style scoped>\n",
       "    .dataframe tbody tr th:only-of-type {\n",
       "        vertical-align: middle;\n",
       "    }\n",
       "\n",
       "    .dataframe tbody tr th {\n",
       "        vertical-align: top;\n",
       "    }\n",
       "\n",
       "    .dataframe thead th {\n",
       "        text-align: right;\n",
       "    }\n",
       "</style>\n",
       "<table border=\"1\" class=\"dataframe\">\n",
       "  <thead>\n",
       "    <tr style=\"text-align: right;\">\n",
       "      <th></th>\n",
       "      <th>0</th>\n",
       "      <th>1</th>\n",
       "    </tr>\n",
       "  </thead>\n",
       "  <tbody>\n",
       "    <tr>\n",
       "      <th>0</th>\n",
       "      <td>(Algeria, Apples and products)</td>\n",
       "      <td>Country                 Item  Year  Value...</td>\n",
       "    </tr>\n",
       "    <tr>\n",
       "      <th>1</th>\n",
       "      <td>(Algeria, Bananas)</td>\n",
       "      <td>Country     Item  Year  Value\n",
       "320  Algeri...</td>\n",
       "    </tr>\n",
       "    <tr>\n",
       "      <th>2</th>\n",
       "      <td>(Algeria, Barley and products)</td>\n",
       "      <td>Country                 Item  Year  Value\n",
       "...</td>\n",
       "    </tr>\n",
       "    <tr>\n",
       "      <th>3</th>\n",
       "      <td>(Algeria, Beans)</td>\n",
       "      <td>Country   Item  Year  Value\n",
       "110  Algeria ...</td>\n",
       "    </tr>\n",
       "    <tr>\n",
       "      <th>4</th>\n",
       "      <td>(Algeria, Beer)</td>\n",
       "      <td>Country  Item  Year  Value\n",
       "390  Algeria  ...</td>\n",
       "    </tr>\n",
       "    <tr>\n",
       "      <th>...</th>\n",
       "      <td>...</td>\n",
       "      <td>...</td>\n",
       "    </tr>\n",
       "    <tr>\n",
       "      <th>2307</th>\n",
       "      <td>(Zimbabwe, Tea (including mate))</td>\n",
       "      <td>Country                  Item  Year  V...</td>\n",
       "    </tr>\n",
       "    <tr>\n",
       "      <th>2308</th>\n",
       "      <td>(Zimbabwe, Tomatoes and products)</td>\n",
       "      <td>Country                   Item  Year  ...</td>\n",
       "    </tr>\n",
       "    <tr>\n",
       "      <th>2309</th>\n",
       "      <td>(Zimbabwe, Vegetables, Other)</td>\n",
       "      <td>Country               Item  Year  Valu...</td>\n",
       "    </tr>\n",
       "    <tr>\n",
       "      <th>2310</th>\n",
       "      <td>(Zimbabwe, Wheat and products)</td>\n",
       "      <td>Country                Item  Year  Val...</td>\n",
       "    </tr>\n",
       "    <tr>\n",
       "      <th>2311</th>\n",
       "      <td>(Zimbabwe, Wine)</td>\n",
       "      <td>Country  Item  Year  Value\n",
       "22930  Zimb...</td>\n",
       "    </tr>\n",
       "  </tbody>\n",
       "</table>\n",
       "<p>2312 rows × 2 columns</p>\n",
       "</div>"
      ],
      "text/plain": [
       "                                      0  \\\n",
       "0        (Algeria, Apples and products)   \n",
       "1                    (Algeria, Bananas)   \n",
       "2        (Algeria, Barley and products)   \n",
       "3                      (Algeria, Beans)   \n",
       "4                       (Algeria, Beer)   \n",
       "...                                 ...   \n",
       "2307   (Zimbabwe, Tea (including mate))   \n",
       "2308  (Zimbabwe, Tomatoes and products)   \n",
       "2309      (Zimbabwe, Vegetables, Other)   \n",
       "2310     (Zimbabwe, Wheat and products)   \n",
       "2311                   (Zimbabwe, Wine)   \n",
       "\n",
       "                                                      1  \n",
       "0          Country                 Item  Year  Value...  \n",
       "1          Country     Item  Year  Value\n",
       "320  Algeri...  \n",
       "2         Country                 Item  Year  Value\n",
       "...  \n",
       "3          Country   Item  Year  Value\n",
       "110  Algeria ...  \n",
       "4          Country  Item  Year  Value\n",
       "390  Algeria  ...  \n",
       "...                                                 ...  \n",
       "2307          Country                  Item  Year  V...  \n",
       "2308          Country                   Item  Year  ...  \n",
       "2309          Country               Item  Year  Valu...  \n",
       "2310          Country                Item  Year  Val...  \n",
       "2311          Country  Item  Year  Value\n",
       "22930  Zimb...  \n",
       "\n",
       "[2312 rows x 2 columns]"
      ]
     },
     "execution_count": 24,
     "metadata": {},
     "output_type": "execute_result"
    }
   ],
   "source": [
    "Goat = pd.DataFrame(African_product.groupby(['Country','Item'])[['Year','Value']])\n",
    "Goat"
   ]
  },
  {
   "cell_type": "code",
   "execution_count": 26,
   "metadata": {},
   "outputs": [],
   "source": [
    "oathigh = African_product[African_product['Item'] == 'Oats']"
   ]
  },
  {
   "cell_type": "code",
   "execution_count": 27,
   "metadata": {},
   "outputs": [
    {
     "data": {
      "text/html": [
       "<div>\n",
       "<style scoped>\n",
       "    .dataframe tbody tr th:only-of-type {\n",
       "        vertical-align: middle;\n",
       "    }\n",
       "\n",
       "    .dataframe tbody tr th {\n",
       "        vertical-align: top;\n",
       "    }\n",
       "\n",
       "    .dataframe thead th {\n",
       "        text-align: right;\n",
       "    }\n",
       "</style>\n",
       "<table border=\"1\" class=\"dataframe\">\n",
       "  <thead>\n",
       "    <tr style=\"text-align: right;\">\n",
       "      <th></th>\n",
       "      <th>Country</th>\n",
       "      <th>Item</th>\n",
       "      <th>Year</th>\n",
       "      <th>Value</th>\n",
       "    </tr>\n",
       "  </thead>\n",
       "  <tbody>\n",
       "    <tr>\n",
       "      <th>40</th>\n",
       "      <td>Algeria</td>\n",
       "      <td>Oats</td>\n",
       "      <td>2004</td>\n",
       "      <td>89</td>\n",
       "    </tr>\n",
       "    <tr>\n",
       "      <th>41</th>\n",
       "      <td>Algeria</td>\n",
       "      <td>Oats</td>\n",
       "      <td>2005</td>\n",
       "      <td>78</td>\n",
       "    </tr>\n",
       "    <tr>\n",
       "      <th>42</th>\n",
       "      <td>Algeria</td>\n",
       "      <td>Oats</td>\n",
       "      <td>2006</td>\n",
       "      <td>89</td>\n",
       "    </tr>\n",
       "    <tr>\n",
       "      <th>43</th>\n",
       "      <td>Algeria</td>\n",
       "      <td>Oats</td>\n",
       "      <td>2007</td>\n",
       "      <td>92</td>\n",
       "    </tr>\n",
       "    <tr>\n",
       "      <th>44</th>\n",
       "      <td>Algeria</td>\n",
       "      <td>Oats</td>\n",
       "      <td>2008</td>\n",
       "      <td>27</td>\n",
       "    </tr>\n",
       "    <tr>\n",
       "      <th>45</th>\n",
       "      <td>Algeria</td>\n",
       "      <td>Oats</td>\n",
       "      <td>2009</td>\n",
       "      <td>96</td>\n",
       "    </tr>\n",
       "    <tr>\n",
       "      <th>46</th>\n",
       "      <td>Algeria</td>\n",
       "      <td>Oats</td>\n",
       "      <td>2010</td>\n",
       "      <td>88</td>\n",
       "    </tr>\n",
       "    <tr>\n",
       "      <th>47</th>\n",
       "      <td>Algeria</td>\n",
       "      <td>Oats</td>\n",
       "      <td>2011</td>\n",
       "      <td>67</td>\n",
       "    </tr>\n",
       "    <tr>\n",
       "      <th>48</th>\n",
       "      <td>Algeria</td>\n",
       "      <td>Oats</td>\n",
       "      <td>2012</td>\n",
       "      <td>110</td>\n",
       "    </tr>\n",
       "    <tr>\n",
       "      <th>49</th>\n",
       "      <td>Algeria</td>\n",
       "      <td>Oats</td>\n",
       "      <td>2013</td>\n",
       "      <td>113</td>\n",
       "    </tr>\n",
       "    <tr>\n",
       "      <th>6400</th>\n",
       "      <td>Ethiopia</td>\n",
       "      <td>Oats</td>\n",
       "      <td>2004</td>\n",
       "      <td>39</td>\n",
       "    </tr>\n",
       "    <tr>\n",
       "      <th>6401</th>\n",
       "      <td>Ethiopia</td>\n",
       "      <td>Oats</td>\n",
       "      <td>2005</td>\n",
       "      <td>57</td>\n",
       "    </tr>\n",
       "    <tr>\n",
       "      <th>6402</th>\n",
       "      <td>Ethiopia</td>\n",
       "      <td>Oats</td>\n",
       "      <td>2006</td>\n",
       "      <td>40</td>\n",
       "    </tr>\n",
       "    <tr>\n",
       "      <th>6403</th>\n",
       "      <td>Ethiopia</td>\n",
       "      <td>Oats</td>\n",
       "      <td>2007</td>\n",
       "      <td>36</td>\n",
       "    </tr>\n",
       "    <tr>\n",
       "      <th>6404</th>\n",
       "      <td>Ethiopia</td>\n",
       "      <td>Oats</td>\n",
       "      <td>2008</td>\n",
       "      <td>37</td>\n",
       "    </tr>\n",
       "    <tr>\n",
       "      <th>6405</th>\n",
       "      <td>Ethiopia</td>\n",
       "      <td>Oats</td>\n",
       "      <td>2009</td>\n",
       "      <td>33</td>\n",
       "    </tr>\n",
       "    <tr>\n",
       "      <th>6406</th>\n",
       "      <td>Ethiopia</td>\n",
       "      <td>Oats</td>\n",
       "      <td>2010</td>\n",
       "      <td>48</td>\n",
       "    </tr>\n",
       "    <tr>\n",
       "      <th>6407</th>\n",
       "      <td>Ethiopia</td>\n",
       "      <td>Oats</td>\n",
       "      <td>2011</td>\n",
       "      <td>49</td>\n",
       "    </tr>\n",
       "    <tr>\n",
       "      <th>6408</th>\n",
       "      <td>Ethiopia</td>\n",
       "      <td>Oats</td>\n",
       "      <td>2012</td>\n",
       "      <td>44</td>\n",
       "    </tr>\n",
       "    <tr>\n",
       "      <th>6409</th>\n",
       "      <td>Ethiopia</td>\n",
       "      <td>Oats</td>\n",
       "      <td>2013</td>\n",
       "      <td>60</td>\n",
       "    </tr>\n",
       "  </tbody>\n",
       "</table>\n",
       "</div>"
      ],
      "text/plain": [
       "       Country  Item  Year  Value\n",
       "40     Algeria  Oats  2004     89\n",
       "41     Algeria  Oats  2005     78\n",
       "42     Algeria  Oats  2006     89\n",
       "43     Algeria  Oats  2007     92\n",
       "44     Algeria  Oats  2008     27\n",
       "45     Algeria  Oats  2009     96\n",
       "46     Algeria  Oats  2010     88\n",
       "47     Algeria  Oats  2011     67\n",
       "48     Algeria  Oats  2012    110\n",
       "49     Algeria  Oats  2013    113\n",
       "6400  Ethiopia  Oats  2004     39\n",
       "6401  Ethiopia  Oats  2005     57\n",
       "6402  Ethiopia  Oats  2006     40\n",
       "6403  Ethiopia  Oats  2007     36\n",
       "6404  Ethiopia  Oats  2008     37\n",
       "6405  Ethiopia  Oats  2009     33\n",
       "6406  Ethiopia  Oats  2010     48\n",
       "6407  Ethiopia  Oats  2011     49\n",
       "6408  Ethiopia  Oats  2012     44\n",
       "6409  Ethiopia  Oats  2013     60"
      ]
     },
     "execution_count": 27,
     "metadata": {},
     "output_type": "execute_result"
    }
   ],
   "source": [
    "oathigh.head(20)"
   ]
  },
  {
   "cell_type": "markdown",
   "metadata": {},
   "source": [
    "1. Which country produced the highest amount of oats in 2010?"
   ]
  },
  {
   "cell_type": "code",
   "execution_count": 38,
   "metadata": {},
   "outputs": [
    {
     "data": {
      "application/vnd.plotly.v1+json": {
       "config": {
        "plotlyServerURL": "https://plot.ly"
       },
       "data": [
        {
         "hovertemplate": "Country=Algeria<br>Year=%{x}<br>Value=%{y}<extra></extra>",
         "legendgroup": "Algeria",
         "line": {
          "color": "#636efa",
          "dash": "solid"
         },
         "mode": "lines",
         "name": "Algeria",
         "orientation": "v",
         "showlegend": true,
         "type": "scatter",
         "x": [
          2004,
          2005,
          2006,
          2007,
          2008,
          2009,
          2010,
          2011,
          2012,
          2013
         ],
         "xaxis": "x",
         "y": [
          89,
          78,
          89,
          92,
          27,
          96,
          88,
          67,
          110,
          113
         ],
         "yaxis": "y"
        },
        {
         "hovertemplate": "Country=Ethiopia<br>Year=%{x}<br>Value=%{y}<extra></extra>",
         "legendgroup": "Ethiopia",
         "line": {
          "color": "#EF553B",
          "dash": "solid"
         },
         "mode": "lines",
         "name": "Ethiopia",
         "orientation": "v",
         "showlegend": true,
         "type": "scatter",
         "x": [
          2004,
          2005,
          2006,
          2007,
          2008,
          2009,
          2010,
          2011,
          2012,
          2013
         ],
         "xaxis": "x",
         "y": [
          39,
          57,
          40,
          36,
          37,
          33,
          48,
          49,
          44,
          60
         ],
         "yaxis": "y"
        },
        {
         "hovertemplate": "Country=Ghana<br>Year=%{x}<br>Value=%{y}<extra></extra>",
         "legendgroup": "Ghana",
         "line": {
          "color": "#00cc96",
          "dash": "solid"
         },
         "mode": "lines",
         "name": "Ghana",
         "orientation": "v",
         "showlegend": true,
         "type": "scatter",
         "x": [
          2004,
          2005,
          2006,
          2007,
          2008,
          2009,
          2010,
          2011,
          2012,
          2013
         ],
         "xaxis": "x",
         "y": [
          0,
          0,
          0,
          0,
          0,
          0,
          0,
          0,
          0,
          0
         ],
         "yaxis": "y"
        },
        {
         "hovertemplate": "Country=Kenya<br>Year=%{x}<br>Value=%{y}<extra></extra>",
         "legendgroup": "Kenya",
         "line": {
          "color": "#ab63fa",
          "dash": "solid"
         },
         "mode": "lines",
         "name": "Kenya",
         "orientation": "v",
         "showlegend": true,
         "type": "scatter",
         "x": [
          2004,
          2005,
          2006,
          2007,
          2008,
          2009,
          2010,
          2011,
          2012,
          2013
         ],
         "xaxis": "x",
         "y": [
          4,
          4,
          4,
          4,
          3,
          3,
          3,
          4,
          4,
          4
         ],
         "yaxis": "y"
        },
        {
         "hovertemplate": "Country=Lesotho<br>Year=%{x}<br>Value=%{y}<extra></extra>",
         "legendgroup": "Lesotho",
         "line": {
          "color": "#FFA15A",
          "dash": "solid"
         },
         "mode": "lines",
         "name": "Lesotho",
         "orientation": "v",
         "showlegend": true,
         "type": "scatter",
         "x": [
          2004,
          2005,
          2006,
          2007,
          2008,
          2009,
          2010,
          2011,
          2012,
          2013
         ],
         "xaxis": "x",
         "y": [
          0,
          0,
          0,
          0,
          0,
          0,
          0,
          0,
          0,
          0
         ],
         "yaxis": "y"
        },
        {
         "hovertemplate": "Country=Morocco<br>Year=%{x}<br>Value=%{y}<extra></extra>",
         "legendgroup": "Morocco",
         "line": {
          "color": "#19d3f3",
          "dash": "solid"
         },
         "mode": "lines",
         "name": "Morocco",
         "orientation": "v",
         "showlegend": true,
         "type": "scatter",
         "x": [
          2004,
          2005,
          2006,
          2007,
          2008,
          2009,
          2010,
          2011,
          2012,
          2013
         ],
         "xaxis": "x",
         "y": [
          17,
          16,
          17,
          6,
          16,
          25,
          37,
          96,
          56,
          46
         ],
         "yaxis": "y"
        },
        {
         "hovertemplate": "Country=South Africa<br>Year=%{x}<br>Value=%{y}<extra></extra>",
         "legendgroup": "South Africa",
         "line": {
          "color": "#FF6692",
          "dash": "solid"
         },
         "mode": "lines",
         "name": "South Africa",
         "orientation": "v",
         "showlegend": true,
         "type": "scatter",
         "x": [
          2004,
          2005,
          2006,
          2007,
          2008,
          2009,
          2010,
          2011,
          2012,
          2013
         ],
         "xaxis": "x",
         "y": [
          37,
          34,
          44,
          42,
          27,
          37,
          34,
          66,
          57,
          28
         ],
         "yaxis": "y"
        },
        {
         "hovertemplate": "Country=Tunisia<br>Year=%{x}<br>Value=%{y}<extra></extra>",
         "legendgroup": "Tunisia",
         "line": {
          "color": "#B6E880",
          "dash": "solid"
         },
         "mode": "lines",
         "name": "Tunisia",
         "orientation": "v",
         "showlegend": true,
         "type": "scatter",
         "x": [
          2004,
          2005,
          2006,
          2007,
          2008,
          2009,
          2010,
          2011,
          2012,
          2013
         ],
         "xaxis": "x",
         "y": [
          1,
          1,
          1,
          1,
          1,
          2,
          2,
          2,
          2,
          2
         ],
         "yaxis": "y"
        },
        {
         "hovertemplate": "Country=Zimbabwe<br>Year=%{x}<br>Value=%{y}<extra></extra>",
         "legendgroup": "Zimbabwe",
         "line": {
          "color": "#FF97FF",
          "dash": "solid"
         },
         "mode": "lines",
         "name": "Zimbabwe",
         "orientation": "v",
         "showlegend": true,
         "type": "scatter",
         "x": [
          2004,
          2005,
          2006,
          2007,
          2008,
          2009,
          2010,
          2011,
          2012,
          2013
         ],
         "xaxis": "x",
         "y": [
          1,
          1,
          1,
          1,
          1,
          1,
          1,
          1,
          1,
          1
         ],
         "yaxis": "y"
        }
       ],
       "layout": {
        "legend": {
         "title": {
          "text": "Country"
         },
         "tracegroupgap": 0
        },
        "template": {
         "data": {
          "bar": [
           {
            "error_x": {
             "color": "#2a3f5f"
            },
            "error_y": {
             "color": "#2a3f5f"
            },
            "marker": {
             "line": {
              "color": "#E5ECF6",
              "width": 0.5
             }
            },
            "type": "bar"
           }
          ],
          "barpolar": [
           {
            "marker": {
             "line": {
              "color": "#E5ECF6",
              "width": 0.5
             }
            },
            "type": "barpolar"
           }
          ],
          "carpet": [
           {
            "aaxis": {
             "endlinecolor": "#2a3f5f",
             "gridcolor": "white",
             "linecolor": "white",
             "minorgridcolor": "white",
             "startlinecolor": "#2a3f5f"
            },
            "baxis": {
             "endlinecolor": "#2a3f5f",
             "gridcolor": "white",
             "linecolor": "white",
             "minorgridcolor": "white",
             "startlinecolor": "#2a3f5f"
            },
            "type": "carpet"
           }
          ],
          "choropleth": [
           {
            "colorbar": {
             "outlinewidth": 0,
             "ticks": ""
            },
            "type": "choropleth"
           }
          ],
          "contour": [
           {
            "colorbar": {
             "outlinewidth": 0,
             "ticks": ""
            },
            "colorscale": [
             [
              0,
              "#0d0887"
             ],
             [
              0.1111111111111111,
              "#46039f"
             ],
             [
              0.2222222222222222,
              "#7201a8"
             ],
             [
              0.3333333333333333,
              "#9c179e"
             ],
             [
              0.4444444444444444,
              "#bd3786"
             ],
             [
              0.5555555555555556,
              "#d8576b"
             ],
             [
              0.6666666666666666,
              "#ed7953"
             ],
             [
              0.7777777777777778,
              "#fb9f3a"
             ],
             [
              0.8888888888888888,
              "#fdca26"
             ],
             [
              1,
              "#f0f921"
             ]
            ],
            "type": "contour"
           }
          ],
          "contourcarpet": [
           {
            "colorbar": {
             "outlinewidth": 0,
             "ticks": ""
            },
            "type": "contourcarpet"
           }
          ],
          "heatmap": [
           {
            "colorbar": {
             "outlinewidth": 0,
             "ticks": ""
            },
            "colorscale": [
             [
              0,
              "#0d0887"
             ],
             [
              0.1111111111111111,
              "#46039f"
             ],
             [
              0.2222222222222222,
              "#7201a8"
             ],
             [
              0.3333333333333333,
              "#9c179e"
             ],
             [
              0.4444444444444444,
              "#bd3786"
             ],
             [
              0.5555555555555556,
              "#d8576b"
             ],
             [
              0.6666666666666666,
              "#ed7953"
             ],
             [
              0.7777777777777778,
              "#fb9f3a"
             ],
             [
              0.8888888888888888,
              "#fdca26"
             ],
             [
              1,
              "#f0f921"
             ]
            ],
            "type": "heatmap"
           }
          ],
          "heatmapgl": [
           {
            "colorbar": {
             "outlinewidth": 0,
             "ticks": ""
            },
            "colorscale": [
             [
              0,
              "#0d0887"
             ],
             [
              0.1111111111111111,
              "#46039f"
             ],
             [
              0.2222222222222222,
              "#7201a8"
             ],
             [
              0.3333333333333333,
              "#9c179e"
             ],
             [
              0.4444444444444444,
              "#bd3786"
             ],
             [
              0.5555555555555556,
              "#d8576b"
             ],
             [
              0.6666666666666666,
              "#ed7953"
             ],
             [
              0.7777777777777778,
              "#fb9f3a"
             ],
             [
              0.8888888888888888,
              "#fdca26"
             ],
             [
              1,
              "#f0f921"
             ]
            ],
            "type": "heatmapgl"
           }
          ],
          "histogram": [
           {
            "marker": {
             "colorbar": {
              "outlinewidth": 0,
              "ticks": ""
             }
            },
            "type": "histogram"
           }
          ],
          "histogram2d": [
           {
            "colorbar": {
             "outlinewidth": 0,
             "ticks": ""
            },
            "colorscale": [
             [
              0,
              "#0d0887"
             ],
             [
              0.1111111111111111,
              "#46039f"
             ],
             [
              0.2222222222222222,
              "#7201a8"
             ],
             [
              0.3333333333333333,
              "#9c179e"
             ],
             [
              0.4444444444444444,
              "#bd3786"
             ],
             [
              0.5555555555555556,
              "#d8576b"
             ],
             [
              0.6666666666666666,
              "#ed7953"
             ],
             [
              0.7777777777777778,
              "#fb9f3a"
             ],
             [
              0.8888888888888888,
              "#fdca26"
             ],
             [
              1,
              "#f0f921"
             ]
            ],
            "type": "histogram2d"
           }
          ],
          "histogram2dcontour": [
           {
            "colorbar": {
             "outlinewidth": 0,
             "ticks": ""
            },
            "colorscale": [
             [
              0,
              "#0d0887"
             ],
             [
              0.1111111111111111,
              "#46039f"
             ],
             [
              0.2222222222222222,
              "#7201a8"
             ],
             [
              0.3333333333333333,
              "#9c179e"
             ],
             [
              0.4444444444444444,
              "#bd3786"
             ],
             [
              0.5555555555555556,
              "#d8576b"
             ],
             [
              0.6666666666666666,
              "#ed7953"
             ],
             [
              0.7777777777777778,
              "#fb9f3a"
             ],
             [
              0.8888888888888888,
              "#fdca26"
             ],
             [
              1,
              "#f0f921"
             ]
            ],
            "type": "histogram2dcontour"
           }
          ],
          "mesh3d": [
           {
            "colorbar": {
             "outlinewidth": 0,
             "ticks": ""
            },
            "type": "mesh3d"
           }
          ],
          "parcoords": [
           {
            "line": {
             "colorbar": {
              "outlinewidth": 0,
              "ticks": ""
             }
            },
            "type": "parcoords"
           }
          ],
          "pie": [
           {
            "automargin": true,
            "type": "pie"
           }
          ],
          "scatter": [
           {
            "marker": {
             "colorbar": {
              "outlinewidth": 0,
              "ticks": ""
             }
            },
            "type": "scatter"
           }
          ],
          "scatter3d": [
           {
            "line": {
             "colorbar": {
              "outlinewidth": 0,
              "ticks": ""
             }
            },
            "marker": {
             "colorbar": {
              "outlinewidth": 0,
              "ticks": ""
             }
            },
            "type": "scatter3d"
           }
          ],
          "scattercarpet": [
           {
            "marker": {
             "colorbar": {
              "outlinewidth": 0,
              "ticks": ""
             }
            },
            "type": "scattercarpet"
           }
          ],
          "scattergeo": [
           {
            "marker": {
             "colorbar": {
              "outlinewidth": 0,
              "ticks": ""
             }
            },
            "type": "scattergeo"
           }
          ],
          "scattergl": [
           {
            "marker": {
             "colorbar": {
              "outlinewidth": 0,
              "ticks": ""
             }
            },
            "type": "scattergl"
           }
          ],
          "scattermapbox": [
           {
            "marker": {
             "colorbar": {
              "outlinewidth": 0,
              "ticks": ""
             }
            },
            "type": "scattermapbox"
           }
          ],
          "scatterpolar": [
           {
            "marker": {
             "colorbar": {
              "outlinewidth": 0,
              "ticks": ""
             }
            },
            "type": "scatterpolar"
           }
          ],
          "scatterpolargl": [
           {
            "marker": {
             "colorbar": {
              "outlinewidth": 0,
              "ticks": ""
             }
            },
            "type": "scatterpolargl"
           }
          ],
          "scatterternary": [
           {
            "marker": {
             "colorbar": {
              "outlinewidth": 0,
              "ticks": ""
             }
            },
            "type": "scatterternary"
           }
          ],
          "surface": [
           {
            "colorbar": {
             "outlinewidth": 0,
             "ticks": ""
            },
            "colorscale": [
             [
              0,
              "#0d0887"
             ],
             [
              0.1111111111111111,
              "#46039f"
             ],
             [
              0.2222222222222222,
              "#7201a8"
             ],
             [
              0.3333333333333333,
              "#9c179e"
             ],
             [
              0.4444444444444444,
              "#bd3786"
             ],
             [
              0.5555555555555556,
              "#d8576b"
             ],
             [
              0.6666666666666666,
              "#ed7953"
             ],
             [
              0.7777777777777778,
              "#fb9f3a"
             ],
             [
              0.8888888888888888,
              "#fdca26"
             ],
             [
              1,
              "#f0f921"
             ]
            ],
            "type": "surface"
           }
          ],
          "table": [
           {
            "cells": {
             "fill": {
              "color": "#EBF0F8"
             },
             "line": {
              "color": "white"
             }
            },
            "header": {
             "fill": {
              "color": "#C8D4E3"
             },
             "line": {
              "color": "white"
             }
            },
            "type": "table"
           }
          ]
         },
         "layout": {
          "annotationdefaults": {
           "arrowcolor": "#2a3f5f",
           "arrowhead": 0,
           "arrowwidth": 1
          },
          "coloraxis": {
           "colorbar": {
            "outlinewidth": 0,
            "ticks": ""
           }
          },
          "colorscale": {
           "diverging": [
            [
             0,
             "#8e0152"
            ],
            [
             0.1,
             "#c51b7d"
            ],
            [
             0.2,
             "#de77ae"
            ],
            [
             0.3,
             "#f1b6da"
            ],
            [
             0.4,
             "#fde0ef"
            ],
            [
             0.5,
             "#f7f7f7"
            ],
            [
             0.6,
             "#e6f5d0"
            ],
            [
             0.7,
             "#b8e186"
            ],
            [
             0.8,
             "#7fbc41"
            ],
            [
             0.9,
             "#4d9221"
            ],
            [
             1,
             "#276419"
            ]
           ],
           "sequential": [
            [
             0,
             "#0d0887"
            ],
            [
             0.1111111111111111,
             "#46039f"
            ],
            [
             0.2222222222222222,
             "#7201a8"
            ],
            [
             0.3333333333333333,
             "#9c179e"
            ],
            [
             0.4444444444444444,
             "#bd3786"
            ],
            [
             0.5555555555555556,
             "#d8576b"
            ],
            [
             0.6666666666666666,
             "#ed7953"
            ],
            [
             0.7777777777777778,
             "#fb9f3a"
            ],
            [
             0.8888888888888888,
             "#fdca26"
            ],
            [
             1,
             "#f0f921"
            ]
           ],
           "sequentialminus": [
            [
             0,
             "#0d0887"
            ],
            [
             0.1111111111111111,
             "#46039f"
            ],
            [
             0.2222222222222222,
             "#7201a8"
            ],
            [
             0.3333333333333333,
             "#9c179e"
            ],
            [
             0.4444444444444444,
             "#bd3786"
            ],
            [
             0.5555555555555556,
             "#d8576b"
            ],
            [
             0.6666666666666666,
             "#ed7953"
            ],
            [
             0.7777777777777778,
             "#fb9f3a"
            ],
            [
             0.8888888888888888,
             "#fdca26"
            ],
            [
             1,
             "#f0f921"
            ]
           ]
          },
          "colorway": [
           "#636efa",
           "#EF553B",
           "#00cc96",
           "#ab63fa",
           "#FFA15A",
           "#19d3f3",
           "#FF6692",
           "#B6E880",
           "#FF97FF",
           "#FECB52"
          ],
          "font": {
           "color": "#2a3f5f"
          },
          "geo": {
           "bgcolor": "white",
           "lakecolor": "white",
           "landcolor": "#E5ECF6",
           "showlakes": true,
           "showland": true,
           "subunitcolor": "white"
          },
          "hoverlabel": {
           "align": "left"
          },
          "hovermode": "closest",
          "mapbox": {
           "style": "light"
          },
          "paper_bgcolor": "white",
          "plot_bgcolor": "#E5ECF6",
          "polar": {
           "angularaxis": {
            "gridcolor": "white",
            "linecolor": "white",
            "ticks": ""
           },
           "bgcolor": "#E5ECF6",
           "radialaxis": {
            "gridcolor": "white",
            "linecolor": "white",
            "ticks": ""
           }
          },
          "scene": {
           "xaxis": {
            "backgroundcolor": "#E5ECF6",
            "gridcolor": "white",
            "gridwidth": 2,
            "linecolor": "white",
            "showbackground": true,
            "ticks": "",
            "zerolinecolor": "white"
           },
           "yaxis": {
            "backgroundcolor": "#E5ECF6",
            "gridcolor": "white",
            "gridwidth": 2,
            "linecolor": "white",
            "showbackground": true,
            "ticks": "",
            "zerolinecolor": "white"
           },
           "zaxis": {
            "backgroundcolor": "#E5ECF6",
            "gridcolor": "white",
            "gridwidth": 2,
            "linecolor": "white",
            "showbackground": true,
            "ticks": "",
            "zerolinecolor": "white"
           }
          },
          "shapedefaults": {
           "line": {
            "color": "#2a3f5f"
           }
          },
          "ternary": {
           "aaxis": {
            "gridcolor": "white",
            "linecolor": "white",
            "ticks": ""
           },
           "baxis": {
            "gridcolor": "white",
            "linecolor": "white",
            "ticks": ""
           },
           "bgcolor": "#E5ECF6",
           "caxis": {
            "gridcolor": "white",
            "linecolor": "white",
            "ticks": ""
           }
          },
          "title": {
           "x": 0.05
          },
          "xaxis": {
           "automargin": true,
           "gridcolor": "white",
           "linecolor": "white",
           "ticks": "",
           "title": {
            "standoff": 15
           },
           "zerolinecolor": "white",
           "zerolinewidth": 2
          },
          "yaxis": {
           "automargin": true,
           "gridcolor": "white",
           "linecolor": "white",
           "ticks": "",
           "title": {
            "standoff": 15
           },
           "zerolinecolor": "white",
           "zerolinewidth": 2
          }
         }
        },
        "title": {
         "text": "Africa Food Products"
        },
        "xaxis": {
         "anchor": "y",
         "domain": [
          0,
          1
         ],
         "title": {
          "text": "Year"
         }
        },
        "yaxis": {
         "anchor": "x",
         "domain": [
          0,
          1
         ],
         "title": {
          "text": "Value"
         }
        }
       }
      },
      "text/html": [
       "<div>\n",
       "        \n",
       "        \n",
       "            <div id=\"fcf80f26-5b20-4d71-a271-3f620e844eee\" class=\"plotly-graph-div\" style=\"height:525px; width:100%;\"></div>\n",
       "            <script type=\"text/javascript\">\n",
       "                require([\"plotly\"], function(Plotly) {\n",
       "                    window.PLOTLYENV=window.PLOTLYENV || {};\n",
       "                    \n",
       "                if (document.getElementById(\"fcf80f26-5b20-4d71-a271-3f620e844eee\")) {\n",
       "                    Plotly.newPlot(\n",
       "                        'fcf80f26-5b20-4d71-a271-3f620e844eee',\n",
       "                        [{\"hovertemplate\": \"Country=Algeria<br>Year=%{x}<br>Value=%{y}<extra></extra>\", \"legendgroup\": \"Algeria\", \"line\": {\"color\": \"#636efa\", \"dash\": \"solid\"}, \"mode\": \"lines\", \"name\": \"Algeria\", \"orientation\": \"v\", \"showlegend\": true, \"type\": \"scatter\", \"x\": [2004, 2005, 2006, 2007, 2008, 2009, 2010, 2011, 2012, 2013], \"xaxis\": \"x\", \"y\": [89, 78, 89, 92, 27, 96, 88, 67, 110, 113], \"yaxis\": \"y\"}, {\"hovertemplate\": \"Country=Ethiopia<br>Year=%{x}<br>Value=%{y}<extra></extra>\", \"legendgroup\": \"Ethiopia\", \"line\": {\"color\": \"#EF553B\", \"dash\": \"solid\"}, \"mode\": \"lines\", \"name\": \"Ethiopia\", \"orientation\": \"v\", \"showlegend\": true, \"type\": \"scatter\", \"x\": [2004, 2005, 2006, 2007, 2008, 2009, 2010, 2011, 2012, 2013], \"xaxis\": \"x\", \"y\": [39, 57, 40, 36, 37, 33, 48, 49, 44, 60], \"yaxis\": \"y\"}, {\"hovertemplate\": \"Country=Ghana<br>Year=%{x}<br>Value=%{y}<extra></extra>\", \"legendgroup\": \"Ghana\", \"line\": {\"color\": \"#00cc96\", \"dash\": \"solid\"}, \"mode\": \"lines\", \"name\": \"Ghana\", \"orientation\": \"v\", \"showlegend\": true, \"type\": \"scatter\", \"x\": [2004, 2005, 2006, 2007, 2008, 2009, 2010, 2011, 2012, 2013], \"xaxis\": \"x\", \"y\": [0, 0, 0, 0, 0, 0, 0, 0, 0, 0], \"yaxis\": \"y\"}, {\"hovertemplate\": \"Country=Kenya<br>Year=%{x}<br>Value=%{y}<extra></extra>\", \"legendgroup\": \"Kenya\", \"line\": {\"color\": \"#ab63fa\", \"dash\": \"solid\"}, \"mode\": \"lines\", \"name\": \"Kenya\", \"orientation\": \"v\", \"showlegend\": true, \"type\": \"scatter\", \"x\": [2004, 2005, 2006, 2007, 2008, 2009, 2010, 2011, 2012, 2013], \"xaxis\": \"x\", \"y\": [4, 4, 4, 4, 3, 3, 3, 4, 4, 4], \"yaxis\": \"y\"}, {\"hovertemplate\": \"Country=Lesotho<br>Year=%{x}<br>Value=%{y}<extra></extra>\", \"legendgroup\": \"Lesotho\", \"line\": {\"color\": \"#FFA15A\", \"dash\": \"solid\"}, \"mode\": \"lines\", \"name\": \"Lesotho\", \"orientation\": \"v\", \"showlegend\": true, \"type\": \"scatter\", \"x\": [2004, 2005, 2006, 2007, 2008, 2009, 2010, 2011, 2012, 2013], \"xaxis\": \"x\", \"y\": [0, 0, 0, 0, 0, 0, 0, 0, 0, 0], \"yaxis\": \"y\"}, {\"hovertemplate\": \"Country=Morocco<br>Year=%{x}<br>Value=%{y}<extra></extra>\", \"legendgroup\": \"Morocco\", \"line\": {\"color\": \"#19d3f3\", \"dash\": \"solid\"}, \"mode\": \"lines\", \"name\": \"Morocco\", \"orientation\": \"v\", \"showlegend\": true, \"type\": \"scatter\", \"x\": [2004, 2005, 2006, 2007, 2008, 2009, 2010, 2011, 2012, 2013], \"xaxis\": \"x\", \"y\": [17, 16, 17, 6, 16, 25, 37, 96, 56, 46], \"yaxis\": \"y\"}, {\"hovertemplate\": \"Country=South Africa<br>Year=%{x}<br>Value=%{y}<extra></extra>\", \"legendgroup\": \"South Africa\", \"line\": {\"color\": \"#FF6692\", \"dash\": \"solid\"}, \"mode\": \"lines\", \"name\": \"South Africa\", \"orientation\": \"v\", \"showlegend\": true, \"type\": \"scatter\", \"x\": [2004, 2005, 2006, 2007, 2008, 2009, 2010, 2011, 2012, 2013], \"xaxis\": \"x\", \"y\": [37, 34, 44, 42, 27, 37, 34, 66, 57, 28], \"yaxis\": \"y\"}, {\"hovertemplate\": \"Country=Tunisia<br>Year=%{x}<br>Value=%{y}<extra></extra>\", \"legendgroup\": \"Tunisia\", \"line\": {\"color\": \"#B6E880\", \"dash\": \"solid\"}, \"mode\": \"lines\", \"name\": \"Tunisia\", \"orientation\": \"v\", \"showlegend\": true, \"type\": \"scatter\", \"x\": [2004, 2005, 2006, 2007, 2008, 2009, 2010, 2011, 2012, 2013], \"xaxis\": \"x\", \"y\": [1, 1, 1, 1, 1, 2, 2, 2, 2, 2], \"yaxis\": \"y\"}, {\"hovertemplate\": \"Country=Zimbabwe<br>Year=%{x}<br>Value=%{y}<extra></extra>\", \"legendgroup\": \"Zimbabwe\", \"line\": {\"color\": \"#FF97FF\", \"dash\": \"solid\"}, \"mode\": \"lines\", \"name\": \"Zimbabwe\", \"orientation\": \"v\", \"showlegend\": true, \"type\": \"scatter\", \"x\": [2004, 2005, 2006, 2007, 2008, 2009, 2010, 2011, 2012, 2013], \"xaxis\": \"x\", \"y\": [1, 1, 1, 1, 1, 1, 1, 1, 1, 1], \"yaxis\": \"y\"}],\n",
       "                        {\"legend\": {\"title\": {\"text\": \"Country\"}, \"tracegroupgap\": 0}, \"template\": {\"data\": {\"bar\": [{\"error_x\": {\"color\": \"#2a3f5f\"}, \"error_y\": {\"color\": \"#2a3f5f\"}, \"marker\": {\"line\": {\"color\": \"#E5ECF6\", \"width\": 0.5}}, \"type\": \"bar\"}], \"barpolar\": [{\"marker\": {\"line\": {\"color\": \"#E5ECF6\", \"width\": 0.5}}, \"type\": \"barpolar\"}], \"carpet\": [{\"aaxis\": {\"endlinecolor\": \"#2a3f5f\", \"gridcolor\": \"white\", \"linecolor\": \"white\", \"minorgridcolor\": \"white\", \"startlinecolor\": \"#2a3f5f\"}, \"baxis\": {\"endlinecolor\": \"#2a3f5f\", \"gridcolor\": \"white\", \"linecolor\": \"white\", \"minorgridcolor\": \"white\", \"startlinecolor\": \"#2a3f5f\"}, \"type\": \"carpet\"}], \"choropleth\": [{\"colorbar\": {\"outlinewidth\": 0, \"ticks\": \"\"}, \"type\": \"choropleth\"}], \"contour\": [{\"colorbar\": {\"outlinewidth\": 0, \"ticks\": \"\"}, \"colorscale\": [[0.0, \"#0d0887\"], [0.1111111111111111, \"#46039f\"], [0.2222222222222222, \"#7201a8\"], [0.3333333333333333, \"#9c179e\"], [0.4444444444444444, \"#bd3786\"], [0.5555555555555556, \"#d8576b\"], [0.6666666666666666, \"#ed7953\"], [0.7777777777777778, \"#fb9f3a\"], [0.8888888888888888, \"#fdca26\"], [1.0, \"#f0f921\"]], \"type\": \"contour\"}], \"contourcarpet\": [{\"colorbar\": {\"outlinewidth\": 0, \"ticks\": \"\"}, \"type\": \"contourcarpet\"}], \"heatmap\": [{\"colorbar\": {\"outlinewidth\": 0, \"ticks\": \"\"}, \"colorscale\": [[0.0, \"#0d0887\"], [0.1111111111111111, \"#46039f\"], [0.2222222222222222, \"#7201a8\"], [0.3333333333333333, \"#9c179e\"], [0.4444444444444444, \"#bd3786\"], [0.5555555555555556, \"#d8576b\"], [0.6666666666666666, \"#ed7953\"], [0.7777777777777778, \"#fb9f3a\"], [0.8888888888888888, \"#fdca26\"], [1.0, \"#f0f921\"]], \"type\": \"heatmap\"}], \"heatmapgl\": [{\"colorbar\": {\"outlinewidth\": 0, \"ticks\": \"\"}, \"colorscale\": [[0.0, \"#0d0887\"], [0.1111111111111111, \"#46039f\"], [0.2222222222222222, \"#7201a8\"], [0.3333333333333333, \"#9c179e\"], [0.4444444444444444, \"#bd3786\"], [0.5555555555555556, \"#d8576b\"], [0.6666666666666666, \"#ed7953\"], [0.7777777777777778, \"#fb9f3a\"], [0.8888888888888888, \"#fdca26\"], [1.0, \"#f0f921\"]], \"type\": \"heatmapgl\"}], \"histogram\": [{\"marker\": {\"colorbar\": {\"outlinewidth\": 0, \"ticks\": \"\"}}, \"type\": \"histogram\"}], \"histogram2d\": [{\"colorbar\": {\"outlinewidth\": 0, \"ticks\": \"\"}, \"colorscale\": [[0.0, \"#0d0887\"], [0.1111111111111111, \"#46039f\"], [0.2222222222222222, \"#7201a8\"], [0.3333333333333333, \"#9c179e\"], [0.4444444444444444, \"#bd3786\"], [0.5555555555555556, \"#d8576b\"], [0.6666666666666666, \"#ed7953\"], [0.7777777777777778, \"#fb9f3a\"], [0.8888888888888888, \"#fdca26\"], [1.0, \"#f0f921\"]], \"type\": \"histogram2d\"}], \"histogram2dcontour\": [{\"colorbar\": {\"outlinewidth\": 0, \"ticks\": \"\"}, \"colorscale\": [[0.0, \"#0d0887\"], [0.1111111111111111, \"#46039f\"], [0.2222222222222222, \"#7201a8\"], [0.3333333333333333, \"#9c179e\"], [0.4444444444444444, \"#bd3786\"], [0.5555555555555556, \"#d8576b\"], [0.6666666666666666, \"#ed7953\"], [0.7777777777777778, \"#fb9f3a\"], [0.8888888888888888, \"#fdca26\"], [1.0, \"#f0f921\"]], \"type\": \"histogram2dcontour\"}], \"mesh3d\": [{\"colorbar\": {\"outlinewidth\": 0, \"ticks\": \"\"}, \"type\": \"mesh3d\"}], \"parcoords\": [{\"line\": {\"colorbar\": {\"outlinewidth\": 0, \"ticks\": \"\"}}, \"type\": \"parcoords\"}], \"pie\": [{\"automargin\": true, \"type\": \"pie\"}], \"scatter\": [{\"marker\": {\"colorbar\": {\"outlinewidth\": 0, \"ticks\": \"\"}}, \"type\": \"scatter\"}], \"scatter3d\": [{\"line\": {\"colorbar\": {\"outlinewidth\": 0, \"ticks\": \"\"}}, \"marker\": {\"colorbar\": {\"outlinewidth\": 0, \"ticks\": \"\"}}, \"type\": \"scatter3d\"}], \"scattercarpet\": [{\"marker\": {\"colorbar\": {\"outlinewidth\": 0, \"ticks\": \"\"}}, \"type\": \"scattercarpet\"}], \"scattergeo\": [{\"marker\": {\"colorbar\": {\"outlinewidth\": 0, \"ticks\": \"\"}}, \"type\": \"scattergeo\"}], \"scattergl\": [{\"marker\": {\"colorbar\": {\"outlinewidth\": 0, \"ticks\": \"\"}}, \"type\": \"scattergl\"}], \"scattermapbox\": [{\"marker\": {\"colorbar\": {\"outlinewidth\": 0, \"ticks\": \"\"}}, \"type\": \"scattermapbox\"}], \"scatterpolar\": [{\"marker\": {\"colorbar\": {\"outlinewidth\": 0, \"ticks\": \"\"}}, \"type\": \"scatterpolar\"}], \"scatterpolargl\": [{\"marker\": {\"colorbar\": {\"outlinewidth\": 0, \"ticks\": \"\"}}, \"type\": \"scatterpolargl\"}], \"scatterternary\": [{\"marker\": {\"colorbar\": {\"outlinewidth\": 0, \"ticks\": \"\"}}, \"type\": \"scatterternary\"}], \"surface\": [{\"colorbar\": {\"outlinewidth\": 0, \"ticks\": \"\"}, \"colorscale\": [[0.0, \"#0d0887\"], [0.1111111111111111, \"#46039f\"], [0.2222222222222222, \"#7201a8\"], [0.3333333333333333, \"#9c179e\"], [0.4444444444444444, \"#bd3786\"], [0.5555555555555556, \"#d8576b\"], [0.6666666666666666, \"#ed7953\"], [0.7777777777777778, \"#fb9f3a\"], [0.8888888888888888, \"#fdca26\"], [1.0, \"#f0f921\"]], \"type\": \"surface\"}], \"table\": [{\"cells\": {\"fill\": {\"color\": \"#EBF0F8\"}, \"line\": {\"color\": \"white\"}}, \"header\": {\"fill\": {\"color\": \"#C8D4E3\"}, \"line\": {\"color\": \"white\"}}, \"type\": \"table\"}]}, \"layout\": {\"annotationdefaults\": {\"arrowcolor\": \"#2a3f5f\", \"arrowhead\": 0, \"arrowwidth\": 1}, \"coloraxis\": {\"colorbar\": {\"outlinewidth\": 0, \"ticks\": \"\"}}, \"colorscale\": {\"diverging\": [[0, \"#8e0152\"], [0.1, \"#c51b7d\"], [0.2, \"#de77ae\"], [0.3, \"#f1b6da\"], [0.4, \"#fde0ef\"], [0.5, \"#f7f7f7\"], [0.6, \"#e6f5d0\"], [0.7, \"#b8e186\"], [0.8, \"#7fbc41\"], [0.9, \"#4d9221\"], [1, \"#276419\"]], \"sequential\": [[0.0, \"#0d0887\"], [0.1111111111111111, \"#46039f\"], [0.2222222222222222, \"#7201a8\"], [0.3333333333333333, \"#9c179e\"], [0.4444444444444444, \"#bd3786\"], [0.5555555555555556, \"#d8576b\"], [0.6666666666666666, \"#ed7953\"], [0.7777777777777778, \"#fb9f3a\"], [0.8888888888888888, \"#fdca26\"], [1.0, \"#f0f921\"]], \"sequentialminus\": [[0.0, \"#0d0887\"], [0.1111111111111111, \"#46039f\"], [0.2222222222222222, \"#7201a8\"], [0.3333333333333333, \"#9c179e\"], [0.4444444444444444, \"#bd3786\"], [0.5555555555555556, \"#d8576b\"], [0.6666666666666666, \"#ed7953\"], [0.7777777777777778, \"#fb9f3a\"], [0.8888888888888888, \"#fdca26\"], [1.0, \"#f0f921\"]]}, \"colorway\": [\"#636efa\", \"#EF553B\", \"#00cc96\", \"#ab63fa\", \"#FFA15A\", \"#19d3f3\", \"#FF6692\", \"#B6E880\", \"#FF97FF\", \"#FECB52\"], \"font\": {\"color\": \"#2a3f5f\"}, \"geo\": {\"bgcolor\": \"white\", \"lakecolor\": \"white\", \"landcolor\": \"#E5ECF6\", \"showlakes\": true, \"showland\": true, \"subunitcolor\": \"white\"}, \"hoverlabel\": {\"align\": \"left\"}, \"hovermode\": \"closest\", \"mapbox\": {\"style\": \"light\"}, \"paper_bgcolor\": \"white\", \"plot_bgcolor\": \"#E5ECF6\", \"polar\": {\"angularaxis\": {\"gridcolor\": \"white\", \"linecolor\": \"white\", \"ticks\": \"\"}, \"bgcolor\": \"#E5ECF6\", \"radialaxis\": {\"gridcolor\": \"white\", \"linecolor\": \"white\", \"ticks\": \"\"}}, \"scene\": {\"xaxis\": {\"backgroundcolor\": \"#E5ECF6\", \"gridcolor\": \"white\", \"gridwidth\": 2, \"linecolor\": \"white\", \"showbackground\": true, \"ticks\": \"\", \"zerolinecolor\": \"white\"}, \"yaxis\": {\"backgroundcolor\": \"#E5ECF6\", \"gridcolor\": \"white\", \"gridwidth\": 2, \"linecolor\": \"white\", \"showbackground\": true, \"ticks\": \"\", \"zerolinecolor\": \"white\"}, \"zaxis\": {\"backgroundcolor\": \"#E5ECF6\", \"gridcolor\": \"white\", \"gridwidth\": 2, \"linecolor\": \"white\", \"showbackground\": true, \"ticks\": \"\", \"zerolinecolor\": \"white\"}}, \"shapedefaults\": {\"line\": {\"color\": \"#2a3f5f\"}}, \"ternary\": {\"aaxis\": {\"gridcolor\": \"white\", \"linecolor\": \"white\", \"ticks\": \"\"}, \"baxis\": {\"gridcolor\": \"white\", \"linecolor\": \"white\", \"ticks\": \"\"}, \"bgcolor\": \"#E5ECF6\", \"caxis\": {\"gridcolor\": \"white\", \"linecolor\": \"white\", \"ticks\": \"\"}}, \"title\": {\"x\": 0.05}, \"xaxis\": {\"automargin\": true, \"gridcolor\": \"white\", \"linecolor\": \"white\", \"ticks\": \"\", \"title\": {\"standoff\": 15}, \"zerolinecolor\": \"white\", \"zerolinewidth\": 2}, \"yaxis\": {\"automargin\": true, \"gridcolor\": \"white\", \"linecolor\": \"white\", \"ticks\": \"\", \"title\": {\"standoff\": 15}, \"zerolinecolor\": \"white\", \"zerolinewidth\": 2}}}, \"title\": {\"text\": \"Africa Food Products\"}, \"xaxis\": {\"anchor\": \"y\", \"domain\": [0.0, 1.0], \"title\": {\"text\": \"Year\"}}, \"yaxis\": {\"anchor\": \"x\", \"domain\": [0.0, 1.0], \"title\": {\"text\": \"Value\"}}},\n",
       "                        {\"responsive\": true}\n",
       "                    ).then(function(){\n",
       "                            \n",
       "var gd = document.getElementById('fcf80f26-5b20-4d71-a271-3f620e844eee');\n",
       "var x = new MutationObserver(function (mutations, observer) {{\n",
       "        var display = window.getComputedStyle(gd).display;\n",
       "        if (!display || display === 'none') {{\n",
       "            console.log([gd, 'removed!']);\n",
       "            Plotly.purge(gd);\n",
       "            observer.disconnect();\n",
       "        }}\n",
       "}});\n",
       "\n",
       "// Listen for the removal of the full notebook cells\n",
       "var notebookContainer = gd.closest('#notebook-container');\n",
       "if (notebookContainer) {{\n",
       "    x.observe(notebookContainer, {childList: true});\n",
       "}}\n",
       "\n",
       "// Listen for the clearing of the current output cell\n",
       "var outputEl = gd.closest('.output');\n",
       "if (outputEl) {{\n",
       "    x.observe(outputEl, {childList: true});\n",
       "}}\n",
       "\n",
       "                        })\n",
       "                };\n",
       "                });\n",
       "            </script>\n",
       "        </div>"
      ]
     },
     "metadata": {},
     "output_type": "display_data"
    }
   ],
   "source": [
    "import plotly.express as px\n",
    "fig = px.line(oathigh, x='Year', y='Value', color='Country', title = 'Africa Food Products')\n",
    "fig.show()"
   ]
  },
  {
   "cell_type": "markdown",
   "metadata": {},
   "source": [
    "From the plot above we can see that Algeria produces the highest Oat in 2010"
   ]
  },
  {
   "cell_type": "markdown",
   "metadata": {},
   "source": [
    "2. \n",
    "What three countries have produced the highest total quantity of rice from 2004 to 2013?"
   ]
  },
  {
   "cell_type": "code",
   "execution_count": 19,
   "metadata": {},
   "outputs": [
    {
     "data": {
      "text/html": [
       "<div>\n",
       "<style scoped>\n",
       "    .dataframe tbody tr th:only-of-type {\n",
       "        vertical-align: middle;\n",
       "    }\n",
       "\n",
       "    .dataframe tbody tr th {\n",
       "        vertical-align: top;\n",
       "    }\n",
       "\n",
       "    .dataframe thead th {\n",
       "        text-align: right;\n",
       "    }\n",
       "</style>\n",
       "<table border=\"1\" class=\"dataframe\">\n",
       "  <thead>\n",
       "    <tr style=\"text-align: right;\">\n",
       "      <th></th>\n",
       "      <th>Country</th>\n",
       "      <th>Item</th>\n",
       "      <th>Year</th>\n",
       "      <th>Value</th>\n",
       "    </tr>\n",
       "  </thead>\n",
       "  <tbody>\n",
       "    <tr>\n",
       "      <th>10</th>\n",
       "      <td>Algeria</td>\n",
       "      <td>Rice (Milled Equivalent)</td>\n",
       "      <td>2004</td>\n",
       "      <td>0</td>\n",
       "    </tr>\n",
       "    <tr>\n",
       "      <th>11</th>\n",
       "      <td>Algeria</td>\n",
       "      <td>Rice (Milled Equivalent)</td>\n",
       "      <td>2005</td>\n",
       "      <td>0</td>\n",
       "    </tr>\n",
       "    <tr>\n",
       "      <th>12</th>\n",
       "      <td>Algeria</td>\n",
       "      <td>Rice (Milled Equivalent)</td>\n",
       "      <td>2006</td>\n",
       "      <td>0</td>\n",
       "    </tr>\n",
       "    <tr>\n",
       "      <th>13</th>\n",
       "      <td>Algeria</td>\n",
       "      <td>Rice (Milled Equivalent)</td>\n",
       "      <td>2007</td>\n",
       "      <td>0</td>\n",
       "    </tr>\n",
       "    <tr>\n",
       "      <th>14</th>\n",
       "      <td>Algeria</td>\n",
       "      <td>Rice (Milled Equivalent)</td>\n",
       "      <td>2008</td>\n",
       "      <td>0</td>\n",
       "    </tr>\n",
       "    <tr>\n",
       "      <th>15</th>\n",
       "      <td>Algeria</td>\n",
       "      <td>Rice (Milled Equivalent)</td>\n",
       "      <td>2009</td>\n",
       "      <td>0</td>\n",
       "    </tr>\n",
       "    <tr>\n",
       "      <th>16</th>\n",
       "      <td>Algeria</td>\n",
       "      <td>Rice (Milled Equivalent)</td>\n",
       "      <td>2010</td>\n",
       "      <td>0</td>\n",
       "    </tr>\n",
       "    <tr>\n",
       "      <th>17</th>\n",
       "      <td>Algeria</td>\n",
       "      <td>Rice (Milled Equivalent)</td>\n",
       "      <td>2011</td>\n",
       "      <td>0</td>\n",
       "    </tr>\n",
       "    <tr>\n",
       "      <th>18</th>\n",
       "      <td>Algeria</td>\n",
       "      <td>Rice (Milled Equivalent)</td>\n",
       "      <td>2012</td>\n",
       "      <td>0</td>\n",
       "    </tr>\n",
       "    <tr>\n",
       "      <th>19</th>\n",
       "      <td>Algeria</td>\n",
       "      <td>Rice (Milled Equivalent)</td>\n",
       "      <td>2013</td>\n",
       "      <td>0</td>\n",
       "    </tr>\n",
       "    <tr>\n",
       "      <th>590</th>\n",
       "      <td>Angola</td>\n",
       "      <td>Rice (Milled Equivalent)</td>\n",
       "      <td>2004</td>\n",
       "      <td>9</td>\n",
       "    </tr>\n",
       "    <tr>\n",
       "      <th>591</th>\n",
       "      <td>Angola</td>\n",
       "      <td>Rice (Milled Equivalent)</td>\n",
       "      <td>2005</td>\n",
       "      <td>6</td>\n",
       "    </tr>\n",
       "    <tr>\n",
       "      <th>592</th>\n",
       "      <td>Angola</td>\n",
       "      <td>Rice (Milled Equivalent)</td>\n",
       "      <td>2006</td>\n",
       "      <td>3</td>\n",
       "    </tr>\n",
       "    <tr>\n",
       "      <th>593</th>\n",
       "      <td>Angola</td>\n",
       "      <td>Rice (Milled Equivalent)</td>\n",
       "      <td>2007</td>\n",
       "      <td>3</td>\n",
       "    </tr>\n",
       "    <tr>\n",
       "      <th>594</th>\n",
       "      <td>Angola</td>\n",
       "      <td>Rice (Milled Equivalent)</td>\n",
       "      <td>2008</td>\n",
       "      <td>6</td>\n",
       "    </tr>\n",
       "    <tr>\n",
       "      <th>595</th>\n",
       "      <td>Angola</td>\n",
       "      <td>Rice (Milled Equivalent)</td>\n",
       "      <td>2009</td>\n",
       "      <td>10</td>\n",
       "    </tr>\n",
       "    <tr>\n",
       "      <th>596</th>\n",
       "      <td>Angola</td>\n",
       "      <td>Rice (Milled Equivalent)</td>\n",
       "      <td>2010</td>\n",
       "      <td>12</td>\n",
       "    </tr>\n",
       "    <tr>\n",
       "      <th>597</th>\n",
       "      <td>Angola</td>\n",
       "      <td>Rice (Milled Equivalent)</td>\n",
       "      <td>2011</td>\n",
       "      <td>15</td>\n",
       "    </tr>\n",
       "    <tr>\n",
       "      <th>598</th>\n",
       "      <td>Angola</td>\n",
       "      <td>Rice (Milled Equivalent)</td>\n",
       "      <td>2012</td>\n",
       "      <td>14</td>\n",
       "    </tr>\n",
       "    <tr>\n",
       "      <th>599</th>\n",
       "      <td>Angola</td>\n",
       "      <td>Rice (Milled Equivalent)</td>\n",
       "      <td>2013</td>\n",
       "      <td>25</td>\n",
       "    </tr>\n",
       "  </tbody>\n",
       "</table>\n",
       "</div>"
      ],
      "text/plain": [
       "     Country                      Item  Year  Value\n",
       "10   Algeria  Rice (Milled Equivalent)  2004      0\n",
       "11   Algeria  Rice (Milled Equivalent)  2005      0\n",
       "12   Algeria  Rice (Milled Equivalent)  2006      0\n",
       "13   Algeria  Rice (Milled Equivalent)  2007      0\n",
       "14   Algeria  Rice (Milled Equivalent)  2008      0\n",
       "15   Algeria  Rice (Milled Equivalent)  2009      0\n",
       "16   Algeria  Rice (Milled Equivalent)  2010      0\n",
       "17   Algeria  Rice (Milled Equivalent)  2011      0\n",
       "18   Algeria  Rice (Milled Equivalent)  2012      0\n",
       "19   Algeria  Rice (Milled Equivalent)  2013      0\n",
       "590   Angola  Rice (Milled Equivalent)  2004      9\n",
       "591   Angola  Rice (Milled Equivalent)  2005      6\n",
       "592   Angola  Rice (Milled Equivalent)  2006      3\n",
       "593   Angola  Rice (Milled Equivalent)  2007      3\n",
       "594   Angola  Rice (Milled Equivalent)  2008      6\n",
       "595   Angola  Rice (Milled Equivalent)  2009     10\n",
       "596   Angola  Rice (Milled Equivalent)  2010     12\n",
       "597   Angola  Rice (Milled Equivalent)  2011     15\n",
       "598   Angola  Rice (Milled Equivalent)  2012     14\n",
       "599   Angola  Rice (Milled Equivalent)  2013     25"
      ]
     },
     "execution_count": 19,
     "metadata": {},
     "output_type": "execute_result"
    }
   ],
   "source": [
    "New_rice = African_product[African_product['Item']=='Rice (Milled Equivalent)']\n",
    "New_rice.head(20)"
   ]
  },
  {
   "cell_type": "code",
   "execution_count": 37,
   "metadata": {},
   "outputs": [
    {
     "data": {
      "application/vnd.plotly.v1+json": {
       "config": {
        "plotlyServerURL": "https://plot.ly"
       },
       "data": [
        {
         "hovertemplate": "Country=Algeria<br>Year=%{x}<br>Value=%{y}<extra></extra>",
         "legendgroup": "Algeria",
         "line": {
          "color": "#636efa",
          "dash": "solid"
         },
         "mode": "lines",
         "name": "Algeria",
         "orientation": "v",
         "showlegend": true,
         "type": "scatter",
         "x": [
          2004,
          2005,
          2006,
          2007,
          2008,
          2009,
          2010,
          2011,
          2012,
          2013
         ],
         "xaxis": "x",
         "y": [
          0,
          0,
          0,
          0,
          0,
          0,
          0,
          0,
          0,
          0
         ],
         "yaxis": "y"
        },
        {
         "hovertemplate": "Country=Angola<br>Year=%{x}<br>Value=%{y}<extra></extra>",
         "legendgroup": "Angola",
         "line": {
          "color": "#EF553B",
          "dash": "solid"
         },
         "mode": "lines",
         "name": "Angola",
         "orientation": "v",
         "showlegend": true,
         "type": "scatter",
         "x": [
          2004,
          2005,
          2006,
          2007,
          2008,
          2009,
          2010,
          2011,
          2012,
          2013
         ],
         "xaxis": "x",
         "y": [
          9,
          6,
          3,
          3,
          6,
          10,
          12,
          15,
          14,
          25
         ],
         "yaxis": "y"
        },
        {
         "hovertemplate": "Country=Benin<br>Year=%{x}<br>Value=%{y}<extra></extra>",
         "legendgroup": "Benin",
         "line": {
          "color": "#00cc96",
          "dash": "solid"
         },
         "mode": "lines",
         "name": "Benin",
         "orientation": "v",
         "showlegend": true,
         "type": "scatter",
         "x": [
          2004,
          2005,
          2006,
          2007,
          2008,
          2009,
          2010,
          2011,
          2012,
          2013
         ],
         "xaxis": "x",
         "y": [
          43,
          52,
          47,
          50,
          70,
          75,
          83,
          146,
          146,
          138
         ],
         "yaxis": "y"
        },
        {
         "hovertemplate": "Country=Burkina Faso<br>Year=%{x}<br>Value=%{y}<extra></extra>",
         "legendgroup": "Burkina Faso",
         "line": {
          "color": "#ab63fa",
          "dash": "solid"
         },
         "mode": "lines",
         "name": "Burkina Faso",
         "orientation": "v",
         "showlegend": true,
         "type": "scatter",
         "x": [
          2004,
          2005,
          2006,
          2007,
          2008,
          2009,
          2010,
          2011,
          2012,
          2013
         ],
         "xaxis": "x",
         "y": [
          50,
          62,
          76,
          46,
          130,
          142,
          181,
          161,
          213,
          204
         ],
         "yaxis": "y"
        },
        {
         "hovertemplate": "Country=Cameroon<br>Year=%{x}<br>Value=%{y}<extra></extra>",
         "legendgroup": "Cameroon",
         "line": {
          "color": "#FFA15A",
          "dash": "solid"
         },
         "mode": "lines",
         "name": "Cameroon",
         "orientation": "v",
         "showlegend": true,
         "type": "scatter",
         "x": [
          2004,
          2005,
          2006,
          2007,
          2008,
          2009,
          2010,
          2011,
          2012,
          2013
         ],
         "xaxis": "x",
         "y": [
          33,
          39,
          43,
          46,
          48,
          90,
          102,
          116,
          121,
          129
         ],
         "yaxis": "y"
        },
        {
         "hovertemplate": "Country=Central African Republic<br>Year=%{x}<br>Value=%{y}<extra></extra>",
         "legendgroup": "Central African Republic",
         "line": {
          "color": "#19d3f3",
          "dash": "solid"
         },
         "mode": "lines",
         "name": "Central African Republic",
         "orientation": "v",
         "showlegend": true,
         "type": "scatter",
         "x": [
          2004,
          2005,
          2006,
          2007,
          2008,
          2009,
          2010,
          2011,
          2012,
          2013
         ],
         "xaxis": "x",
         "y": [
          21,
          31,
          27,
          25,
          25,
          26,
          26,
          27,
          28,
          25
         ],
         "yaxis": "y"
        },
        {
         "hovertemplate": "Country=Chad<br>Year=%{x}<br>Value=%{y}<extra></extra>",
         "legendgroup": "Chad",
         "line": {
          "color": "#FF6692",
          "dash": "solid"
         },
         "mode": "lines",
         "name": "Chad",
         "orientation": "v",
         "showlegend": true,
         "type": "scatter",
         "x": [
          2004,
          2005,
          2006,
          2007,
          2008,
          2009,
          2010,
          2011,
          2012,
          2013
         ],
         "xaxis": "x",
         "y": [
          61,
          99,
          71,
          71,
          113,
          117,
          113,
          115,
          187,
          220
         ],
         "yaxis": "y"
        },
        {
         "hovertemplate": "Country=Congo<br>Year=%{x}<br>Value=%{y}<extra></extra>",
         "legendgroup": "Congo",
         "line": {
          "color": "#B6E880",
          "dash": "solid"
         },
         "mode": "lines",
         "name": "Congo",
         "orientation": "v",
         "showlegend": true,
         "type": "scatter",
         "x": [
          2004,
          2005,
          2006,
          2007,
          2008,
          2009,
          2010,
          2011,
          2012,
          2013
         ],
         "xaxis": "x",
         "y": [
          1,
          1,
          1,
          1,
          1,
          1,
          1,
          1,
          1,
          1
         ],
         "yaxis": "y"
        },
        {
         "hovertemplate": "Country=Cote d'Ivoire<br>Year=%{x}<br>Value=%{y}<extra></extra>",
         "legendgroup": "Cote d'Ivoire",
         "line": {
          "color": "#FF97FF",
          "dash": "solid"
         },
         "mode": "lines",
         "name": "Cote d'Ivoire",
         "orientation": "v",
         "showlegend": true,
         "type": "scatter",
         "x": [
          2004,
          2005,
          2006,
          2007,
          2008,
          2009,
          2010,
          2011,
          2012,
          2013
         ],
         "xaxis": "x",
         "y": [
          455,
          470,
          478,
          404,
          454,
          459,
          805,
          582,
          1042,
          1290
         ],
         "yaxis": "y"
        },
        {
         "hovertemplate": "Country=Egypt<br>Year=%{x}<br>Value=%{y}<extra></extra>",
         "legendgroup": "Egypt",
         "line": {
          "color": "#FECB52",
          "dash": "solid"
         },
         "mode": "lines",
         "name": "Egypt",
         "orientation": "v",
         "showlegend": true,
         "type": "scatter",
         "x": [
          2004,
          2005,
          2006,
          2007,
          2008,
          2009,
          2010,
          2011,
          2012,
          2013
         ],
         "xaxis": "x",
         "y": [
          4237,
          4086,
          4506,
          4587,
          4838,
          3682,
          2888,
          3785,
          3943,
          3818
         ],
         "yaxis": "y"
        },
        {
         "hovertemplate": "Country=Ethiopia<br>Year=%{x}<br>Value=%{y}<extra></extra>",
         "legendgroup": "Ethiopia",
         "line": {
          "color": "#636efa",
          "dash": "solid"
         },
         "mode": "lines",
         "name": "Ethiopia",
         "orientation": "v",
         "showlegend": true,
         "type": "scatter",
         "x": [
          2004,
          2005,
          2006,
          2007,
          2008,
          2009,
          2010,
          2011,
          2012,
          2013
         ],
         "xaxis": "x",
         "y": [
          8,
          7,
          7,
          7,
          48,
          69,
          60,
          59,
          81,
          123
         ],
         "yaxis": "y"
        },
        {
         "hovertemplate": "Country=Gabon<br>Year=%{x}<br>Value=%{y}<extra></extra>",
         "legendgroup": "Gabon",
         "line": {
          "color": "#EF553B",
          "dash": "solid"
         },
         "mode": "lines",
         "name": "Gabon",
         "orientation": "v",
         "showlegend": true,
         "type": "scatter",
         "x": [
          2004,
          2005,
          2006,
          2007,
          2008,
          2009,
          2010,
          2011,
          2012,
          2013
         ],
         "xaxis": "x",
         "y": [
          1,
          1,
          1,
          1,
          1,
          1,
          1,
          1,
          1,
          1
         ],
         "yaxis": "y"
        },
        {
         "hovertemplate": "Country=Gambia<br>Year=%{x}<br>Value=%{y}<extra></extra>",
         "legendgroup": "Gambia",
         "line": {
          "color": "#00cc96",
          "dash": "solid"
         },
         "mode": "lines",
         "name": "Gambia",
         "orientation": "v",
         "showlegend": true,
         "type": "scatter",
         "x": [
          2004,
          2005,
          2006,
          2007,
          2008,
          2009,
          2010,
          2011,
          2012,
          2013
         ],
         "xaxis": "x",
         "y": [
          22,
          12,
          21,
          8,
          26,
          53,
          67,
          34,
          36,
          46
         ],
         "yaxis": "y"
        },
        {
         "hovertemplate": "Country=Ghana<br>Year=%{x}<br>Value=%{y}<extra></extra>",
         "legendgroup": "Ghana",
         "line": {
          "color": "#ab63fa",
          "dash": "solid"
         },
         "mode": "lines",
         "name": "Ghana",
         "orientation": "v",
         "showlegend": true,
         "type": "scatter",
         "x": [
          2004,
          2005,
          2006,
          2007,
          2008,
          2009,
          2010,
          2011,
          2012,
          2013
         ],
         "xaxis": "x",
         "y": [
          161,
          191,
          167,
          124,
          201,
          261,
          328,
          309,
          321,
          380
         ],
         "yaxis": "y"
        },
        {
         "hovertemplate": "Country=Guinea<br>Year=%{x}<br>Value=%{y}<extra></extra>",
         "legendgroup": "Guinea",
         "line": {
          "color": "#FFA15A",
          "dash": "solid"
         },
         "mode": "lines",
         "name": "Guinea",
         "orientation": "v",
         "showlegend": true,
         "type": "scatter",
         "x": [
          2004,
          2005,
          2006,
          2007,
          2008,
          2009,
          2010,
          2011,
          2012,
          2013
         ],
         "xaxis": "x",
         "y": [
          806,
          849,
          894,
          935,
          1023,
          971,
          1076,
          1196,
          1280,
          1370
         ],
         "yaxis": "y"
        },
        {
         "hovertemplate": "Country=Guinea-Bissau<br>Year=%{x}<br>Value=%{y}<extra></extra>",
         "legendgroup": "Guinea-Bissau",
         "line": {
          "color": "#19d3f3",
          "dash": "solid"
         },
         "mode": "lines",
         "name": "Guinea-Bissau",
         "orientation": "v",
         "showlegend": true,
         "type": "scatter",
         "x": [
          2004,
          2005,
          2006,
          2007,
          2008,
          2009,
          2010,
          2011,
          2012,
          2013
         ],
         "xaxis": "x",
         "y": [
          59,
          66,
          71,
          85,
          99,
          121,
          140,
          117,
          132,
          140
         ],
         "yaxis": "y"
        },
        {
         "hovertemplate": "Country=Kenya<br>Year=%{x}<br>Value=%{y}<extra></extra>",
         "legendgroup": "Kenya",
         "line": {
          "color": "#FF6692",
          "dash": "solid"
         },
         "mode": "lines",
         "name": "Kenya",
         "orientation": "v",
         "showlegend": true,
         "type": "scatter",
         "x": [
          2004,
          2005,
          2006,
          2007,
          2008,
          2009,
          2010,
          2011,
          2012,
          2013
         ],
         "xaxis": "x",
         "y": [
          33,
          42,
          43,
          32,
          15,
          28,
          57,
          74,
          82,
          98
         ],
         "yaxis": "y"
        },
        {
         "hovertemplate": "Country=Liberia<br>Year=%{x}<br>Value=%{y}<extra></extra>",
         "legendgroup": "Liberia",
         "line": {
          "color": "#B6E880",
          "dash": "solid"
         },
         "mode": "lines",
         "name": "Liberia",
         "orientation": "v",
         "showlegend": true,
         "type": "scatter",
         "x": [
          2004,
          2005,
          2006,
          2007,
          2008,
          2009,
          2010,
          2011,
          2012,
          2013
         ],
         "xaxis": "x",
         "y": [
          73,
          103,
          109,
          155,
          197,
          195,
          197,
          199,
          194,
          180
         ],
         "yaxis": "y"
        },
        {
         "hovertemplate": "Country=Madagascar<br>Year=%{x}<br>Value=%{y}<extra></extra>",
         "legendgroup": "Madagascar",
         "line": {
          "color": "#FF97FF",
          "dash": "solid"
         },
         "mode": "lines",
         "name": "Madagascar",
         "orientation": "v",
         "showlegend": true,
         "type": "scatter",
         "x": [
          2004,
          2005,
          2006,
          2007,
          2008,
          2009,
          2010,
          2011,
          2012,
          2013
         ],
         "xaxis": "x",
         "y": [
          2021,
          2263,
          2326,
          2398,
          2611,
          3028,
          3160,
          2868,
          3035,
          2408
         ],
         "yaxis": "y"
        },
        {
         "hovertemplate": "Country=Malawi<br>Year=%{x}<br>Value=%{y}<extra></extra>",
         "legendgroup": "Malawi",
         "line": {
          "color": "#FECB52",
          "dash": "solid"
         },
         "mode": "lines",
         "name": "Malawi",
         "orientation": "v",
         "showlegend": true,
         "type": "scatter",
         "x": [
          2004,
          2005,
          2006,
          2007,
          2008,
          2009,
          2010,
          2011,
          2012,
          2013
         ],
         "xaxis": "x",
         "y": [
          33,
          28,
          61,
          75,
          77,
          91,
          73,
          79,
          74,
          83
         ],
         "yaxis": "y"
        },
        {
         "hovertemplate": "Country=Mali<br>Year=%{x}<br>Value=%{y}<extra></extra>",
         "legendgroup": "Mali",
         "line": {
          "color": "#636efa",
          "dash": "solid"
         },
         "mode": "lines",
         "name": "Mali",
         "orientation": "v",
         "showlegend": true,
         "type": "scatter",
         "x": [
          2004,
          2005,
          2006,
          2007,
          2008,
          2009,
          2010,
          2011,
          2012,
          2013
         ],
         "xaxis": "x",
         "y": [
          479,
          631,
          703,
          722,
          1083,
          1301,
          1538,
          1162,
          1277,
          1475
         ],
         "yaxis": "y"
        },
        {
         "hovertemplate": "Country=Mauritania<br>Year=%{x}<br>Value=%{y}<extra></extra>",
         "legendgroup": "Mauritania",
         "line": {
          "color": "#EF553B",
          "dash": "solid"
         },
         "mode": "lines",
         "name": "Mauritania",
         "orientation": "v",
         "showlegend": true,
         "type": "scatter",
         "x": [
          2004,
          2005,
          2006,
          2007,
          2008,
          2009,
          2010,
          2011,
          2012,
          2013
         ],
         "xaxis": "x",
         "y": [
          57,
          48,
          47,
          55,
          55,
          36,
          90,
          105,
          123,
          135
         ],
         "yaxis": "y"
        },
        {
         "hovertemplate": "Country=Mauritius<br>Year=%{x}<br>Value=%{y}<extra></extra>",
         "legendgroup": "Mauritius",
         "line": {
          "color": "#00cc96",
          "dash": "solid"
         },
         "mode": "lines",
         "name": "Mauritius",
         "orientation": "v",
         "showlegend": true,
         "type": "scatter",
         "x": [
          2004,
          2005,
          2006,
          2007,
          2008,
          2009,
          2010,
          2011,
          2012,
          2013
         ],
         "xaxis": "x",
         "y": [
          0,
          0,
          0,
          0,
          0,
          0,
          0,
          0,
          1,
          0
         ],
         "yaxis": "y"
        },
        {
         "hovertemplate": "Country=Morocco<br>Year=%{x}<br>Value=%{y}<extra></extra>",
         "legendgroup": "Morocco",
         "line": {
          "color": "#ab63fa",
          "dash": "solid"
         },
         "mode": "lines",
         "name": "Morocco",
         "orientation": "v",
         "showlegend": true,
         "type": "scatter",
         "x": [
          2004,
          2005,
          2006,
          2007,
          2008,
          2009,
          2010,
          2011,
          2012,
          2013
         ],
         "xaxis": "x",
         "y": [
          20,
          29,
          23,
          22,
          30,
          33,
          34,
          12,
          46,
          25
         ],
         "yaxis": "y"
        },
        {
         "hovertemplate": "Country=Mozambique<br>Year=%{x}<br>Value=%{y}<extra></extra>",
         "legendgroup": "Mozambique",
         "line": {
          "color": "#FFA15A",
          "dash": "solid"
         },
         "mode": "lines",
         "name": "Mozambique",
         "orientation": "v",
         "showlegend": true,
         "type": "scatter",
         "x": [
          2004,
          2005,
          2006,
          2007,
          2008,
          2009,
          2010,
          2011,
          2012,
          2013
         ],
         "xaxis": "x",
         "y": [
          61,
          43,
          65,
          69,
          68,
          119,
          172,
          181,
          98,
          234
         ],
         "yaxis": "y"
        },
        {
         "hovertemplate": "Country=Niger<br>Year=%{x}<br>Value=%{y}<extra></extra>",
         "legendgroup": "Niger",
         "line": {
          "color": "#19d3f3",
          "dash": "solid"
         },
         "mode": "lines",
         "name": "Niger",
         "orientation": "v",
         "showlegend": true,
         "type": "scatter",
         "x": [
          2004,
          2005,
          2006,
          2007,
          2008,
          2009,
          2010,
          2011,
          2012,
          2013
         ],
         "xaxis": "x",
         "y": [
          52,
          40,
          52,
          47,
          22,
          13,
          20,
          8,
          4,
          9
         ],
         "yaxis": "y"
        },
        {
         "hovertemplate": "Country=Nigeria<br>Year=%{x}<br>Value=%{y}<extra></extra>",
         "legendgroup": "Nigeria",
         "line": {
          "color": "#FF6692",
          "dash": "solid"
         },
         "mode": "lines",
         "name": "Nigeria",
         "orientation": "v",
         "showlegend": true,
         "type": "scatter",
         "x": [
          2004,
          2005,
          2006,
          2007,
          2008,
          2009,
          2010,
          2011,
          2012,
          2013
         ],
         "xaxis": "x",
         "y": [
          2224,
          2379,
          2696,
          2125,
          2787,
          2365,
          2983,
          3046,
          3224,
          3135
         ],
         "yaxis": "y"
        },
        {
         "hovertemplate": "Country=Rwanda<br>Year=%{x}<br>Value=%{y}<extra></extra>",
         "legendgroup": "Rwanda",
         "line": {
          "color": "#B6E880",
          "dash": "solid"
         },
         "mode": "lines",
         "name": "Rwanda",
         "orientation": "v",
         "showlegend": true,
         "type": "scatter",
         "x": [
          2004,
          2005,
          2006,
          2007,
          2008,
          2009,
          2010,
          2011,
          2012,
          2013
         ],
         "xaxis": "x",
         "y": [
          31,
          41,
          42,
          41,
          55,
          54,
          45,
          54,
          56,
          63
         ],
         "yaxis": "y"
        },
        {
         "hovertemplate": "Country=Senegal<br>Year=%{x}<br>Value=%{y}<extra></extra>",
         "legendgroup": "Senegal",
         "line": {
          "color": "#FF97FF",
          "dash": "solid"
         },
         "mode": "lines",
         "name": "Senegal",
         "orientation": "v",
         "showlegend": true,
         "type": "scatter",
         "x": [
          2004,
          2005,
          2006,
          2007,
          2008,
          2009,
          2010,
          2011,
          2012,
          2013
         ],
         "xaxis": "x",
         "y": [
          135,
          186,
          127,
          129,
          272,
          335,
          403,
          271,
          313,
          291
         ],
         "yaxis": "y"
        },
        {
         "hovertemplate": "Country=Sierra Leone<br>Year=%{x}<br>Value=%{y}<extra></extra>",
         "legendgroup": "Sierra Leone",
         "line": {
          "color": "#FECB52",
          "dash": "solid"
         },
         "mode": "lines",
         "name": "Sierra Leone",
         "orientation": "v",
         "showlegend": true,
         "type": "scatter",
         "x": [
          2004,
          2005,
          2006,
          2007,
          2008,
          2009,
          2010,
          2011,
          2012,
          2013
         ],
         "xaxis": "x",
         "y": [
          362,
          492,
          709,
          392,
          454,
          593,
          685,
          753,
          761,
          837
         ],
         "yaxis": "y"
        },
        {
         "hovertemplate": "Country=South Africa<br>Year=%{x}<br>Value=%{y}<extra></extra>",
         "legendgroup": "South Africa",
         "line": {
          "color": "#636efa",
          "dash": "solid"
         },
         "mode": "lines",
         "name": "South Africa",
         "orientation": "v",
         "showlegend": true,
         "type": "scatter",
         "x": [
          2004,
          2005,
          2006,
          2007,
          2008,
          2009,
          2010,
          2011,
          2012,
          2013
         ],
         "xaxis": "x",
         "y": [
          2,
          3,
          2,
          2,
          2,
          2,
          2,
          2,
          2,
          3
         ],
         "yaxis": "y"
        },
        {
         "hovertemplate": "Country=Sudan<br>Year=%{x}<br>Value=%{y}<extra></extra>",
         "legendgroup": "Sudan",
         "line": {
          "color": "#EF553B",
          "dash": "solid"
         },
         "mode": "lines",
         "name": "Sudan",
         "orientation": "v",
         "showlegend": true,
         "type": "scatter",
         "x": [
          2012,
          2013,
          2004,
          2005,
          2006,
          2007,
          2008,
          2009,
          2010,
          2011
         ],
         "xaxis": "x",
         "y": [
          16,
          17,
          24,
          13,
          17,
          15,
          20,
          15,
          16,
          17
         ],
         "yaxis": "y"
        },
        {
         "hovertemplate": "Country=Swaziland<br>Year=%{x}<br>Value=%{y}<extra></extra>",
         "legendgroup": "Swaziland",
         "line": {
          "color": "#00cc96",
          "dash": "solid"
         },
         "mode": "lines",
         "name": "Swaziland",
         "orientation": "v",
         "showlegend": true,
         "type": "scatter",
         "x": [
          2004,
          2005,
          2006,
          2007,
          2008,
          2009,
          2010,
          2011,
          2012,
          2013
         ],
         "xaxis": "x",
         "y": [
          0,
          0,
          0,
          0,
          0,
          0,
          0,
          0,
          0,
          0
         ],
         "yaxis": "y"
        },
        {
         "hovertemplate": "Country=Togo<br>Year=%{x}<br>Value=%{y}<extra></extra>",
         "legendgroup": "Togo",
         "line": {
          "color": "#ab63fa",
          "dash": "solid"
         },
         "mode": "lines",
         "name": "Togo",
         "orientation": "v",
         "showlegend": true,
         "type": "scatter",
         "x": [
          2004,
          2005,
          2006,
          2007,
          2008,
          2009,
          2010,
          2011,
          2012,
          2013
         ],
         "xaxis": "x",
         "y": [
          46,
          49,
          51,
          50,
          57,
          81,
          73,
          75,
          107,
          64
         ],
         "yaxis": "y"
        },
        {
         "hovertemplate": "Country=Uganda<br>Year=%{x}<br>Value=%{y}<extra></extra>",
         "legendgroup": "Uganda",
         "line": {
          "color": "#FFA15A",
          "dash": "solid"
         },
         "mode": "lines",
         "name": "Uganda",
         "orientation": "v",
         "showlegend": true,
         "type": "scatter",
         "x": [
          2004,
          2005,
          2006,
          2007,
          2008,
          2009,
          2010,
          2011,
          2012,
          2013
         ],
         "xaxis": "x",
         "y": [
          81,
          102,
          103,
          108,
          119,
          137,
          145,
          155,
          141,
          143
         ],
         "yaxis": "y"
        },
        {
         "hovertemplate": "Country=United Republic of Tanzania<br>Year=%{x}<br>Value=%{y}<extra></extra>",
         "legendgroup": "United Republic of Tanzania",
         "line": {
          "color": "#19d3f3",
          "dash": "solid"
         },
         "mode": "lines",
         "name": "United Republic of Tanzania",
         "orientation": "v",
         "showlegend": true,
         "type": "scatter",
         "x": [
          2004,
          2005,
          2006,
          2007,
          2008,
          2009,
          2010,
          2011,
          2012,
          2013
         ],
         "xaxis": "x",
         "y": [
          706,
          779,
          805,
          895,
          948,
          890,
          1768,
          1500,
          1201,
          1464
         ],
         "yaxis": "y"
        },
        {
         "hovertemplate": "Country=Zambia<br>Year=%{x}<br>Value=%{y}<extra></extra>",
         "legendgroup": "Zambia",
         "line": {
          "color": "#FF6692",
          "dash": "solid"
         },
         "mode": "lines",
         "name": "Zambia",
         "orientation": "v",
         "showlegend": true,
         "type": "scatter",
         "x": [
          2004,
          2005,
          2006,
          2007,
          2008,
          2009,
          2010,
          2011,
          2012,
          2013
         ],
         "xaxis": "x",
         "y": [
          11,
          9,
          9,
          12,
          16,
          28,
          34,
          33,
          30,
          30
         ],
         "yaxis": "y"
        },
        {
         "hovertemplate": "Country=Zimbabwe<br>Year=%{x}<br>Value=%{y}<extra></extra>",
         "legendgroup": "Zimbabwe",
         "line": {
          "color": "#B6E880",
          "dash": "solid"
         },
         "mode": "lines",
         "name": "Zimbabwe",
         "orientation": "v",
         "showlegend": true,
         "type": "scatter",
         "x": [
          2004,
          2005,
          2006,
          2007,
          2008,
          2009,
          2010,
          2011,
          2012,
          2013
         ],
         "xaxis": "x",
         "y": [
          0,
          1,
          0,
          0,
          0,
          0,
          0,
          0,
          0,
          0
         ],
         "yaxis": "y"
        }
       ],
       "layout": {
        "legend": {
         "title": {
          "text": "Country"
         },
         "tracegroupgap": 0
        },
        "template": {
         "data": {
          "bar": [
           {
            "error_x": {
             "color": "#2a3f5f"
            },
            "error_y": {
             "color": "#2a3f5f"
            },
            "marker": {
             "line": {
              "color": "#E5ECF6",
              "width": 0.5
             }
            },
            "type": "bar"
           }
          ],
          "barpolar": [
           {
            "marker": {
             "line": {
              "color": "#E5ECF6",
              "width": 0.5
             }
            },
            "type": "barpolar"
           }
          ],
          "carpet": [
           {
            "aaxis": {
             "endlinecolor": "#2a3f5f",
             "gridcolor": "white",
             "linecolor": "white",
             "minorgridcolor": "white",
             "startlinecolor": "#2a3f5f"
            },
            "baxis": {
             "endlinecolor": "#2a3f5f",
             "gridcolor": "white",
             "linecolor": "white",
             "minorgridcolor": "white",
             "startlinecolor": "#2a3f5f"
            },
            "type": "carpet"
           }
          ],
          "choropleth": [
           {
            "colorbar": {
             "outlinewidth": 0,
             "ticks": ""
            },
            "type": "choropleth"
           }
          ],
          "contour": [
           {
            "colorbar": {
             "outlinewidth": 0,
             "ticks": ""
            },
            "colorscale": [
             [
              0,
              "#0d0887"
             ],
             [
              0.1111111111111111,
              "#46039f"
             ],
             [
              0.2222222222222222,
              "#7201a8"
             ],
             [
              0.3333333333333333,
              "#9c179e"
             ],
             [
              0.4444444444444444,
              "#bd3786"
             ],
             [
              0.5555555555555556,
              "#d8576b"
             ],
             [
              0.6666666666666666,
              "#ed7953"
             ],
             [
              0.7777777777777778,
              "#fb9f3a"
             ],
             [
              0.8888888888888888,
              "#fdca26"
             ],
             [
              1,
              "#f0f921"
             ]
            ],
            "type": "contour"
           }
          ],
          "contourcarpet": [
           {
            "colorbar": {
             "outlinewidth": 0,
             "ticks": ""
            },
            "type": "contourcarpet"
           }
          ],
          "heatmap": [
           {
            "colorbar": {
             "outlinewidth": 0,
             "ticks": ""
            },
            "colorscale": [
             [
              0,
              "#0d0887"
             ],
             [
              0.1111111111111111,
              "#46039f"
             ],
             [
              0.2222222222222222,
              "#7201a8"
             ],
             [
              0.3333333333333333,
              "#9c179e"
             ],
             [
              0.4444444444444444,
              "#bd3786"
             ],
             [
              0.5555555555555556,
              "#d8576b"
             ],
             [
              0.6666666666666666,
              "#ed7953"
             ],
             [
              0.7777777777777778,
              "#fb9f3a"
             ],
             [
              0.8888888888888888,
              "#fdca26"
             ],
             [
              1,
              "#f0f921"
             ]
            ],
            "type": "heatmap"
           }
          ],
          "heatmapgl": [
           {
            "colorbar": {
             "outlinewidth": 0,
             "ticks": ""
            },
            "colorscale": [
             [
              0,
              "#0d0887"
             ],
             [
              0.1111111111111111,
              "#46039f"
             ],
             [
              0.2222222222222222,
              "#7201a8"
             ],
             [
              0.3333333333333333,
              "#9c179e"
             ],
             [
              0.4444444444444444,
              "#bd3786"
             ],
             [
              0.5555555555555556,
              "#d8576b"
             ],
             [
              0.6666666666666666,
              "#ed7953"
             ],
             [
              0.7777777777777778,
              "#fb9f3a"
             ],
             [
              0.8888888888888888,
              "#fdca26"
             ],
             [
              1,
              "#f0f921"
             ]
            ],
            "type": "heatmapgl"
           }
          ],
          "histogram": [
           {
            "marker": {
             "colorbar": {
              "outlinewidth": 0,
              "ticks": ""
             }
            },
            "type": "histogram"
           }
          ],
          "histogram2d": [
           {
            "colorbar": {
             "outlinewidth": 0,
             "ticks": ""
            },
            "colorscale": [
             [
              0,
              "#0d0887"
             ],
             [
              0.1111111111111111,
              "#46039f"
             ],
             [
              0.2222222222222222,
              "#7201a8"
             ],
             [
              0.3333333333333333,
              "#9c179e"
             ],
             [
              0.4444444444444444,
              "#bd3786"
             ],
             [
              0.5555555555555556,
              "#d8576b"
             ],
             [
              0.6666666666666666,
              "#ed7953"
             ],
             [
              0.7777777777777778,
              "#fb9f3a"
             ],
             [
              0.8888888888888888,
              "#fdca26"
             ],
             [
              1,
              "#f0f921"
             ]
            ],
            "type": "histogram2d"
           }
          ],
          "histogram2dcontour": [
           {
            "colorbar": {
             "outlinewidth": 0,
             "ticks": ""
            },
            "colorscale": [
             [
              0,
              "#0d0887"
             ],
             [
              0.1111111111111111,
              "#46039f"
             ],
             [
              0.2222222222222222,
              "#7201a8"
             ],
             [
              0.3333333333333333,
              "#9c179e"
             ],
             [
              0.4444444444444444,
              "#bd3786"
             ],
             [
              0.5555555555555556,
              "#d8576b"
             ],
             [
              0.6666666666666666,
              "#ed7953"
             ],
             [
              0.7777777777777778,
              "#fb9f3a"
             ],
             [
              0.8888888888888888,
              "#fdca26"
             ],
             [
              1,
              "#f0f921"
             ]
            ],
            "type": "histogram2dcontour"
           }
          ],
          "mesh3d": [
           {
            "colorbar": {
             "outlinewidth": 0,
             "ticks": ""
            },
            "type": "mesh3d"
           }
          ],
          "parcoords": [
           {
            "line": {
             "colorbar": {
              "outlinewidth": 0,
              "ticks": ""
             }
            },
            "type": "parcoords"
           }
          ],
          "pie": [
           {
            "automargin": true,
            "type": "pie"
           }
          ],
          "scatter": [
           {
            "marker": {
             "colorbar": {
              "outlinewidth": 0,
              "ticks": ""
             }
            },
            "type": "scatter"
           }
          ],
          "scatter3d": [
           {
            "line": {
             "colorbar": {
              "outlinewidth": 0,
              "ticks": ""
             }
            },
            "marker": {
             "colorbar": {
              "outlinewidth": 0,
              "ticks": ""
             }
            },
            "type": "scatter3d"
           }
          ],
          "scattercarpet": [
           {
            "marker": {
             "colorbar": {
              "outlinewidth": 0,
              "ticks": ""
             }
            },
            "type": "scattercarpet"
           }
          ],
          "scattergeo": [
           {
            "marker": {
             "colorbar": {
              "outlinewidth": 0,
              "ticks": ""
             }
            },
            "type": "scattergeo"
           }
          ],
          "scattergl": [
           {
            "marker": {
             "colorbar": {
              "outlinewidth": 0,
              "ticks": ""
             }
            },
            "type": "scattergl"
           }
          ],
          "scattermapbox": [
           {
            "marker": {
             "colorbar": {
              "outlinewidth": 0,
              "ticks": ""
             }
            },
            "type": "scattermapbox"
           }
          ],
          "scatterpolar": [
           {
            "marker": {
             "colorbar": {
              "outlinewidth": 0,
              "ticks": ""
             }
            },
            "type": "scatterpolar"
           }
          ],
          "scatterpolargl": [
           {
            "marker": {
             "colorbar": {
              "outlinewidth": 0,
              "ticks": ""
             }
            },
            "type": "scatterpolargl"
           }
          ],
          "scatterternary": [
           {
            "marker": {
             "colorbar": {
              "outlinewidth": 0,
              "ticks": ""
             }
            },
            "type": "scatterternary"
           }
          ],
          "surface": [
           {
            "colorbar": {
             "outlinewidth": 0,
             "ticks": ""
            },
            "colorscale": [
             [
              0,
              "#0d0887"
             ],
             [
              0.1111111111111111,
              "#46039f"
             ],
             [
              0.2222222222222222,
              "#7201a8"
             ],
             [
              0.3333333333333333,
              "#9c179e"
             ],
             [
              0.4444444444444444,
              "#bd3786"
             ],
             [
              0.5555555555555556,
              "#d8576b"
             ],
             [
              0.6666666666666666,
              "#ed7953"
             ],
             [
              0.7777777777777778,
              "#fb9f3a"
             ],
             [
              0.8888888888888888,
              "#fdca26"
             ],
             [
              1,
              "#f0f921"
             ]
            ],
            "type": "surface"
           }
          ],
          "table": [
           {
            "cells": {
             "fill": {
              "color": "#EBF0F8"
             },
             "line": {
              "color": "white"
             }
            },
            "header": {
             "fill": {
              "color": "#C8D4E3"
             },
             "line": {
              "color": "white"
             }
            },
            "type": "table"
           }
          ]
         },
         "layout": {
          "annotationdefaults": {
           "arrowcolor": "#2a3f5f",
           "arrowhead": 0,
           "arrowwidth": 1
          },
          "coloraxis": {
           "colorbar": {
            "outlinewidth": 0,
            "ticks": ""
           }
          },
          "colorscale": {
           "diverging": [
            [
             0,
             "#8e0152"
            ],
            [
             0.1,
             "#c51b7d"
            ],
            [
             0.2,
             "#de77ae"
            ],
            [
             0.3,
             "#f1b6da"
            ],
            [
             0.4,
             "#fde0ef"
            ],
            [
             0.5,
             "#f7f7f7"
            ],
            [
             0.6,
             "#e6f5d0"
            ],
            [
             0.7,
             "#b8e186"
            ],
            [
             0.8,
             "#7fbc41"
            ],
            [
             0.9,
             "#4d9221"
            ],
            [
             1,
             "#276419"
            ]
           ],
           "sequential": [
            [
             0,
             "#0d0887"
            ],
            [
             0.1111111111111111,
             "#46039f"
            ],
            [
             0.2222222222222222,
             "#7201a8"
            ],
            [
             0.3333333333333333,
             "#9c179e"
            ],
            [
             0.4444444444444444,
             "#bd3786"
            ],
            [
             0.5555555555555556,
             "#d8576b"
            ],
            [
             0.6666666666666666,
             "#ed7953"
            ],
            [
             0.7777777777777778,
             "#fb9f3a"
            ],
            [
             0.8888888888888888,
             "#fdca26"
            ],
            [
             1,
             "#f0f921"
            ]
           ],
           "sequentialminus": [
            [
             0,
             "#0d0887"
            ],
            [
             0.1111111111111111,
             "#46039f"
            ],
            [
             0.2222222222222222,
             "#7201a8"
            ],
            [
             0.3333333333333333,
             "#9c179e"
            ],
            [
             0.4444444444444444,
             "#bd3786"
            ],
            [
             0.5555555555555556,
             "#d8576b"
            ],
            [
             0.6666666666666666,
             "#ed7953"
            ],
            [
             0.7777777777777778,
             "#fb9f3a"
            ],
            [
             0.8888888888888888,
             "#fdca26"
            ],
            [
             1,
             "#f0f921"
            ]
           ]
          },
          "colorway": [
           "#636efa",
           "#EF553B",
           "#00cc96",
           "#ab63fa",
           "#FFA15A",
           "#19d3f3",
           "#FF6692",
           "#B6E880",
           "#FF97FF",
           "#FECB52"
          ],
          "font": {
           "color": "#2a3f5f"
          },
          "geo": {
           "bgcolor": "white",
           "lakecolor": "white",
           "landcolor": "#E5ECF6",
           "showlakes": true,
           "showland": true,
           "subunitcolor": "white"
          },
          "hoverlabel": {
           "align": "left"
          },
          "hovermode": "closest",
          "mapbox": {
           "style": "light"
          },
          "paper_bgcolor": "white",
          "plot_bgcolor": "#E5ECF6",
          "polar": {
           "angularaxis": {
            "gridcolor": "white",
            "linecolor": "white",
            "ticks": ""
           },
           "bgcolor": "#E5ECF6",
           "radialaxis": {
            "gridcolor": "white",
            "linecolor": "white",
            "ticks": ""
           }
          },
          "scene": {
           "xaxis": {
            "backgroundcolor": "#E5ECF6",
            "gridcolor": "white",
            "gridwidth": 2,
            "linecolor": "white",
            "showbackground": true,
            "ticks": "",
            "zerolinecolor": "white"
           },
           "yaxis": {
            "backgroundcolor": "#E5ECF6",
            "gridcolor": "white",
            "gridwidth": 2,
            "linecolor": "white",
            "showbackground": true,
            "ticks": "",
            "zerolinecolor": "white"
           },
           "zaxis": {
            "backgroundcolor": "#E5ECF6",
            "gridcolor": "white",
            "gridwidth": 2,
            "linecolor": "white",
            "showbackground": true,
            "ticks": "",
            "zerolinecolor": "white"
           }
          },
          "shapedefaults": {
           "line": {
            "color": "#2a3f5f"
           }
          },
          "ternary": {
           "aaxis": {
            "gridcolor": "white",
            "linecolor": "white",
            "ticks": ""
           },
           "baxis": {
            "gridcolor": "white",
            "linecolor": "white",
            "ticks": ""
           },
           "bgcolor": "#E5ECF6",
           "caxis": {
            "gridcolor": "white",
            "linecolor": "white",
            "ticks": ""
           }
          },
          "title": {
           "x": 0.05
          },
          "xaxis": {
           "automargin": true,
           "gridcolor": "white",
           "linecolor": "white",
           "ticks": "",
           "title": {
            "standoff": 15
           },
           "zerolinecolor": "white",
           "zerolinewidth": 2
          },
          "yaxis": {
           "automargin": true,
           "gridcolor": "white",
           "linecolor": "white",
           "ticks": "",
           "title": {
            "standoff": 15
           },
           "zerolinecolor": "white",
           "zerolinewidth": 2
          }
         }
        },
        "title": {
         "text": "Countries that produces that highest rice in Africa"
        },
        "xaxis": {
         "anchor": "y",
         "domain": [
          0,
          1
         ],
         "title": {
          "text": "Year"
         }
        },
        "yaxis": {
         "anchor": "x",
         "domain": [
          0,
          1
         ],
         "title": {
          "text": "Value"
         }
        }
       }
      },
      "text/html": [
       "<div>\n",
       "        \n",
       "        \n",
       "            <div id=\"1980a8cc-f91e-479f-a397-083e79c9b046\" class=\"plotly-graph-div\" style=\"height:525px; width:100%;\"></div>\n",
       "            <script type=\"text/javascript\">\n",
       "                require([\"plotly\"], function(Plotly) {\n",
       "                    window.PLOTLYENV=window.PLOTLYENV || {};\n",
       "                    \n",
       "                if (document.getElementById(\"1980a8cc-f91e-479f-a397-083e79c9b046\")) {\n",
       "                    Plotly.newPlot(\n",
       "                        '1980a8cc-f91e-479f-a397-083e79c9b046',\n",
       "                        [{\"hovertemplate\": \"Country=Algeria<br>Year=%{x}<br>Value=%{y}<extra></extra>\", \"legendgroup\": \"Algeria\", \"line\": {\"color\": \"#636efa\", \"dash\": \"solid\"}, \"mode\": \"lines\", \"name\": \"Algeria\", \"orientation\": \"v\", \"showlegend\": true, \"type\": \"scatter\", \"x\": [2004, 2005, 2006, 2007, 2008, 2009, 2010, 2011, 2012, 2013], \"xaxis\": \"x\", \"y\": [0, 0, 0, 0, 0, 0, 0, 0, 0, 0], \"yaxis\": \"y\"}, {\"hovertemplate\": \"Country=Angola<br>Year=%{x}<br>Value=%{y}<extra></extra>\", \"legendgroup\": \"Angola\", \"line\": {\"color\": \"#EF553B\", \"dash\": \"solid\"}, \"mode\": \"lines\", \"name\": \"Angola\", \"orientation\": \"v\", \"showlegend\": true, \"type\": \"scatter\", \"x\": [2004, 2005, 2006, 2007, 2008, 2009, 2010, 2011, 2012, 2013], \"xaxis\": \"x\", \"y\": [9, 6, 3, 3, 6, 10, 12, 15, 14, 25], \"yaxis\": \"y\"}, {\"hovertemplate\": \"Country=Benin<br>Year=%{x}<br>Value=%{y}<extra></extra>\", \"legendgroup\": \"Benin\", \"line\": {\"color\": \"#00cc96\", \"dash\": \"solid\"}, \"mode\": \"lines\", \"name\": \"Benin\", \"orientation\": \"v\", \"showlegend\": true, \"type\": \"scatter\", \"x\": [2004, 2005, 2006, 2007, 2008, 2009, 2010, 2011, 2012, 2013], \"xaxis\": \"x\", \"y\": [43, 52, 47, 50, 70, 75, 83, 146, 146, 138], \"yaxis\": \"y\"}, {\"hovertemplate\": \"Country=Burkina Faso<br>Year=%{x}<br>Value=%{y}<extra></extra>\", \"legendgroup\": \"Burkina Faso\", \"line\": {\"color\": \"#ab63fa\", \"dash\": \"solid\"}, \"mode\": \"lines\", \"name\": \"Burkina Faso\", \"orientation\": \"v\", \"showlegend\": true, \"type\": \"scatter\", \"x\": [2004, 2005, 2006, 2007, 2008, 2009, 2010, 2011, 2012, 2013], \"xaxis\": \"x\", \"y\": [50, 62, 76, 46, 130, 142, 181, 161, 213, 204], \"yaxis\": \"y\"}, {\"hovertemplate\": \"Country=Cameroon<br>Year=%{x}<br>Value=%{y}<extra></extra>\", \"legendgroup\": \"Cameroon\", \"line\": {\"color\": \"#FFA15A\", \"dash\": \"solid\"}, \"mode\": \"lines\", \"name\": \"Cameroon\", \"orientation\": \"v\", \"showlegend\": true, \"type\": \"scatter\", \"x\": [2004, 2005, 2006, 2007, 2008, 2009, 2010, 2011, 2012, 2013], \"xaxis\": \"x\", \"y\": [33, 39, 43, 46, 48, 90, 102, 116, 121, 129], \"yaxis\": \"y\"}, {\"hovertemplate\": \"Country=Central African Republic<br>Year=%{x}<br>Value=%{y}<extra></extra>\", \"legendgroup\": \"Central African Republic\", \"line\": {\"color\": \"#19d3f3\", \"dash\": \"solid\"}, \"mode\": \"lines\", \"name\": \"Central African Republic\", \"orientation\": \"v\", \"showlegend\": true, \"type\": \"scatter\", \"x\": [2004, 2005, 2006, 2007, 2008, 2009, 2010, 2011, 2012, 2013], \"xaxis\": \"x\", \"y\": [21, 31, 27, 25, 25, 26, 26, 27, 28, 25], \"yaxis\": \"y\"}, {\"hovertemplate\": \"Country=Chad<br>Year=%{x}<br>Value=%{y}<extra></extra>\", \"legendgroup\": \"Chad\", \"line\": {\"color\": \"#FF6692\", \"dash\": \"solid\"}, \"mode\": \"lines\", \"name\": \"Chad\", \"orientation\": \"v\", \"showlegend\": true, \"type\": \"scatter\", \"x\": [2004, 2005, 2006, 2007, 2008, 2009, 2010, 2011, 2012, 2013], \"xaxis\": \"x\", \"y\": [61, 99, 71, 71, 113, 117, 113, 115, 187, 220], \"yaxis\": \"y\"}, {\"hovertemplate\": \"Country=Congo<br>Year=%{x}<br>Value=%{y}<extra></extra>\", \"legendgroup\": \"Congo\", \"line\": {\"color\": \"#B6E880\", \"dash\": \"solid\"}, \"mode\": \"lines\", \"name\": \"Congo\", \"orientation\": \"v\", \"showlegend\": true, \"type\": \"scatter\", \"x\": [2004, 2005, 2006, 2007, 2008, 2009, 2010, 2011, 2012, 2013], \"xaxis\": \"x\", \"y\": [1, 1, 1, 1, 1, 1, 1, 1, 1, 1], \"yaxis\": \"y\"}, {\"hovertemplate\": \"Country=Cote d'Ivoire<br>Year=%{x}<br>Value=%{y}<extra></extra>\", \"legendgroup\": \"Cote d'Ivoire\", \"line\": {\"color\": \"#FF97FF\", \"dash\": \"solid\"}, \"mode\": \"lines\", \"name\": \"Cote d'Ivoire\", \"orientation\": \"v\", \"showlegend\": true, \"type\": \"scatter\", \"x\": [2004, 2005, 2006, 2007, 2008, 2009, 2010, 2011, 2012, 2013], \"xaxis\": \"x\", \"y\": [455, 470, 478, 404, 454, 459, 805, 582, 1042, 1290], \"yaxis\": \"y\"}, {\"hovertemplate\": \"Country=Egypt<br>Year=%{x}<br>Value=%{y}<extra></extra>\", \"legendgroup\": \"Egypt\", \"line\": {\"color\": \"#FECB52\", \"dash\": \"solid\"}, \"mode\": \"lines\", \"name\": \"Egypt\", \"orientation\": \"v\", \"showlegend\": true, \"type\": \"scatter\", \"x\": [2004, 2005, 2006, 2007, 2008, 2009, 2010, 2011, 2012, 2013], \"xaxis\": \"x\", \"y\": [4237, 4086, 4506, 4587, 4838, 3682, 2888, 3785, 3943, 3818], \"yaxis\": \"y\"}, {\"hovertemplate\": \"Country=Ethiopia<br>Year=%{x}<br>Value=%{y}<extra></extra>\", \"legendgroup\": \"Ethiopia\", \"line\": {\"color\": \"#636efa\", \"dash\": \"solid\"}, \"mode\": \"lines\", \"name\": \"Ethiopia\", \"orientation\": \"v\", \"showlegend\": true, \"type\": \"scatter\", \"x\": [2004, 2005, 2006, 2007, 2008, 2009, 2010, 2011, 2012, 2013], \"xaxis\": \"x\", \"y\": [8, 7, 7, 7, 48, 69, 60, 59, 81, 123], \"yaxis\": \"y\"}, {\"hovertemplate\": \"Country=Gabon<br>Year=%{x}<br>Value=%{y}<extra></extra>\", \"legendgroup\": \"Gabon\", \"line\": {\"color\": \"#EF553B\", \"dash\": \"solid\"}, \"mode\": \"lines\", \"name\": \"Gabon\", \"orientation\": \"v\", \"showlegend\": true, \"type\": \"scatter\", \"x\": [2004, 2005, 2006, 2007, 2008, 2009, 2010, 2011, 2012, 2013], \"xaxis\": \"x\", \"y\": [1, 1, 1, 1, 1, 1, 1, 1, 1, 1], \"yaxis\": \"y\"}, {\"hovertemplate\": \"Country=Gambia<br>Year=%{x}<br>Value=%{y}<extra></extra>\", \"legendgroup\": \"Gambia\", \"line\": {\"color\": \"#00cc96\", \"dash\": \"solid\"}, \"mode\": \"lines\", \"name\": \"Gambia\", \"orientation\": \"v\", \"showlegend\": true, \"type\": \"scatter\", \"x\": [2004, 2005, 2006, 2007, 2008, 2009, 2010, 2011, 2012, 2013], \"xaxis\": \"x\", \"y\": [22, 12, 21, 8, 26, 53, 67, 34, 36, 46], \"yaxis\": \"y\"}, {\"hovertemplate\": \"Country=Ghana<br>Year=%{x}<br>Value=%{y}<extra></extra>\", \"legendgroup\": \"Ghana\", \"line\": {\"color\": \"#ab63fa\", \"dash\": \"solid\"}, \"mode\": \"lines\", \"name\": \"Ghana\", \"orientation\": \"v\", \"showlegend\": true, \"type\": \"scatter\", \"x\": [2004, 2005, 2006, 2007, 2008, 2009, 2010, 2011, 2012, 2013], \"xaxis\": \"x\", \"y\": [161, 191, 167, 124, 201, 261, 328, 309, 321, 380], \"yaxis\": \"y\"}, {\"hovertemplate\": \"Country=Guinea<br>Year=%{x}<br>Value=%{y}<extra></extra>\", \"legendgroup\": \"Guinea\", \"line\": {\"color\": \"#FFA15A\", \"dash\": \"solid\"}, \"mode\": \"lines\", \"name\": \"Guinea\", \"orientation\": \"v\", \"showlegend\": true, \"type\": \"scatter\", \"x\": [2004, 2005, 2006, 2007, 2008, 2009, 2010, 2011, 2012, 2013], \"xaxis\": \"x\", \"y\": [806, 849, 894, 935, 1023, 971, 1076, 1196, 1280, 1370], \"yaxis\": \"y\"}, {\"hovertemplate\": \"Country=Guinea-Bissau<br>Year=%{x}<br>Value=%{y}<extra></extra>\", \"legendgroup\": \"Guinea-Bissau\", \"line\": {\"color\": \"#19d3f3\", \"dash\": \"solid\"}, \"mode\": \"lines\", \"name\": \"Guinea-Bissau\", \"orientation\": \"v\", \"showlegend\": true, \"type\": \"scatter\", \"x\": [2004, 2005, 2006, 2007, 2008, 2009, 2010, 2011, 2012, 2013], \"xaxis\": \"x\", \"y\": [59, 66, 71, 85, 99, 121, 140, 117, 132, 140], \"yaxis\": \"y\"}, {\"hovertemplate\": \"Country=Kenya<br>Year=%{x}<br>Value=%{y}<extra></extra>\", \"legendgroup\": \"Kenya\", \"line\": {\"color\": \"#FF6692\", \"dash\": \"solid\"}, \"mode\": \"lines\", \"name\": \"Kenya\", \"orientation\": \"v\", \"showlegend\": true, \"type\": \"scatter\", \"x\": [2004, 2005, 2006, 2007, 2008, 2009, 2010, 2011, 2012, 2013], \"xaxis\": \"x\", \"y\": [33, 42, 43, 32, 15, 28, 57, 74, 82, 98], \"yaxis\": \"y\"}, {\"hovertemplate\": \"Country=Liberia<br>Year=%{x}<br>Value=%{y}<extra></extra>\", \"legendgroup\": \"Liberia\", \"line\": {\"color\": \"#B6E880\", \"dash\": \"solid\"}, \"mode\": \"lines\", \"name\": \"Liberia\", \"orientation\": \"v\", \"showlegend\": true, \"type\": \"scatter\", \"x\": [2004, 2005, 2006, 2007, 2008, 2009, 2010, 2011, 2012, 2013], \"xaxis\": \"x\", \"y\": [73, 103, 109, 155, 197, 195, 197, 199, 194, 180], \"yaxis\": \"y\"}, {\"hovertemplate\": \"Country=Madagascar<br>Year=%{x}<br>Value=%{y}<extra></extra>\", \"legendgroup\": \"Madagascar\", \"line\": {\"color\": \"#FF97FF\", \"dash\": \"solid\"}, \"mode\": \"lines\", \"name\": \"Madagascar\", \"orientation\": \"v\", \"showlegend\": true, \"type\": \"scatter\", \"x\": [2004, 2005, 2006, 2007, 2008, 2009, 2010, 2011, 2012, 2013], \"xaxis\": \"x\", \"y\": [2021, 2263, 2326, 2398, 2611, 3028, 3160, 2868, 3035, 2408], \"yaxis\": \"y\"}, {\"hovertemplate\": \"Country=Malawi<br>Year=%{x}<br>Value=%{y}<extra></extra>\", \"legendgroup\": \"Malawi\", \"line\": {\"color\": \"#FECB52\", \"dash\": \"solid\"}, \"mode\": \"lines\", \"name\": \"Malawi\", \"orientation\": \"v\", \"showlegend\": true, \"type\": \"scatter\", \"x\": [2004, 2005, 2006, 2007, 2008, 2009, 2010, 2011, 2012, 2013], \"xaxis\": \"x\", \"y\": [33, 28, 61, 75, 77, 91, 73, 79, 74, 83], \"yaxis\": \"y\"}, {\"hovertemplate\": \"Country=Mali<br>Year=%{x}<br>Value=%{y}<extra></extra>\", \"legendgroup\": \"Mali\", \"line\": {\"color\": \"#636efa\", \"dash\": \"solid\"}, \"mode\": \"lines\", \"name\": \"Mali\", \"orientation\": \"v\", \"showlegend\": true, \"type\": \"scatter\", \"x\": [2004, 2005, 2006, 2007, 2008, 2009, 2010, 2011, 2012, 2013], \"xaxis\": \"x\", \"y\": [479, 631, 703, 722, 1083, 1301, 1538, 1162, 1277, 1475], \"yaxis\": \"y\"}, {\"hovertemplate\": \"Country=Mauritania<br>Year=%{x}<br>Value=%{y}<extra></extra>\", \"legendgroup\": \"Mauritania\", \"line\": {\"color\": \"#EF553B\", \"dash\": \"solid\"}, \"mode\": \"lines\", \"name\": \"Mauritania\", \"orientation\": \"v\", \"showlegend\": true, \"type\": \"scatter\", \"x\": [2004, 2005, 2006, 2007, 2008, 2009, 2010, 2011, 2012, 2013], \"xaxis\": \"x\", \"y\": [57, 48, 47, 55, 55, 36, 90, 105, 123, 135], \"yaxis\": \"y\"}, {\"hovertemplate\": \"Country=Mauritius<br>Year=%{x}<br>Value=%{y}<extra></extra>\", \"legendgroup\": \"Mauritius\", \"line\": {\"color\": \"#00cc96\", \"dash\": \"solid\"}, \"mode\": \"lines\", \"name\": \"Mauritius\", \"orientation\": \"v\", \"showlegend\": true, \"type\": \"scatter\", \"x\": [2004, 2005, 2006, 2007, 2008, 2009, 2010, 2011, 2012, 2013], \"xaxis\": \"x\", \"y\": [0, 0, 0, 0, 0, 0, 0, 0, 1, 0], \"yaxis\": \"y\"}, {\"hovertemplate\": \"Country=Morocco<br>Year=%{x}<br>Value=%{y}<extra></extra>\", \"legendgroup\": \"Morocco\", \"line\": {\"color\": \"#ab63fa\", \"dash\": \"solid\"}, \"mode\": \"lines\", \"name\": \"Morocco\", \"orientation\": \"v\", \"showlegend\": true, \"type\": \"scatter\", \"x\": [2004, 2005, 2006, 2007, 2008, 2009, 2010, 2011, 2012, 2013], \"xaxis\": \"x\", \"y\": [20, 29, 23, 22, 30, 33, 34, 12, 46, 25], \"yaxis\": \"y\"}, {\"hovertemplate\": \"Country=Mozambique<br>Year=%{x}<br>Value=%{y}<extra></extra>\", \"legendgroup\": \"Mozambique\", \"line\": {\"color\": \"#FFA15A\", \"dash\": \"solid\"}, \"mode\": \"lines\", \"name\": \"Mozambique\", \"orientation\": \"v\", \"showlegend\": true, \"type\": \"scatter\", \"x\": [2004, 2005, 2006, 2007, 2008, 2009, 2010, 2011, 2012, 2013], \"xaxis\": \"x\", \"y\": [61, 43, 65, 69, 68, 119, 172, 181, 98, 234], \"yaxis\": \"y\"}, {\"hovertemplate\": \"Country=Niger<br>Year=%{x}<br>Value=%{y}<extra></extra>\", \"legendgroup\": \"Niger\", \"line\": {\"color\": \"#19d3f3\", \"dash\": \"solid\"}, \"mode\": \"lines\", \"name\": \"Niger\", \"orientation\": \"v\", \"showlegend\": true, \"type\": \"scatter\", \"x\": [2004, 2005, 2006, 2007, 2008, 2009, 2010, 2011, 2012, 2013], \"xaxis\": \"x\", \"y\": [52, 40, 52, 47, 22, 13, 20, 8, 4, 9], \"yaxis\": \"y\"}, {\"hovertemplate\": \"Country=Nigeria<br>Year=%{x}<br>Value=%{y}<extra></extra>\", \"legendgroup\": \"Nigeria\", \"line\": {\"color\": \"#FF6692\", \"dash\": \"solid\"}, \"mode\": \"lines\", \"name\": \"Nigeria\", \"orientation\": \"v\", \"showlegend\": true, \"type\": \"scatter\", \"x\": [2004, 2005, 2006, 2007, 2008, 2009, 2010, 2011, 2012, 2013], \"xaxis\": \"x\", \"y\": [2224, 2379, 2696, 2125, 2787, 2365, 2983, 3046, 3224, 3135], \"yaxis\": \"y\"}, {\"hovertemplate\": \"Country=Rwanda<br>Year=%{x}<br>Value=%{y}<extra></extra>\", \"legendgroup\": \"Rwanda\", \"line\": {\"color\": \"#B6E880\", \"dash\": \"solid\"}, \"mode\": \"lines\", \"name\": \"Rwanda\", \"orientation\": \"v\", \"showlegend\": true, \"type\": \"scatter\", \"x\": [2004, 2005, 2006, 2007, 2008, 2009, 2010, 2011, 2012, 2013], \"xaxis\": \"x\", \"y\": [31, 41, 42, 41, 55, 54, 45, 54, 56, 63], \"yaxis\": \"y\"}, {\"hovertemplate\": \"Country=Senegal<br>Year=%{x}<br>Value=%{y}<extra></extra>\", \"legendgroup\": \"Senegal\", \"line\": {\"color\": \"#FF97FF\", \"dash\": \"solid\"}, \"mode\": \"lines\", \"name\": \"Senegal\", \"orientation\": \"v\", \"showlegend\": true, \"type\": \"scatter\", \"x\": [2004, 2005, 2006, 2007, 2008, 2009, 2010, 2011, 2012, 2013], \"xaxis\": \"x\", \"y\": [135, 186, 127, 129, 272, 335, 403, 271, 313, 291], \"yaxis\": \"y\"}, {\"hovertemplate\": \"Country=Sierra Leone<br>Year=%{x}<br>Value=%{y}<extra></extra>\", \"legendgroup\": \"Sierra Leone\", \"line\": {\"color\": \"#FECB52\", \"dash\": \"solid\"}, \"mode\": \"lines\", \"name\": \"Sierra Leone\", \"orientation\": \"v\", \"showlegend\": true, \"type\": \"scatter\", \"x\": [2004, 2005, 2006, 2007, 2008, 2009, 2010, 2011, 2012, 2013], \"xaxis\": \"x\", \"y\": [362, 492, 709, 392, 454, 593, 685, 753, 761, 837], \"yaxis\": \"y\"}, {\"hovertemplate\": \"Country=South Africa<br>Year=%{x}<br>Value=%{y}<extra></extra>\", \"legendgroup\": \"South Africa\", \"line\": {\"color\": \"#636efa\", \"dash\": \"solid\"}, \"mode\": \"lines\", \"name\": \"South Africa\", \"orientation\": \"v\", \"showlegend\": true, \"type\": \"scatter\", \"x\": [2004, 2005, 2006, 2007, 2008, 2009, 2010, 2011, 2012, 2013], \"xaxis\": \"x\", \"y\": [2, 3, 2, 2, 2, 2, 2, 2, 2, 3], \"yaxis\": \"y\"}, {\"hovertemplate\": \"Country=Sudan<br>Year=%{x}<br>Value=%{y}<extra></extra>\", \"legendgroup\": \"Sudan\", \"line\": {\"color\": \"#EF553B\", \"dash\": \"solid\"}, \"mode\": \"lines\", \"name\": \"Sudan\", \"orientation\": \"v\", \"showlegend\": true, \"type\": \"scatter\", \"x\": [2012, 2013, 2004, 2005, 2006, 2007, 2008, 2009, 2010, 2011], \"xaxis\": \"x\", \"y\": [16, 17, 24, 13, 17, 15, 20, 15, 16, 17], \"yaxis\": \"y\"}, {\"hovertemplate\": \"Country=Swaziland<br>Year=%{x}<br>Value=%{y}<extra></extra>\", \"legendgroup\": \"Swaziland\", \"line\": {\"color\": \"#00cc96\", \"dash\": \"solid\"}, \"mode\": \"lines\", \"name\": \"Swaziland\", \"orientation\": \"v\", \"showlegend\": true, \"type\": \"scatter\", \"x\": [2004, 2005, 2006, 2007, 2008, 2009, 2010, 2011, 2012, 2013], \"xaxis\": \"x\", \"y\": [0, 0, 0, 0, 0, 0, 0, 0, 0, 0], \"yaxis\": \"y\"}, {\"hovertemplate\": \"Country=Togo<br>Year=%{x}<br>Value=%{y}<extra></extra>\", \"legendgroup\": \"Togo\", \"line\": {\"color\": \"#ab63fa\", \"dash\": \"solid\"}, \"mode\": \"lines\", \"name\": \"Togo\", \"orientation\": \"v\", \"showlegend\": true, \"type\": \"scatter\", \"x\": [2004, 2005, 2006, 2007, 2008, 2009, 2010, 2011, 2012, 2013], \"xaxis\": \"x\", \"y\": [46, 49, 51, 50, 57, 81, 73, 75, 107, 64], \"yaxis\": \"y\"}, {\"hovertemplate\": \"Country=Uganda<br>Year=%{x}<br>Value=%{y}<extra></extra>\", \"legendgroup\": \"Uganda\", \"line\": {\"color\": \"#FFA15A\", \"dash\": \"solid\"}, \"mode\": \"lines\", \"name\": \"Uganda\", \"orientation\": \"v\", \"showlegend\": true, \"type\": \"scatter\", \"x\": [2004, 2005, 2006, 2007, 2008, 2009, 2010, 2011, 2012, 2013], \"xaxis\": \"x\", \"y\": [81, 102, 103, 108, 119, 137, 145, 155, 141, 143], \"yaxis\": \"y\"}, {\"hovertemplate\": \"Country=United Republic of Tanzania<br>Year=%{x}<br>Value=%{y}<extra></extra>\", \"legendgroup\": \"United Republic of Tanzania\", \"line\": {\"color\": \"#19d3f3\", \"dash\": \"solid\"}, \"mode\": \"lines\", \"name\": \"United Republic of Tanzania\", \"orientation\": \"v\", \"showlegend\": true, \"type\": \"scatter\", \"x\": [2004, 2005, 2006, 2007, 2008, 2009, 2010, 2011, 2012, 2013], \"xaxis\": \"x\", \"y\": [706, 779, 805, 895, 948, 890, 1768, 1500, 1201, 1464], \"yaxis\": \"y\"}, {\"hovertemplate\": \"Country=Zambia<br>Year=%{x}<br>Value=%{y}<extra></extra>\", \"legendgroup\": \"Zambia\", \"line\": {\"color\": \"#FF6692\", \"dash\": \"solid\"}, \"mode\": \"lines\", \"name\": \"Zambia\", \"orientation\": \"v\", \"showlegend\": true, \"type\": \"scatter\", \"x\": [2004, 2005, 2006, 2007, 2008, 2009, 2010, 2011, 2012, 2013], \"xaxis\": \"x\", \"y\": [11, 9, 9, 12, 16, 28, 34, 33, 30, 30], \"yaxis\": \"y\"}, {\"hovertemplate\": \"Country=Zimbabwe<br>Year=%{x}<br>Value=%{y}<extra></extra>\", \"legendgroup\": \"Zimbabwe\", \"line\": {\"color\": \"#B6E880\", \"dash\": \"solid\"}, \"mode\": \"lines\", \"name\": \"Zimbabwe\", \"orientation\": \"v\", \"showlegend\": true, \"type\": \"scatter\", \"x\": [2004, 2005, 2006, 2007, 2008, 2009, 2010, 2011, 2012, 2013], \"xaxis\": \"x\", \"y\": [0, 1, 0, 0, 0, 0, 0, 0, 0, 0], \"yaxis\": \"y\"}],\n",
       "                        {\"legend\": {\"title\": {\"text\": \"Country\"}, \"tracegroupgap\": 0}, \"template\": {\"data\": {\"bar\": [{\"error_x\": {\"color\": \"#2a3f5f\"}, \"error_y\": {\"color\": \"#2a3f5f\"}, \"marker\": {\"line\": {\"color\": \"#E5ECF6\", \"width\": 0.5}}, \"type\": \"bar\"}], \"barpolar\": [{\"marker\": {\"line\": {\"color\": \"#E5ECF6\", \"width\": 0.5}}, \"type\": \"barpolar\"}], \"carpet\": [{\"aaxis\": {\"endlinecolor\": \"#2a3f5f\", \"gridcolor\": \"white\", \"linecolor\": \"white\", \"minorgridcolor\": \"white\", \"startlinecolor\": \"#2a3f5f\"}, \"baxis\": {\"endlinecolor\": \"#2a3f5f\", \"gridcolor\": \"white\", \"linecolor\": \"white\", \"minorgridcolor\": \"white\", \"startlinecolor\": \"#2a3f5f\"}, \"type\": \"carpet\"}], \"choropleth\": [{\"colorbar\": {\"outlinewidth\": 0, \"ticks\": \"\"}, \"type\": \"choropleth\"}], \"contour\": [{\"colorbar\": {\"outlinewidth\": 0, \"ticks\": \"\"}, \"colorscale\": [[0.0, \"#0d0887\"], [0.1111111111111111, \"#46039f\"], [0.2222222222222222, \"#7201a8\"], [0.3333333333333333, \"#9c179e\"], [0.4444444444444444, \"#bd3786\"], [0.5555555555555556, \"#d8576b\"], [0.6666666666666666, \"#ed7953\"], [0.7777777777777778, \"#fb9f3a\"], [0.8888888888888888, \"#fdca26\"], [1.0, \"#f0f921\"]], \"type\": \"contour\"}], \"contourcarpet\": [{\"colorbar\": {\"outlinewidth\": 0, \"ticks\": \"\"}, \"type\": \"contourcarpet\"}], \"heatmap\": [{\"colorbar\": {\"outlinewidth\": 0, \"ticks\": \"\"}, \"colorscale\": [[0.0, \"#0d0887\"], [0.1111111111111111, \"#46039f\"], [0.2222222222222222, \"#7201a8\"], [0.3333333333333333, \"#9c179e\"], [0.4444444444444444, \"#bd3786\"], [0.5555555555555556, \"#d8576b\"], [0.6666666666666666, \"#ed7953\"], [0.7777777777777778, \"#fb9f3a\"], [0.8888888888888888, \"#fdca26\"], [1.0, \"#f0f921\"]], \"type\": \"heatmap\"}], \"heatmapgl\": [{\"colorbar\": {\"outlinewidth\": 0, \"ticks\": \"\"}, \"colorscale\": [[0.0, \"#0d0887\"], [0.1111111111111111, \"#46039f\"], [0.2222222222222222, \"#7201a8\"], [0.3333333333333333, \"#9c179e\"], [0.4444444444444444, \"#bd3786\"], [0.5555555555555556, \"#d8576b\"], [0.6666666666666666, \"#ed7953\"], [0.7777777777777778, \"#fb9f3a\"], [0.8888888888888888, \"#fdca26\"], [1.0, \"#f0f921\"]], \"type\": \"heatmapgl\"}], \"histogram\": [{\"marker\": {\"colorbar\": {\"outlinewidth\": 0, \"ticks\": \"\"}}, \"type\": \"histogram\"}], \"histogram2d\": [{\"colorbar\": {\"outlinewidth\": 0, \"ticks\": \"\"}, \"colorscale\": [[0.0, \"#0d0887\"], [0.1111111111111111, \"#46039f\"], [0.2222222222222222, \"#7201a8\"], [0.3333333333333333, \"#9c179e\"], [0.4444444444444444, \"#bd3786\"], [0.5555555555555556, \"#d8576b\"], [0.6666666666666666, \"#ed7953\"], [0.7777777777777778, \"#fb9f3a\"], [0.8888888888888888, \"#fdca26\"], [1.0, \"#f0f921\"]], \"type\": \"histogram2d\"}], \"histogram2dcontour\": [{\"colorbar\": {\"outlinewidth\": 0, \"ticks\": \"\"}, \"colorscale\": [[0.0, \"#0d0887\"], [0.1111111111111111, \"#46039f\"], [0.2222222222222222, \"#7201a8\"], [0.3333333333333333, \"#9c179e\"], [0.4444444444444444, \"#bd3786\"], [0.5555555555555556, \"#d8576b\"], [0.6666666666666666, \"#ed7953\"], [0.7777777777777778, \"#fb9f3a\"], [0.8888888888888888, \"#fdca26\"], [1.0, \"#f0f921\"]], \"type\": \"histogram2dcontour\"}], \"mesh3d\": [{\"colorbar\": {\"outlinewidth\": 0, \"ticks\": \"\"}, \"type\": \"mesh3d\"}], \"parcoords\": [{\"line\": {\"colorbar\": {\"outlinewidth\": 0, \"ticks\": \"\"}}, \"type\": \"parcoords\"}], \"pie\": [{\"automargin\": true, \"type\": \"pie\"}], \"scatter\": [{\"marker\": {\"colorbar\": {\"outlinewidth\": 0, \"ticks\": \"\"}}, \"type\": \"scatter\"}], \"scatter3d\": [{\"line\": {\"colorbar\": {\"outlinewidth\": 0, \"ticks\": \"\"}}, \"marker\": {\"colorbar\": {\"outlinewidth\": 0, \"ticks\": \"\"}}, \"type\": \"scatter3d\"}], \"scattercarpet\": [{\"marker\": {\"colorbar\": {\"outlinewidth\": 0, \"ticks\": \"\"}}, \"type\": \"scattercarpet\"}], \"scattergeo\": [{\"marker\": {\"colorbar\": {\"outlinewidth\": 0, \"ticks\": \"\"}}, \"type\": \"scattergeo\"}], \"scattergl\": [{\"marker\": {\"colorbar\": {\"outlinewidth\": 0, \"ticks\": \"\"}}, \"type\": \"scattergl\"}], \"scattermapbox\": [{\"marker\": {\"colorbar\": {\"outlinewidth\": 0, \"ticks\": \"\"}}, \"type\": \"scattermapbox\"}], \"scatterpolar\": [{\"marker\": {\"colorbar\": {\"outlinewidth\": 0, \"ticks\": \"\"}}, \"type\": \"scatterpolar\"}], \"scatterpolargl\": [{\"marker\": {\"colorbar\": {\"outlinewidth\": 0, \"ticks\": \"\"}}, \"type\": \"scatterpolargl\"}], \"scatterternary\": [{\"marker\": {\"colorbar\": {\"outlinewidth\": 0, \"ticks\": \"\"}}, \"type\": \"scatterternary\"}], \"surface\": [{\"colorbar\": {\"outlinewidth\": 0, \"ticks\": \"\"}, \"colorscale\": [[0.0, \"#0d0887\"], [0.1111111111111111, \"#46039f\"], [0.2222222222222222, \"#7201a8\"], [0.3333333333333333, \"#9c179e\"], [0.4444444444444444, \"#bd3786\"], [0.5555555555555556, \"#d8576b\"], [0.6666666666666666, \"#ed7953\"], [0.7777777777777778, \"#fb9f3a\"], [0.8888888888888888, \"#fdca26\"], [1.0, \"#f0f921\"]], \"type\": \"surface\"}], \"table\": [{\"cells\": {\"fill\": {\"color\": \"#EBF0F8\"}, \"line\": {\"color\": \"white\"}}, \"header\": {\"fill\": {\"color\": \"#C8D4E3\"}, \"line\": {\"color\": \"white\"}}, \"type\": \"table\"}]}, \"layout\": {\"annotationdefaults\": {\"arrowcolor\": \"#2a3f5f\", \"arrowhead\": 0, \"arrowwidth\": 1}, \"coloraxis\": {\"colorbar\": {\"outlinewidth\": 0, \"ticks\": \"\"}}, \"colorscale\": {\"diverging\": [[0, \"#8e0152\"], [0.1, \"#c51b7d\"], [0.2, \"#de77ae\"], [0.3, \"#f1b6da\"], [0.4, \"#fde0ef\"], [0.5, \"#f7f7f7\"], [0.6, \"#e6f5d0\"], [0.7, \"#b8e186\"], [0.8, \"#7fbc41\"], [0.9, \"#4d9221\"], [1, \"#276419\"]], \"sequential\": [[0.0, \"#0d0887\"], [0.1111111111111111, \"#46039f\"], [0.2222222222222222, \"#7201a8\"], [0.3333333333333333, \"#9c179e\"], [0.4444444444444444, \"#bd3786\"], [0.5555555555555556, \"#d8576b\"], [0.6666666666666666, \"#ed7953\"], [0.7777777777777778, \"#fb9f3a\"], [0.8888888888888888, \"#fdca26\"], [1.0, \"#f0f921\"]], \"sequentialminus\": [[0.0, \"#0d0887\"], [0.1111111111111111, \"#46039f\"], [0.2222222222222222, \"#7201a8\"], [0.3333333333333333, \"#9c179e\"], [0.4444444444444444, \"#bd3786\"], [0.5555555555555556, \"#d8576b\"], [0.6666666666666666, \"#ed7953\"], [0.7777777777777778, \"#fb9f3a\"], [0.8888888888888888, \"#fdca26\"], [1.0, \"#f0f921\"]]}, \"colorway\": [\"#636efa\", \"#EF553B\", \"#00cc96\", \"#ab63fa\", \"#FFA15A\", \"#19d3f3\", \"#FF6692\", \"#B6E880\", \"#FF97FF\", \"#FECB52\"], \"font\": {\"color\": \"#2a3f5f\"}, \"geo\": {\"bgcolor\": \"white\", \"lakecolor\": \"white\", \"landcolor\": \"#E5ECF6\", \"showlakes\": true, \"showland\": true, \"subunitcolor\": \"white\"}, \"hoverlabel\": {\"align\": \"left\"}, \"hovermode\": \"closest\", \"mapbox\": {\"style\": \"light\"}, \"paper_bgcolor\": \"white\", \"plot_bgcolor\": \"#E5ECF6\", \"polar\": {\"angularaxis\": {\"gridcolor\": \"white\", \"linecolor\": \"white\", \"ticks\": \"\"}, \"bgcolor\": \"#E5ECF6\", \"radialaxis\": {\"gridcolor\": \"white\", \"linecolor\": \"white\", \"ticks\": \"\"}}, \"scene\": {\"xaxis\": {\"backgroundcolor\": \"#E5ECF6\", \"gridcolor\": \"white\", \"gridwidth\": 2, \"linecolor\": \"white\", \"showbackground\": true, \"ticks\": \"\", \"zerolinecolor\": \"white\"}, \"yaxis\": {\"backgroundcolor\": \"#E5ECF6\", \"gridcolor\": \"white\", \"gridwidth\": 2, \"linecolor\": \"white\", \"showbackground\": true, \"ticks\": \"\", \"zerolinecolor\": \"white\"}, \"zaxis\": {\"backgroundcolor\": \"#E5ECF6\", \"gridcolor\": \"white\", \"gridwidth\": 2, \"linecolor\": \"white\", \"showbackground\": true, \"ticks\": \"\", \"zerolinecolor\": \"white\"}}, \"shapedefaults\": {\"line\": {\"color\": \"#2a3f5f\"}}, \"ternary\": {\"aaxis\": {\"gridcolor\": \"white\", \"linecolor\": \"white\", \"ticks\": \"\"}, \"baxis\": {\"gridcolor\": \"white\", \"linecolor\": \"white\", \"ticks\": \"\"}, \"bgcolor\": \"#E5ECF6\", \"caxis\": {\"gridcolor\": \"white\", \"linecolor\": \"white\", \"ticks\": \"\"}}, \"title\": {\"x\": 0.05}, \"xaxis\": {\"automargin\": true, \"gridcolor\": \"white\", \"linecolor\": \"white\", \"ticks\": \"\", \"title\": {\"standoff\": 15}, \"zerolinecolor\": \"white\", \"zerolinewidth\": 2}, \"yaxis\": {\"automargin\": true, \"gridcolor\": \"white\", \"linecolor\": \"white\", \"ticks\": \"\", \"title\": {\"standoff\": 15}, \"zerolinecolor\": \"white\", \"zerolinewidth\": 2}}}, \"title\": {\"text\": \"Countries that produces that highest rice in Africa\"}, \"xaxis\": {\"anchor\": \"y\", \"domain\": [0.0, 1.0], \"title\": {\"text\": \"Year\"}}, \"yaxis\": {\"anchor\": \"x\", \"domain\": [0.0, 1.0], \"title\": {\"text\": \"Value\"}}},\n",
       "                        {\"responsive\": true}\n",
       "                    ).then(function(){\n",
       "                            \n",
       "var gd = document.getElementById('1980a8cc-f91e-479f-a397-083e79c9b046');\n",
       "var x = new MutationObserver(function (mutations, observer) {{\n",
       "        var display = window.getComputedStyle(gd).display;\n",
       "        if (!display || display === 'none') {{\n",
       "            console.log([gd, 'removed!']);\n",
       "            Plotly.purge(gd);\n",
       "            observer.disconnect();\n",
       "        }}\n",
       "}});\n",
       "\n",
       "// Listen for the removal of the full notebook cells\n",
       "var notebookContainer = gd.closest('#notebook-container');\n",
       "if (notebookContainer) {{\n",
       "    x.observe(notebookContainer, {childList: true});\n",
       "}}\n",
       "\n",
       "// Listen for the clearing of the current output cell\n",
       "var outputEl = gd.closest('.output');\n",
       "if (outputEl) {{\n",
       "    x.observe(outputEl, {childList: true});\n",
       "}}\n",
       "\n",
       "                        })\n",
       "                };\n",
       "                });\n",
       "            </script>\n",
       "        </div>"
      ]
     },
     "metadata": {},
     "output_type": "display_data"
    }
   ],
   "source": [
    "import plotly.express as px\n",
    "Highestriceproducers = px.line(New_rice, x='Year', y='Value', color='Country', title = 'Countries that produces that highest rice in Africa')\n",
    "Highestriceproducers.show()"
   ]
  },
  {
   "cell_type": "markdown",
   "metadata": {},
   "source": [
    "From the above plot we can see that Egypt,Nigeria and Madagascar produces the highest quantity of rice in Africa"
   ]
  },
  {
   "cell_type": "code",
   "execution_count": 39,
   "metadata": {},
   "outputs": [
    {
     "data": {
      "text/html": [
       "<div>\n",
       "<style scoped>\n",
       "    .dataframe tbody tr th:only-of-type {\n",
       "        vertical-align: middle;\n",
       "    }\n",
       "\n",
       "    .dataframe tbody tr th {\n",
       "        vertical-align: top;\n",
       "    }\n",
       "\n",
       "    .dataframe thead th {\n",
       "        text-align: right;\n",
       "    }\n",
       "</style>\n",
       "<table border=\"1\" class=\"dataframe\">\n",
       "  <thead>\n",
       "    <tr style=\"text-align: right;\">\n",
       "      <th></th>\n",
       "      <th>Country</th>\n",
       "      <th>Year</th>\n",
       "      <th>Value</th>\n",
       "    </tr>\n",
       "  </thead>\n",
       "  <tbody>\n",
       "    <tr>\n",
       "      <th>0</th>\n",
       "      <td>Algeria</td>\n",
       "      <td>2004</td>\n",
       "      <td>2987</td>\n",
       "    </tr>\n",
       "    <tr>\n",
       "      <th>1</th>\n",
       "      <td>Algeria</td>\n",
       "      <td>2005</td>\n",
       "      <td>2958</td>\n",
       "    </tr>\n",
       "    <tr>\n",
       "      <th>2</th>\n",
       "      <td>Algeria</td>\n",
       "      <td>2006</td>\n",
       "      <td>3047</td>\n",
       "    </tr>\n",
       "    <tr>\n",
       "      <th>3</th>\n",
       "      <td>Algeria</td>\n",
       "      <td>2007</td>\n",
       "      <td>3041</td>\n",
       "    </tr>\n",
       "    <tr>\n",
       "      <th>4</th>\n",
       "      <td>Algeria</td>\n",
       "      <td>2008</td>\n",
       "      <td>3048</td>\n",
       "    </tr>\n",
       "  </tbody>\n",
       "</table>\n",
       "</div>"
      ],
      "text/plain": [
       "   Country  Year  Value\n",
       "0  Algeria  2004   2987\n",
       "1  Algeria  2005   2958\n",
       "2  Algeria  2006   3047\n",
       "3  Algeria  2007   3041\n",
       "4  Algeria  2008   3048"
      ]
     },
     "execution_count": 39,
     "metadata": {},
     "output_type": "execute_result"
    }
   ],
   "source": [
    "African_supply = pd.read_csv('Africa Food Supply (2004 - 2013).csv')\n",
    "African_supply.head()"
   ]
  },
  {
   "cell_type": "code",
   "execution_count": 49,
   "metadata": {},
   "outputs": [
    {
     "data": {
      "text/html": [
       "<div>\n",
       "<style scoped>\n",
       "    .dataframe tbody tr th:only-of-type {\n",
       "        vertical-align: middle;\n",
       "    }\n",
       "\n",
       "    .dataframe tbody tr th {\n",
       "        vertical-align: top;\n",
       "    }\n",
       "\n",
       "    .dataframe thead th {\n",
       "        text-align: right;\n",
       "    }\n",
       "</style>\n",
       "<table border=\"1\" class=\"dataframe\">\n",
       "  <thead>\n",
       "    <tr style=\"text-align: right;\">\n",
       "      <th></th>\n",
       "      <th>Country</th>\n",
       "      <th>Item</th>\n",
       "      <th>Year</th>\n",
       "      <th>Value</th>\n",
       "    </tr>\n",
       "  </thead>\n",
       "  <tbody>\n",
       "    <tr>\n",
       "      <th>0</th>\n",
       "      <td>Algeria</td>\n",
       "      <td>Wheat and products</td>\n",
       "      <td>2004</td>\n",
       "      <td>2731</td>\n",
       "    </tr>\n",
       "    <tr>\n",
       "      <th>1</th>\n",
       "      <td>Algeria</td>\n",
       "      <td>Wheat and products</td>\n",
       "      <td>2005</td>\n",
       "      <td>2415</td>\n",
       "    </tr>\n",
       "    <tr>\n",
       "      <th>2</th>\n",
       "      <td>Algeria</td>\n",
       "      <td>Wheat and products</td>\n",
       "      <td>2006</td>\n",
       "      <td>2688</td>\n",
       "    </tr>\n",
       "    <tr>\n",
       "      <th>10</th>\n",
       "      <td>Algeria</td>\n",
       "      <td>Rice (Milled Equivalent)</td>\n",
       "      <td>2004</td>\n",
       "      <td>0</td>\n",
       "    </tr>\n",
       "    <tr>\n",
       "      <th>11</th>\n",
       "      <td>Algeria</td>\n",
       "      <td>Rice (Milled Equivalent)</td>\n",
       "      <td>2005</td>\n",
       "      <td>0</td>\n",
       "    </tr>\n",
       "    <tr>\n",
       "      <th>...</th>\n",
       "      <td>...</td>\n",
       "      <td>...</td>\n",
       "      <td>...</td>\n",
       "      <td>...</td>\n",
       "    </tr>\n",
       "    <tr>\n",
       "      <th>23091</th>\n",
       "      <td>Zimbabwe</td>\n",
       "      <td>Freshwater Fish</td>\n",
       "      <td>2005</td>\n",
       "      <td>13</td>\n",
       "    </tr>\n",
       "    <tr>\n",
       "      <th>23092</th>\n",
       "      <td>Zimbabwe</td>\n",
       "      <td>Freshwater Fish</td>\n",
       "      <td>2006</td>\n",
       "      <td>13</td>\n",
       "    </tr>\n",
       "    <tr>\n",
       "      <th>23100</th>\n",
       "      <td>Zimbabwe</td>\n",
       "      <td>Crustaceans</td>\n",
       "      <td>2004</td>\n",
       "      <td>0</td>\n",
       "    </tr>\n",
       "    <tr>\n",
       "      <th>23101</th>\n",
       "      <td>Zimbabwe</td>\n",
       "      <td>Crustaceans</td>\n",
       "      <td>2005</td>\n",
       "      <td>0</td>\n",
       "    </tr>\n",
       "    <tr>\n",
       "      <th>23102</th>\n",
       "      <td>Zimbabwe</td>\n",
       "      <td>Crustaceans</td>\n",
       "      <td>2006</td>\n",
       "      <td>0</td>\n",
       "    </tr>\n",
       "  </tbody>\n",
       "</table>\n",
       "<p>6936 rows × 4 columns</p>\n",
       "</div>"
      ],
      "text/plain": [
       "        Country                      Item  Year  Value\n",
       "0       Algeria        Wheat and products  2004   2731\n",
       "1       Algeria        Wheat and products  2005   2415\n",
       "2       Algeria        Wheat and products  2006   2688\n",
       "10      Algeria  Rice (Milled Equivalent)  2004      0\n",
       "11      Algeria  Rice (Milled Equivalent)  2005      0\n",
       "...         ...                       ...   ...    ...\n",
       "23091  Zimbabwe           Freshwater Fish  2005     13\n",
       "23092  Zimbabwe           Freshwater Fish  2006     13\n",
       "23100  Zimbabwe               Crustaceans  2004      0\n",
       "23101  Zimbabwe               Crustaceans  2005      0\n",
       "23102  Zimbabwe               Crustaceans  2006      0\n",
       "\n",
       "[6936 rows x 4 columns]"
      ]
     },
     "execution_count": 49,
     "metadata": {},
     "output_type": "execute_result"
    }
   ],
   "source": [
    "Rice2004_2006 = African_product[African_product['Year'].isin(['2004','2005','2006'])]\n",
    "Rice2004_2006"
   ]
  },
  {
   "cell_type": "code",
   "execution_count": 56,
   "metadata": {},
   "outputs": [
    {
     "data": {
      "application/vnd.plotly.v1+json": {
       "config": {
        "plotlyServerURL": "https://plot.ly"
       },
       "data": [
        {
         "hovertemplate": "Country=Algeria<br>Year=%{x}<br>Value=%{y}<extra></extra>",
         "legendgroup": "Algeria",
         "line": {
          "color": "#636efa",
          "dash": "solid"
         },
         "mode": "lines",
         "name": "Algeria",
         "orientation": "v",
         "showlegend": true,
         "type": "scatter",
         "x": [
          2004,
          2005,
          2006,
          2007,
          2008,
          2009,
          2010,
          2011,
          2012,
          2013
         ],
         "xaxis": "x",
         "y": [
          2987,
          2958,
          3047,
          3041,
          3048,
          3110,
          3142,
          3217,
          3272,
          3296
         ],
         "yaxis": "y"
        },
        {
         "hovertemplate": "Country=Angola<br>Year=%{x}<br>Value=%{y}<extra></extra>",
         "legendgroup": "Angola",
         "line": {
          "color": "#EF553B",
          "dash": "solid"
         },
         "mode": "lines",
         "name": "Angola",
         "orientation": "v",
         "showlegend": true,
         "type": "scatter",
         "x": [
          2004,
          2005,
          2006,
          2007,
          2008,
          2009,
          2010,
          2011,
          2012,
          2013
         ],
         "xaxis": "x",
         "y": [
          2030,
          2077,
          2119,
          2173,
          2245,
          2303,
          2345,
          2407,
          2384,
          2473
         ],
         "yaxis": "y"
        },
        {
         "hovertemplate": "Country=Benin<br>Year=%{x}<br>Value=%{y}<extra></extra>",
         "legendgroup": "Benin",
         "line": {
          "color": "#00cc96",
          "dash": "solid"
         },
         "mode": "lines",
         "name": "Benin",
         "orientation": "v",
         "showlegend": true,
         "type": "scatter",
         "x": [
          2004,
          2005,
          2006,
          2007,
          2008,
          2009,
          2010,
          2011,
          2012,
          2013
         ],
         "xaxis": "x",
         "y": [
          2461,
          2435,
          2450,
          2564,
          2521,
          2565,
          2555,
          2598,
          2610,
          2619
         ],
         "yaxis": "y"
        },
        {
         "hovertemplate": "Country=Botswana<br>Year=%{x}<br>Value=%{y}<extra></extra>",
         "legendgroup": "Botswana",
         "line": {
          "color": "#ab63fa",
          "dash": "solid"
         },
         "mode": "lines",
         "name": "Botswana",
         "orientation": "v",
         "showlegend": true,
         "type": "scatter",
         "x": [
          2004,
          2005,
          2006,
          2007,
          2008,
          2009,
          2010,
          2011,
          2012,
          2013
         ],
         "xaxis": "x",
         "y": [
          2191,
          2198,
          2150,
          2166,
          2184,
          2199,
          2234,
          2273,
          2342,
          2326
         ],
         "yaxis": "y"
        },
        {
         "hovertemplate": "Country=Burkina Faso<br>Year=%{x}<br>Value=%{y}<extra></extra>",
         "legendgroup": "Burkina Faso",
         "line": {
          "color": "#FFA15A",
          "dash": "solid"
         },
         "mode": "lines",
         "name": "Burkina Faso",
         "orientation": "v",
         "showlegend": true,
         "type": "scatter",
         "x": [
          2004,
          2005,
          2006,
          2007,
          2008,
          2009,
          2010,
          2011,
          2012,
          2013
         ],
         "xaxis": "x",
         "y": [
          2505,
          2463,
          2559,
          2546,
          2588,
          2639,
          2681,
          2664,
          2707,
          2720
         ],
         "yaxis": "y"
        },
        {
         "hovertemplate": "Country=Cabo Verde<br>Year=%{x}<br>Value=%{y}<extra></extra>",
         "legendgroup": "Cabo Verde",
         "line": {
          "color": "#19d3f3",
          "dash": "solid"
         },
         "mode": "lines",
         "name": "Cabo Verde",
         "orientation": "v",
         "showlegend": true,
         "type": "scatter",
         "x": [
          2004,
          2005,
          2006,
          2007,
          2008,
          2009,
          2010,
          2011,
          2012,
          2013
         ],
         "xaxis": "x",
         "y": [
          2523,
          2517,
          2513,
          2574,
          2540,
          2558,
          2524,
          2566,
          2590,
          2609
         ],
         "yaxis": "y"
        },
        {
         "hovertemplate": "Country=Cameroon<br>Year=%{x}<br>Value=%{y}<extra></extra>",
         "legendgroup": "Cameroon",
         "line": {
          "color": "#FF6692",
          "dash": "solid"
         },
         "mode": "lines",
         "name": "Cameroon",
         "orientation": "v",
         "showlegend": true,
         "type": "scatter",
         "x": [
          2004,
          2005,
          2006,
          2007,
          2008,
          2009,
          2010,
          2011,
          2012,
          2013
         ],
         "xaxis": "x",
         "y": [
          2246,
          2311,
          2354,
          2378,
          2446,
          2492,
          2510,
          2573,
          2622,
          2671
         ],
         "yaxis": "y"
        },
        {
         "hovertemplate": "Country=Central African Republic<br>Year=%{x}<br>Value=%{y}<extra></extra>",
         "legendgroup": "Central African Republic",
         "line": {
          "color": "#B6E880",
          "dash": "solid"
         },
         "mode": "lines",
         "name": "Central African Republic",
         "orientation": "v",
         "showlegend": true,
         "type": "scatter",
         "x": [
          2004,
          2005,
          2006,
          2007,
          2008,
          2009,
          2010,
          2011,
          2012,
          2013
         ],
         "xaxis": "x",
         "y": [
          1989,
          2026,
          2029,
          2090,
          2133,
          2139,
          2164,
          2154,
          2116,
          1879
         ],
         "yaxis": "y"
        },
        {
         "hovertemplate": "Country=Chad<br>Year=%{x}<br>Value=%{y}<extra></extra>",
         "legendgroup": "Chad",
         "line": {
          "color": "#FF97FF",
          "dash": "solid"
         },
         "mode": "lines",
         "name": "Chad",
         "orientation": "v",
         "showlegend": true,
         "type": "scatter",
         "x": [
          2004,
          2005,
          2006,
          2007,
          2008,
          2009,
          2010,
          2011,
          2012,
          2013
         ],
         "xaxis": "x",
         "y": [
          2026,
          2034,
          2022,
          2028,
          2027,
          2021,
          2057,
          2062,
          2124,
          2110
         ],
         "yaxis": "y"
        },
        {
         "hovertemplate": "Country=Congo<br>Year=%{x}<br>Value=%{y}<extra></extra>",
         "legendgroup": "Congo",
         "line": {
          "color": "#FECB52",
          "dash": "solid"
         },
         "mode": "lines",
         "name": "Congo",
         "orientation": "v",
         "showlegend": true,
         "type": "scatter",
         "x": [
          2004,
          2005,
          2006,
          2007,
          2008,
          2009,
          2010,
          2011,
          2012,
          2013
         ],
         "xaxis": "x",
         "y": [
          2263,
          2043,
          2143,
          2135,
          2110,
          2142,
          2143,
          2185,
          2158,
          2208
         ],
         "yaxis": "y"
        },
        {
         "hovertemplate": "Country=Cote d'Ivoire<br>Year=%{x}<br>Value=%{y}<extra></extra>",
         "legendgroup": "Cote d'Ivoire",
         "line": {
          "color": "#636efa",
          "dash": "solid"
         },
         "mode": "lines",
         "name": "Cote d'Ivoire",
         "orientation": "v",
         "showlegend": true,
         "type": "scatter",
         "x": [
          2004,
          2005,
          2006,
          2007,
          2008,
          2009,
          2010,
          2011,
          2012,
          2013
         ],
         "xaxis": "x",
         "y": [
          2738,
          2787,
          2783,
          2792,
          2739,
          2727,
          2737,
          2784,
          2780,
          2799
         ],
         "yaxis": "y"
        },
        {
         "hovertemplate": "Country=Djibouti<br>Year=%{x}<br>Value=%{y}<extra></extra>",
         "legendgroup": "Djibouti",
         "line": {
          "color": "#EF553B",
          "dash": "solid"
         },
         "mode": "lines",
         "name": "Djibouti",
         "orientation": "v",
         "showlegend": true,
         "type": "scatter",
         "x": [
          2004,
          2005,
          2006,
          2007,
          2008,
          2009,
          2010,
          2011,
          2012,
          2013
         ],
         "xaxis": "x",
         "y": [
          2136,
          2265,
          2314,
          2414,
          2447,
          2466,
          2467,
          2504,
          2545,
          2607
         ],
         "yaxis": "y"
        },
        {
         "hovertemplate": "Country=Egypt<br>Year=%{x}<br>Value=%{y}<extra></extra>",
         "legendgroup": "Egypt",
         "line": {
          "color": "#00cc96",
          "dash": "solid"
         },
         "mode": "lines",
         "name": "Egypt",
         "orientation": "v",
         "showlegend": true,
         "type": "scatter",
         "x": [
          2004,
          2005,
          2006,
          2007,
          2008,
          2009,
          2010,
          2011,
          2012,
          2013
         ],
         "xaxis": "x",
         "y": [
          3309,
          3367,
          3389,
          3445,
          3490,
          3441,
          3507,
          3549,
          3561,
          3522
         ],
         "yaxis": "y"
        },
        {
         "hovertemplate": "Country=Ethiopia<br>Year=%{x}<br>Value=%{y}<extra></extra>",
         "legendgroup": "Ethiopia",
         "line": {
          "color": "#ab63fa",
          "dash": "solid"
         },
         "mode": "lines",
         "name": "Ethiopia",
         "orientation": "v",
         "showlegend": true,
         "type": "scatter",
         "x": [
          2004,
          2005,
          2006,
          2007,
          2008,
          2009,
          2010,
          2011,
          2012,
          2013
         ],
         "xaxis": "x",
         "y": [
          1882,
          1978,
          1967,
          1957,
          2018,
          2052,
          2080,
          2103,
          2124,
          2131
         ],
         "yaxis": "y"
        },
        {
         "hovertemplate": "Country=Gabon<br>Year=%{x}<br>Value=%{y}<extra></extra>",
         "legendgroup": "Gabon",
         "line": {
          "color": "#FFA15A",
          "dash": "solid"
         },
         "mode": "lines",
         "name": "Gabon",
         "orientation": "v",
         "showlegend": true,
         "type": "scatter",
         "x": [
          2004,
          2005,
          2006,
          2007,
          2008,
          2009,
          2010,
          2011,
          2012,
          2013
         ],
         "xaxis": "x",
         "y": [
          2676,
          2715,
          2716,
          2711,
          2653,
          2699,
          2732,
          2772,
          2795,
          2830
         ],
         "yaxis": "y"
        },
        {
         "hovertemplate": "Country=Gambia<br>Year=%{x}<br>Value=%{y}<extra></extra>",
         "legendgroup": "Gambia",
         "line": {
          "color": "#19d3f3",
          "dash": "solid"
         },
         "mode": "lines",
         "name": "Gambia",
         "orientation": "v",
         "showlegend": true,
         "type": "scatter",
         "x": [
          2004,
          2005,
          2006,
          2007,
          2008,
          2009,
          2010,
          2011,
          2012,
          2013
         ],
         "xaxis": "x",
         "y": [
          2465,
          2442,
          2397,
          2535,
          2589,
          2621,
          2674,
          2692,
          2652,
          2628
         ],
         "yaxis": "y"
        },
        {
         "hovertemplate": "Country=Ghana<br>Year=%{x}<br>Value=%{y}<extra></extra>",
         "legendgroup": "Ghana",
         "line": {
          "color": "#FF6692",
          "dash": "solid"
         },
         "mode": "lines",
         "name": "Ghana",
         "orientation": "v",
         "showlegend": true,
         "type": "scatter",
         "x": [
          2004,
          2005,
          2006,
          2007,
          2008,
          2009,
          2010,
          2011,
          2012,
          2013
         ],
         "xaxis": "x",
         "y": [
          2682,
          2751,
          2824,
          2803,
          2950,
          3032,
          3077,
          3002,
          3043,
          3016
         ],
         "yaxis": "y"
        },
        {
         "hovertemplate": "Country=Guinea<br>Year=%{x}<br>Value=%{y}<extra></extra>",
         "legendgroup": "Guinea",
         "line": {
          "color": "#B6E880",
          "dash": "solid"
         },
         "mode": "lines",
         "name": "Guinea",
         "orientation": "v",
         "showlegend": true,
         "type": "scatter",
         "x": [
          2004,
          2005,
          2006,
          2007,
          2008,
          2009,
          2010,
          2011,
          2012,
          2013
         ],
         "xaxis": "x",
         "y": [
          2426,
          2443,
          2503,
          2505,
          2534,
          2546,
          2550,
          2546,
          2561,
          2566
         ],
         "yaxis": "y"
        },
        {
         "hovertemplate": "Country=Guinea-Bissau<br>Year=%{x}<br>Value=%{y}<extra></extra>",
         "legendgroup": "Guinea-Bissau",
         "line": {
          "color": "#FF97FF",
          "dash": "solid"
         },
         "mode": "lines",
         "name": "Guinea-Bissau",
         "orientation": "v",
         "showlegend": true,
         "type": "scatter",
         "x": [
          2004,
          2005,
          2006,
          2007,
          2008,
          2009,
          2010,
          2011,
          2012,
          2013
         ],
         "xaxis": "x",
         "y": [
          2257,
          2273,
          2253,
          2293,
          2304,
          2278,
          2346,
          2336,
          2331,
          2292
         ],
         "yaxis": "y"
        },
        {
         "hovertemplate": "Country=Kenya<br>Year=%{x}<br>Value=%{y}<extra></extra>",
         "legendgroup": "Kenya",
         "line": {
          "color": "#FECB52",
          "dash": "solid"
         },
         "mode": "lines",
         "name": "Kenya",
         "orientation": "v",
         "showlegend": true,
         "type": "scatter",
         "x": [
          2004,
          2005,
          2006,
          2007,
          2008,
          2009,
          2010,
          2011,
          2012,
          2013
         ],
         "xaxis": "x",
         "y": [
          2022,
          2161,
          2161,
          2110,
          2106,
          2165,
          2160,
          2170,
          2192,
          2206
         ],
         "yaxis": "y"
        },
        {
         "hovertemplate": "Country=Lesotho<br>Year=%{x}<br>Value=%{y}<extra></extra>",
         "legendgroup": "Lesotho",
         "line": {
          "color": "#636efa",
          "dash": "solid"
         },
         "mode": "lines",
         "name": "Lesotho",
         "orientation": "v",
         "showlegend": true,
         "type": "scatter",
         "x": [
          2004,
          2005,
          2006,
          2007,
          2008,
          2009,
          2010,
          2011,
          2012,
          2013
         ],
         "xaxis": "x",
         "y": [
          2541,
          2567,
          2595,
          2560,
          2558,
          2569,
          2572,
          2550,
          2547,
          2529
         ],
         "yaxis": "y"
        },
        {
         "hovertemplate": "Country=Liberia<br>Year=%{x}<br>Value=%{y}<extra></extra>",
         "legendgroup": "Liberia",
         "line": {
          "color": "#EF553B",
          "dash": "solid"
         },
         "mode": "lines",
         "name": "Liberia",
         "orientation": "v",
         "showlegend": true,
         "type": "scatter",
         "x": [
          2004,
          2005,
          2006,
          2007,
          2008,
          2009,
          2010,
          2011,
          2012,
          2013
         ],
         "xaxis": "x",
         "y": [
          2092,
          2160,
          2116,
          2145,
          2227,
          2231,
          2198,
          2254,
          2200,
          2204
         ],
         "yaxis": "y"
        },
        {
         "hovertemplate": "Country=Madagascar<br>Year=%{x}<br>Value=%{y}<extra></extra>",
         "legendgroup": "Madagascar",
         "line": {
          "color": "#00cc96",
          "dash": "solid"
         },
         "mode": "lines",
         "name": "Madagascar",
         "orientation": "v",
         "showlegend": true,
         "type": "scatter",
         "x": [
          2004,
          2005,
          2006,
          2007,
          2008,
          2009,
          2010,
          2011,
          2012,
          2013
         ],
         "xaxis": "x",
         "y": [
          1980,
          2060,
          2083,
          2096,
          2061,
          2065,
          2068,
          2085,
          2058,
          2052
         ],
         "yaxis": "y"
        },
        {
         "hovertemplate": "Country=Malawi<br>Year=%{x}<br>Value=%{y}<extra></extra>",
         "legendgroup": "Malawi",
         "line": {
          "color": "#ab63fa",
          "dash": "solid"
         },
         "mode": "lines",
         "name": "Malawi",
         "orientation": "v",
         "showlegend": true,
         "type": "scatter",
         "x": [
          2004,
          2005,
          2006,
          2007,
          2008,
          2009,
          2010,
          2011,
          2012,
          2013
         ],
         "xaxis": "x",
         "y": [
          2166,
          2191,
          2269,
          2293,
          2318,
          2311,
          2329,
          2348,
          2333,
          2367
         ],
         "yaxis": "y"
        },
        {
         "hovertemplate": "Country=Mali<br>Year=%{x}<br>Value=%{y}<extra></extra>",
         "legendgroup": "Mali",
         "line": {
          "color": "#FFA15A",
          "dash": "solid"
         },
         "mode": "lines",
         "name": "Mali",
         "orientation": "v",
         "showlegend": true,
         "type": "scatter",
         "x": [
          2004,
          2005,
          2006,
          2007,
          2008,
          2009,
          2010,
          2011,
          2012,
          2013
         ],
         "xaxis": "x",
         "y": [
          2540,
          2583,
          2654,
          2722,
          2777,
          2831,
          2813,
          2832,
          2860,
          2890
         ],
         "yaxis": "y"
        },
        {
         "hovertemplate": "Country=Mauritania<br>Year=%{x}<br>Value=%{y}<extra></extra>",
         "legendgroup": "Mauritania",
         "line": {
          "color": "#19d3f3",
          "dash": "solid"
         },
         "mode": "lines",
         "name": "Mauritania",
         "orientation": "v",
         "showlegend": true,
         "type": "scatter",
         "x": [
          2004,
          2005,
          2006,
          2007,
          2008,
          2009,
          2010,
          2011,
          2012,
          2013
         ],
         "xaxis": "x",
         "y": [
          2599,
          2629,
          2603,
          2726,
          2772,
          2762,
          2797,
          2806,
          2873,
          2876
         ],
         "yaxis": "y"
        },
        {
         "hovertemplate": "Country=Mauritius<br>Year=%{x}<br>Value=%{y}<extra></extra>",
         "legendgroup": "Mauritius",
         "line": {
          "color": "#FF6692",
          "dash": "solid"
         },
         "mode": "lines",
         "name": "Mauritius",
         "orientation": "v",
         "showlegend": true,
         "type": "scatter",
         "x": [
          2004,
          2005,
          2006,
          2007,
          2008,
          2009,
          2010,
          2011,
          2012,
          2013
         ],
         "xaxis": "x",
         "y": [
          3023,
          3009,
          3022,
          3076,
          3001,
          3124,
          3151,
          3058,
          3014,
          3065
         ],
         "yaxis": "y"
        },
        {
         "hovertemplate": "Country=Morocco<br>Year=%{x}<br>Value=%{y}<extra></extra>",
         "legendgroup": "Morocco",
         "line": {
          "color": "#B6E880",
          "dash": "solid"
         },
         "mode": "lines",
         "name": "Morocco",
         "orientation": "v",
         "showlegend": true,
         "type": "scatter",
         "x": [
          2004,
          2005,
          2006,
          2007,
          2008,
          2009,
          2010,
          2011,
          2012,
          2013
         ],
         "xaxis": "x",
         "y": [
          3263,
          3206,
          3271,
          3251,
          3271,
          3293,
          3294,
          3349,
          3366,
          3403
         ],
         "yaxis": "y"
        },
        {
         "hovertemplate": "Country=Mozambique<br>Year=%{x}<br>Value=%{y}<extra></extra>",
         "legendgroup": "Mozambique",
         "line": {
          "color": "#FF97FF",
          "dash": "solid"
         },
         "mode": "lines",
         "name": "Mozambique",
         "orientation": "v",
         "showlegend": true,
         "type": "scatter",
         "x": [
          2004,
          2005,
          2006,
          2007,
          2008,
          2009,
          2010,
          2011,
          2012,
          2013
         ],
         "xaxis": "x",
         "y": [
          2059,
          2038,
          2111,
          2083,
          2164,
          2165,
          2242,
          2259,
          2298,
          2283
         ],
         "yaxis": "y"
        },
        {
         "hovertemplate": "Country=Namibia<br>Year=%{x}<br>Value=%{y}<extra></extra>",
         "legendgroup": "Namibia",
         "line": {
          "color": "#FECB52",
          "dash": "solid"
         },
         "mode": "lines",
         "name": "Namibia",
         "orientation": "v",
         "showlegend": true,
         "type": "scatter",
         "x": [
          2004,
          2005,
          2006,
          2007,
          2008,
          2009,
          2010,
          2011,
          2012,
          2013
         ],
         "xaxis": "x",
         "y": [
          2268,
          2243,
          2230,
          2218,
          2120,
          2062,
          2055,
          2090,
          2145,
          2171
         ],
         "yaxis": "y"
        },
        {
         "hovertemplate": "Country=Niger<br>Year=%{x}<br>Value=%{y}<extra></extra>",
         "legendgroup": "Niger",
         "line": {
          "color": "#636efa",
          "dash": "solid"
         },
         "mode": "lines",
         "name": "Niger",
         "orientation": "v",
         "showlegend": true,
         "type": "scatter",
         "x": [
          2004,
          2005,
          2006,
          2007,
          2008,
          2009,
          2010,
          2011,
          2012,
          2013
         ],
         "xaxis": "x",
         "y": [
          2453,
          2444,
          2442,
          2461,
          2520,
          2523,
          2533,
          2534,
          2567,
          2547
         ],
         "yaxis": "y"
        },
        {
         "hovertemplate": "Country=Nigeria<br>Year=%{x}<br>Value=%{y}<extra></extra>",
         "legendgroup": "Nigeria",
         "line": {
          "color": "#EF553B",
          "dash": "solid"
         },
         "mode": "lines",
         "name": "Nigeria",
         "orientation": "v",
         "showlegend": true,
         "type": "scatter",
         "x": [
          2004,
          2005,
          2006,
          2007,
          2008,
          2009,
          2010,
          2011,
          2012,
          2013
         ],
         "xaxis": "x",
         "y": [
          2655,
          2705,
          2725,
          2720,
          2723,
          2683,
          2706,
          2706,
          2665,
          2700
         ],
         "yaxis": "y"
        },
        {
         "hovertemplate": "Country=Rwanda<br>Year=%{x}<br>Value=%{y}<extra></extra>",
         "legendgroup": "Rwanda",
         "line": {
          "color": "#00cc96",
          "dash": "solid"
         },
         "mode": "lines",
         "name": "Rwanda",
         "orientation": "v",
         "showlegend": true,
         "type": "scatter",
         "x": [
          2004,
          2005,
          2006,
          2007,
          2008,
          2009,
          2010,
          2011,
          2012,
          2013
         ],
         "xaxis": "x",
         "y": [
          1969,
          2037,
          2044,
          2053,
          2101,
          2196,
          2198,
          2213,
          2270,
          2228
         ],
         "yaxis": "y"
        },
        {
         "hovertemplate": "Country=Sao Tome and Principe<br>Year=%{x}<br>Value=%{y}<extra></extra>",
         "legendgroup": "Sao Tome and Principe",
         "line": {
          "color": "#ab63fa",
          "dash": "solid"
         },
         "mode": "lines",
         "name": "Sao Tome and Principe",
         "orientation": "v",
         "showlegend": true,
         "type": "scatter",
         "x": [
          2004,
          2005,
          2006,
          2007,
          2008,
          2009,
          2010,
          2011,
          2012,
          2013
         ],
         "xaxis": "x",
         "y": [
          2513,
          2546,
          2554,
          2511,
          2466,
          2435,
          2368,
          2331,
          2338,
          2400
         ],
         "yaxis": "y"
        },
        {
         "hovertemplate": "Country=Senegal<br>Year=%{x}<br>Value=%{y}<extra></extra>",
         "legendgroup": "Senegal",
         "line": {
          "color": "#FFA15A",
          "dash": "solid"
         },
         "mode": "lines",
         "name": "Senegal",
         "orientation": "v",
         "showlegend": true,
         "type": "scatter",
         "x": [
          2004,
          2005,
          2006,
          2007,
          2008,
          2009,
          2010,
          2011,
          2012,
          2013
         ],
         "xaxis": "x",
         "y": [
          2248,
          2237,
          2310,
          2342,
          2439,
          2446,
          2435,
          2428,
          2443,
          2456
         ],
         "yaxis": "y"
        },
        {
         "hovertemplate": "Country=Sierra Leone<br>Year=%{x}<br>Value=%{y}<extra></extra>",
         "legendgroup": "Sierra Leone",
         "line": {
          "color": "#19d3f3",
          "dash": "solid"
         },
         "mode": "lines",
         "name": "Sierra Leone",
         "orientation": "v",
         "showlegend": true,
         "type": "scatter",
         "x": [
          2004,
          2005,
          2006,
          2007,
          2008,
          2009,
          2010,
          2011,
          2012,
          2013
         ],
         "xaxis": "x",
         "y": [
          2024,
          2082,
          2155,
          2194,
          2197,
          2251,
          2275,
          2335,
          2374,
          2404
         ],
         "yaxis": "y"
        },
        {
         "hovertemplate": "Country=South Africa<br>Year=%{x}<br>Value=%{y}<extra></extra>",
         "legendgroup": "South Africa",
         "line": {
          "color": "#FF6692",
          "dash": "solid"
         },
         "mode": "lines",
         "name": "South Africa",
         "orientation": "v",
         "showlegend": true,
         "type": "scatter",
         "x": [
          2004,
          2005,
          2006,
          2007,
          2008,
          2009,
          2010,
          2011,
          2012,
          2013
         ],
         "xaxis": "x",
         "y": [
          2940,
          2952,
          2927,
          2920,
          2924,
          2936,
          2992,
          3002,
          3014,
          3022
         ],
         "yaxis": "y"
        },
        {
         "hovertemplate": "Country=Sudan<br>Year=%{x}<br>Value=%{y}<extra></extra>",
         "legendgroup": "Sudan",
         "line": {
          "color": "#B6E880",
          "dash": "solid"
         },
         "mode": "lines",
         "name": "Sudan",
         "orientation": "v",
         "showlegend": true,
         "type": "scatter",
         "x": [
          2012,
          2013,
          2004,
          2005,
          2006,
          2007,
          2008,
          2009,
          2010,
          2011
         ],
         "xaxis": "x",
         "y": [
          2301,
          2336,
          2271,
          2296,
          2331,
          2344,
          2344,
          2346,
          2323,
          2346
         ],
         "yaxis": "y"
        },
        {
         "hovertemplate": "Country=Swaziland<br>Year=%{x}<br>Value=%{y}<extra></extra>",
         "legendgroup": "Swaziland",
         "line": {
          "color": "#FF97FF",
          "dash": "solid"
         },
         "mode": "lines",
         "name": "Swaziland",
         "orientation": "v",
         "showlegend": true,
         "type": "scatter",
         "x": [
          2004,
          2005,
          2006,
          2007,
          2008,
          2009,
          2010,
          2011,
          2012,
          2013
         ],
         "xaxis": "x",
         "y": [
          2469,
          2372,
          2325,
          2310,
          2257,
          2249,
          2284,
          2283,
          2293,
          2329
         ],
         "yaxis": "y"
        },
        {
         "hovertemplate": "Country=Togo<br>Year=%{x}<br>Value=%{y}<extra></extra>",
         "legendgroup": "Togo",
         "line": {
          "color": "#FECB52",
          "dash": "solid"
         },
         "mode": "lines",
         "name": "Togo",
         "orientation": "v",
         "showlegend": true,
         "type": "scatter",
         "x": [
          2004,
          2005,
          2006,
          2007,
          2008,
          2009,
          2010,
          2011,
          2012,
          2013
         ],
         "xaxis": "x",
         "y": [
          2246,
          2238,
          2283,
          2295,
          2316,
          2340,
          2370,
          2383,
          2414,
          2454
         ],
         "yaxis": "y"
        },
        {
         "hovertemplate": "Country=Tunisia<br>Year=%{x}<br>Value=%{y}<extra></extra>",
         "legendgroup": "Tunisia",
         "line": {
          "color": "#636efa",
          "dash": "solid"
         },
         "mode": "lines",
         "name": "Tunisia",
         "orientation": "v",
         "showlegend": true,
         "type": "scatter",
         "x": [
          2004,
          2005,
          2006,
          2007,
          2008,
          2009,
          2010,
          2011,
          2012,
          2013
         ],
         "xaxis": "x",
         "y": [
          3248,
          3220,
          3273,
          3252,
          3302,
          3335,
          3326,
          3360,
          3390,
          3349
         ],
         "yaxis": "y"
        },
        {
         "hovertemplate": "Country=Uganda<br>Year=%{x}<br>Value=%{y}<extra></extra>",
         "legendgroup": "Uganda",
         "line": {
          "color": "#EF553B",
          "dash": "solid"
         },
         "mode": "lines",
         "name": "Uganda",
         "orientation": "v",
         "showlegend": true,
         "type": "scatter",
         "x": [
          2004,
          2005,
          2006,
          2007,
          2008,
          2009,
          2010,
          2011,
          2012,
          2013
         ],
         "xaxis": "x",
         "y": [
          2351,
          2327,
          2276,
          2212,
          2177,
          2194,
          2200,
          2178,
          2160,
          2130
         ],
         "yaxis": "y"
        },
        {
         "hovertemplate": "Country=United Republic of Tanzania<br>Year=%{x}<br>Value=%{y}<extra></extra>",
         "legendgroup": "United Republic of Tanzania",
         "line": {
          "color": "#00cc96",
          "dash": "solid"
         },
         "mode": "lines",
         "name": "United Republic of Tanzania",
         "orientation": "v",
         "showlegend": true,
         "type": "scatter",
         "x": [
          2004,
          2005,
          2006,
          2007,
          2008,
          2009,
          2010,
          2011,
          2012,
          2013
         ],
         "xaxis": "x",
         "y": [
          2098,
          2134,
          2141,
          2215,
          2132,
          2133,
          2097,
          2200,
          2192,
          2208
         ],
         "yaxis": "y"
        },
        {
         "hovertemplate": "Country=Zambia<br>Year=%{x}<br>Value=%{y}<extra></extra>",
         "legendgroup": "Zambia",
         "line": {
          "color": "#ab63fa",
          "dash": "solid"
         },
         "mode": "lines",
         "name": "Zambia",
         "orientation": "v",
         "showlegend": true,
         "type": "scatter",
         "x": [
          2004,
          2005,
          2006,
          2007,
          2008,
          2009,
          2010,
          2011,
          2012,
          2013
         ],
         "xaxis": "x",
         "y": [
          1866,
          1873,
          1838,
          1781,
          1801,
          1878,
          1904,
          1907,
          1923,
          1930
         ],
         "yaxis": "y"
        },
        {
         "hovertemplate": "Country=Zimbabwe<br>Year=%{x}<br>Value=%{y}<extra></extra>",
         "legendgroup": "Zimbabwe",
         "line": {
          "color": "#FFA15A",
          "dash": "solid"
         },
         "mode": "lines",
         "name": "Zimbabwe",
         "orientation": "v",
         "showlegend": true,
         "type": "scatter",
         "x": [
          2004,
          2005,
          2006,
          2007,
          2008,
          2009,
          2010,
          2011,
          2012,
          2013
         ],
         "xaxis": "x",
         "y": [
          2044,
          2025,
          2115,
          2109,
          2094,
          2147,
          2168,
          2200,
          2197,
          2110
         ],
         "yaxis": "y"
        }
       ],
       "layout": {
        "legend": {
         "title": {
          "text": "Country"
         },
         "tracegroupgap": 0
        },
        "margin": {
         "t": 60
        },
        "template": {
         "data": {
          "bar": [
           {
            "error_x": {
             "color": "#2a3f5f"
            },
            "error_y": {
             "color": "#2a3f5f"
            },
            "marker": {
             "line": {
              "color": "#E5ECF6",
              "width": 0.5
             }
            },
            "type": "bar"
           }
          ],
          "barpolar": [
           {
            "marker": {
             "line": {
              "color": "#E5ECF6",
              "width": 0.5
             }
            },
            "type": "barpolar"
           }
          ],
          "carpet": [
           {
            "aaxis": {
             "endlinecolor": "#2a3f5f",
             "gridcolor": "white",
             "linecolor": "white",
             "minorgridcolor": "white",
             "startlinecolor": "#2a3f5f"
            },
            "baxis": {
             "endlinecolor": "#2a3f5f",
             "gridcolor": "white",
             "linecolor": "white",
             "minorgridcolor": "white",
             "startlinecolor": "#2a3f5f"
            },
            "type": "carpet"
           }
          ],
          "choropleth": [
           {
            "colorbar": {
             "outlinewidth": 0,
             "ticks": ""
            },
            "type": "choropleth"
           }
          ],
          "contour": [
           {
            "colorbar": {
             "outlinewidth": 0,
             "ticks": ""
            },
            "colorscale": [
             [
              0,
              "#0d0887"
             ],
             [
              0.1111111111111111,
              "#46039f"
             ],
             [
              0.2222222222222222,
              "#7201a8"
             ],
             [
              0.3333333333333333,
              "#9c179e"
             ],
             [
              0.4444444444444444,
              "#bd3786"
             ],
             [
              0.5555555555555556,
              "#d8576b"
             ],
             [
              0.6666666666666666,
              "#ed7953"
             ],
             [
              0.7777777777777778,
              "#fb9f3a"
             ],
             [
              0.8888888888888888,
              "#fdca26"
             ],
             [
              1,
              "#f0f921"
             ]
            ],
            "type": "contour"
           }
          ],
          "contourcarpet": [
           {
            "colorbar": {
             "outlinewidth": 0,
             "ticks": ""
            },
            "type": "contourcarpet"
           }
          ],
          "heatmap": [
           {
            "colorbar": {
             "outlinewidth": 0,
             "ticks": ""
            },
            "colorscale": [
             [
              0,
              "#0d0887"
             ],
             [
              0.1111111111111111,
              "#46039f"
             ],
             [
              0.2222222222222222,
              "#7201a8"
             ],
             [
              0.3333333333333333,
              "#9c179e"
             ],
             [
              0.4444444444444444,
              "#bd3786"
             ],
             [
              0.5555555555555556,
              "#d8576b"
             ],
             [
              0.6666666666666666,
              "#ed7953"
             ],
             [
              0.7777777777777778,
              "#fb9f3a"
             ],
             [
              0.8888888888888888,
              "#fdca26"
             ],
             [
              1,
              "#f0f921"
             ]
            ],
            "type": "heatmap"
           }
          ],
          "heatmapgl": [
           {
            "colorbar": {
             "outlinewidth": 0,
             "ticks": ""
            },
            "colorscale": [
             [
              0,
              "#0d0887"
             ],
             [
              0.1111111111111111,
              "#46039f"
             ],
             [
              0.2222222222222222,
              "#7201a8"
             ],
             [
              0.3333333333333333,
              "#9c179e"
             ],
             [
              0.4444444444444444,
              "#bd3786"
             ],
             [
              0.5555555555555556,
              "#d8576b"
             ],
             [
              0.6666666666666666,
              "#ed7953"
             ],
             [
              0.7777777777777778,
              "#fb9f3a"
             ],
             [
              0.8888888888888888,
              "#fdca26"
             ],
             [
              1,
              "#f0f921"
             ]
            ],
            "type": "heatmapgl"
           }
          ],
          "histogram": [
           {
            "marker": {
             "colorbar": {
              "outlinewidth": 0,
              "ticks": ""
             }
            },
            "type": "histogram"
           }
          ],
          "histogram2d": [
           {
            "colorbar": {
             "outlinewidth": 0,
             "ticks": ""
            },
            "colorscale": [
             [
              0,
              "#0d0887"
             ],
             [
              0.1111111111111111,
              "#46039f"
             ],
             [
              0.2222222222222222,
              "#7201a8"
             ],
             [
              0.3333333333333333,
              "#9c179e"
             ],
             [
              0.4444444444444444,
              "#bd3786"
             ],
             [
              0.5555555555555556,
              "#d8576b"
             ],
             [
              0.6666666666666666,
              "#ed7953"
             ],
             [
              0.7777777777777778,
              "#fb9f3a"
             ],
             [
              0.8888888888888888,
              "#fdca26"
             ],
             [
              1,
              "#f0f921"
             ]
            ],
            "type": "histogram2d"
           }
          ],
          "histogram2dcontour": [
           {
            "colorbar": {
             "outlinewidth": 0,
             "ticks": ""
            },
            "colorscale": [
             [
              0,
              "#0d0887"
             ],
             [
              0.1111111111111111,
              "#46039f"
             ],
             [
              0.2222222222222222,
              "#7201a8"
             ],
             [
              0.3333333333333333,
              "#9c179e"
             ],
             [
              0.4444444444444444,
              "#bd3786"
             ],
             [
              0.5555555555555556,
              "#d8576b"
             ],
             [
              0.6666666666666666,
              "#ed7953"
             ],
             [
              0.7777777777777778,
              "#fb9f3a"
             ],
             [
              0.8888888888888888,
              "#fdca26"
             ],
             [
              1,
              "#f0f921"
             ]
            ],
            "type": "histogram2dcontour"
           }
          ],
          "mesh3d": [
           {
            "colorbar": {
             "outlinewidth": 0,
             "ticks": ""
            },
            "type": "mesh3d"
           }
          ],
          "parcoords": [
           {
            "line": {
             "colorbar": {
              "outlinewidth": 0,
              "ticks": ""
             }
            },
            "type": "parcoords"
           }
          ],
          "pie": [
           {
            "automargin": true,
            "type": "pie"
           }
          ],
          "scatter": [
           {
            "marker": {
             "colorbar": {
              "outlinewidth": 0,
              "ticks": ""
             }
            },
            "type": "scatter"
           }
          ],
          "scatter3d": [
           {
            "line": {
             "colorbar": {
              "outlinewidth": 0,
              "ticks": ""
             }
            },
            "marker": {
             "colorbar": {
              "outlinewidth": 0,
              "ticks": ""
             }
            },
            "type": "scatter3d"
           }
          ],
          "scattercarpet": [
           {
            "marker": {
             "colorbar": {
              "outlinewidth": 0,
              "ticks": ""
             }
            },
            "type": "scattercarpet"
           }
          ],
          "scattergeo": [
           {
            "marker": {
             "colorbar": {
              "outlinewidth": 0,
              "ticks": ""
             }
            },
            "type": "scattergeo"
           }
          ],
          "scattergl": [
           {
            "marker": {
             "colorbar": {
              "outlinewidth": 0,
              "ticks": ""
             }
            },
            "type": "scattergl"
           }
          ],
          "scattermapbox": [
           {
            "marker": {
             "colorbar": {
              "outlinewidth": 0,
              "ticks": ""
             }
            },
            "type": "scattermapbox"
           }
          ],
          "scatterpolar": [
           {
            "marker": {
             "colorbar": {
              "outlinewidth": 0,
              "ticks": ""
             }
            },
            "type": "scatterpolar"
           }
          ],
          "scatterpolargl": [
           {
            "marker": {
             "colorbar": {
              "outlinewidth": 0,
              "ticks": ""
             }
            },
            "type": "scatterpolargl"
           }
          ],
          "scatterternary": [
           {
            "marker": {
             "colorbar": {
              "outlinewidth": 0,
              "ticks": ""
             }
            },
            "type": "scatterternary"
           }
          ],
          "surface": [
           {
            "colorbar": {
             "outlinewidth": 0,
             "ticks": ""
            },
            "colorscale": [
             [
              0,
              "#0d0887"
             ],
             [
              0.1111111111111111,
              "#46039f"
             ],
             [
              0.2222222222222222,
              "#7201a8"
             ],
             [
              0.3333333333333333,
              "#9c179e"
             ],
             [
              0.4444444444444444,
              "#bd3786"
             ],
             [
              0.5555555555555556,
              "#d8576b"
             ],
             [
              0.6666666666666666,
              "#ed7953"
             ],
             [
              0.7777777777777778,
              "#fb9f3a"
             ],
             [
              0.8888888888888888,
              "#fdca26"
             ],
             [
              1,
              "#f0f921"
             ]
            ],
            "type": "surface"
           }
          ],
          "table": [
           {
            "cells": {
             "fill": {
              "color": "#EBF0F8"
             },
             "line": {
              "color": "white"
             }
            },
            "header": {
             "fill": {
              "color": "#C8D4E3"
             },
             "line": {
              "color": "white"
             }
            },
            "type": "table"
           }
          ]
         },
         "layout": {
          "annotationdefaults": {
           "arrowcolor": "#2a3f5f",
           "arrowhead": 0,
           "arrowwidth": 1
          },
          "coloraxis": {
           "colorbar": {
            "outlinewidth": 0,
            "ticks": ""
           }
          },
          "colorscale": {
           "diverging": [
            [
             0,
             "#8e0152"
            ],
            [
             0.1,
             "#c51b7d"
            ],
            [
             0.2,
             "#de77ae"
            ],
            [
             0.3,
             "#f1b6da"
            ],
            [
             0.4,
             "#fde0ef"
            ],
            [
             0.5,
             "#f7f7f7"
            ],
            [
             0.6,
             "#e6f5d0"
            ],
            [
             0.7,
             "#b8e186"
            ],
            [
             0.8,
             "#7fbc41"
            ],
            [
             0.9,
             "#4d9221"
            ],
            [
             1,
             "#276419"
            ]
           ],
           "sequential": [
            [
             0,
             "#0d0887"
            ],
            [
             0.1111111111111111,
             "#46039f"
            ],
            [
             0.2222222222222222,
             "#7201a8"
            ],
            [
             0.3333333333333333,
             "#9c179e"
            ],
            [
             0.4444444444444444,
             "#bd3786"
            ],
            [
             0.5555555555555556,
             "#d8576b"
            ],
            [
             0.6666666666666666,
             "#ed7953"
            ],
            [
             0.7777777777777778,
             "#fb9f3a"
            ],
            [
             0.8888888888888888,
             "#fdca26"
            ],
            [
             1,
             "#f0f921"
            ]
           ],
           "sequentialminus": [
            [
             0,
             "#0d0887"
            ],
            [
             0.1111111111111111,
             "#46039f"
            ],
            [
             0.2222222222222222,
             "#7201a8"
            ],
            [
             0.3333333333333333,
             "#9c179e"
            ],
            [
             0.4444444444444444,
             "#bd3786"
            ],
            [
             0.5555555555555556,
             "#d8576b"
            ],
            [
             0.6666666666666666,
             "#ed7953"
            ],
            [
             0.7777777777777778,
             "#fb9f3a"
            ],
            [
             0.8888888888888888,
             "#fdca26"
            ],
            [
             1,
             "#f0f921"
            ]
           ]
          },
          "colorway": [
           "#636efa",
           "#EF553B",
           "#00cc96",
           "#ab63fa",
           "#FFA15A",
           "#19d3f3",
           "#FF6692",
           "#B6E880",
           "#FF97FF",
           "#FECB52"
          ],
          "font": {
           "color": "#2a3f5f"
          },
          "geo": {
           "bgcolor": "white",
           "lakecolor": "white",
           "landcolor": "#E5ECF6",
           "showlakes": true,
           "showland": true,
           "subunitcolor": "white"
          },
          "hoverlabel": {
           "align": "left"
          },
          "hovermode": "closest",
          "mapbox": {
           "style": "light"
          },
          "paper_bgcolor": "white",
          "plot_bgcolor": "#E5ECF6",
          "polar": {
           "angularaxis": {
            "gridcolor": "white",
            "linecolor": "white",
            "ticks": ""
           },
           "bgcolor": "#E5ECF6",
           "radialaxis": {
            "gridcolor": "white",
            "linecolor": "white",
            "ticks": ""
           }
          },
          "scene": {
           "xaxis": {
            "backgroundcolor": "#E5ECF6",
            "gridcolor": "white",
            "gridwidth": 2,
            "linecolor": "white",
            "showbackground": true,
            "ticks": "",
            "zerolinecolor": "white"
           },
           "yaxis": {
            "backgroundcolor": "#E5ECF6",
            "gridcolor": "white",
            "gridwidth": 2,
            "linecolor": "white",
            "showbackground": true,
            "ticks": "",
            "zerolinecolor": "white"
           },
           "zaxis": {
            "backgroundcolor": "#E5ECF6",
            "gridcolor": "white",
            "gridwidth": 2,
            "linecolor": "white",
            "showbackground": true,
            "ticks": "",
            "zerolinecolor": "white"
           }
          },
          "shapedefaults": {
           "line": {
            "color": "#2a3f5f"
           }
          },
          "ternary": {
           "aaxis": {
            "gridcolor": "white",
            "linecolor": "white",
            "ticks": ""
           },
           "baxis": {
            "gridcolor": "white",
            "linecolor": "white",
            "ticks": ""
           },
           "bgcolor": "#E5ECF6",
           "caxis": {
            "gridcolor": "white",
            "linecolor": "white",
            "ticks": ""
           }
          },
          "title": {
           "x": 0.05
          },
          "xaxis": {
           "automargin": true,
           "gridcolor": "white",
           "linecolor": "white",
           "ticks": "",
           "title": {
            "standoff": 15
           },
           "zerolinecolor": "white",
           "zerolinewidth": 2
          },
          "yaxis": {
           "automargin": true,
           "gridcolor": "white",
           "linecolor": "white",
           "ticks": "",
           "title": {
            "standoff": 15
           },
           "zerolinecolor": "white",
           "zerolinewidth": 2
          }
         }
        },
        "xaxis": {
         "anchor": "y",
         "domain": [
          0,
          1
         ],
         "title": {
          "text": "Year"
         }
        },
        "yaxis": {
         "anchor": "x",
         "domain": [
          0,
          1
         ],
         "title": {
          "text": "Value"
         }
        }
       }
      },
      "text/html": [
       "<div>\n",
       "        \n",
       "        \n",
       "            <div id=\"9b68a4ae-72aa-42ce-8151-fe0f00d5416b\" class=\"plotly-graph-div\" style=\"height:525px; width:100%;\"></div>\n",
       "            <script type=\"text/javascript\">\n",
       "                require([\"plotly\"], function(Plotly) {\n",
       "                    window.PLOTLYENV=window.PLOTLYENV || {};\n",
       "                    \n",
       "                if (document.getElementById(\"9b68a4ae-72aa-42ce-8151-fe0f00d5416b\")) {\n",
       "                    Plotly.newPlot(\n",
       "                        '9b68a4ae-72aa-42ce-8151-fe0f00d5416b',\n",
       "                        [{\"hovertemplate\": \"Country=Algeria<br>Year=%{x}<br>Value=%{y}<extra></extra>\", \"legendgroup\": \"Algeria\", \"line\": {\"color\": \"#636efa\", \"dash\": \"solid\"}, \"mode\": \"lines\", \"name\": \"Algeria\", \"orientation\": \"v\", \"showlegend\": true, \"type\": \"scatter\", \"x\": [2004, 2005, 2006, 2007, 2008, 2009, 2010, 2011, 2012, 2013], \"xaxis\": \"x\", \"y\": [2987, 2958, 3047, 3041, 3048, 3110, 3142, 3217, 3272, 3296], \"yaxis\": \"y\"}, {\"hovertemplate\": \"Country=Angola<br>Year=%{x}<br>Value=%{y}<extra></extra>\", \"legendgroup\": \"Angola\", \"line\": {\"color\": \"#EF553B\", \"dash\": \"solid\"}, \"mode\": \"lines\", \"name\": \"Angola\", \"orientation\": \"v\", \"showlegend\": true, \"type\": \"scatter\", \"x\": [2004, 2005, 2006, 2007, 2008, 2009, 2010, 2011, 2012, 2013], \"xaxis\": \"x\", \"y\": [2030, 2077, 2119, 2173, 2245, 2303, 2345, 2407, 2384, 2473], \"yaxis\": \"y\"}, {\"hovertemplate\": \"Country=Benin<br>Year=%{x}<br>Value=%{y}<extra></extra>\", \"legendgroup\": \"Benin\", \"line\": {\"color\": \"#00cc96\", \"dash\": \"solid\"}, \"mode\": \"lines\", \"name\": \"Benin\", \"orientation\": \"v\", \"showlegend\": true, \"type\": \"scatter\", \"x\": [2004, 2005, 2006, 2007, 2008, 2009, 2010, 2011, 2012, 2013], \"xaxis\": \"x\", \"y\": [2461, 2435, 2450, 2564, 2521, 2565, 2555, 2598, 2610, 2619], \"yaxis\": \"y\"}, {\"hovertemplate\": \"Country=Botswana<br>Year=%{x}<br>Value=%{y}<extra></extra>\", \"legendgroup\": \"Botswana\", \"line\": {\"color\": \"#ab63fa\", \"dash\": \"solid\"}, \"mode\": \"lines\", \"name\": \"Botswana\", \"orientation\": \"v\", \"showlegend\": true, \"type\": \"scatter\", \"x\": [2004, 2005, 2006, 2007, 2008, 2009, 2010, 2011, 2012, 2013], \"xaxis\": \"x\", \"y\": [2191, 2198, 2150, 2166, 2184, 2199, 2234, 2273, 2342, 2326], \"yaxis\": \"y\"}, {\"hovertemplate\": \"Country=Burkina Faso<br>Year=%{x}<br>Value=%{y}<extra></extra>\", \"legendgroup\": \"Burkina Faso\", \"line\": {\"color\": \"#FFA15A\", \"dash\": \"solid\"}, \"mode\": \"lines\", \"name\": \"Burkina Faso\", \"orientation\": \"v\", \"showlegend\": true, \"type\": \"scatter\", \"x\": [2004, 2005, 2006, 2007, 2008, 2009, 2010, 2011, 2012, 2013], \"xaxis\": \"x\", \"y\": [2505, 2463, 2559, 2546, 2588, 2639, 2681, 2664, 2707, 2720], \"yaxis\": \"y\"}, {\"hovertemplate\": \"Country=Cabo Verde<br>Year=%{x}<br>Value=%{y}<extra></extra>\", \"legendgroup\": \"Cabo Verde\", \"line\": {\"color\": \"#19d3f3\", \"dash\": \"solid\"}, \"mode\": \"lines\", \"name\": \"Cabo Verde\", \"orientation\": \"v\", \"showlegend\": true, \"type\": \"scatter\", \"x\": [2004, 2005, 2006, 2007, 2008, 2009, 2010, 2011, 2012, 2013], \"xaxis\": \"x\", \"y\": [2523, 2517, 2513, 2574, 2540, 2558, 2524, 2566, 2590, 2609], \"yaxis\": \"y\"}, {\"hovertemplate\": \"Country=Cameroon<br>Year=%{x}<br>Value=%{y}<extra></extra>\", \"legendgroup\": \"Cameroon\", \"line\": {\"color\": \"#FF6692\", \"dash\": \"solid\"}, \"mode\": \"lines\", \"name\": \"Cameroon\", \"orientation\": \"v\", \"showlegend\": true, \"type\": \"scatter\", \"x\": [2004, 2005, 2006, 2007, 2008, 2009, 2010, 2011, 2012, 2013], \"xaxis\": \"x\", \"y\": [2246, 2311, 2354, 2378, 2446, 2492, 2510, 2573, 2622, 2671], \"yaxis\": \"y\"}, {\"hovertemplate\": \"Country=Central African Republic<br>Year=%{x}<br>Value=%{y}<extra></extra>\", \"legendgroup\": \"Central African Republic\", \"line\": {\"color\": \"#B6E880\", \"dash\": \"solid\"}, \"mode\": \"lines\", \"name\": \"Central African Republic\", \"orientation\": \"v\", \"showlegend\": true, \"type\": \"scatter\", \"x\": [2004, 2005, 2006, 2007, 2008, 2009, 2010, 2011, 2012, 2013], \"xaxis\": \"x\", \"y\": [1989, 2026, 2029, 2090, 2133, 2139, 2164, 2154, 2116, 1879], \"yaxis\": \"y\"}, {\"hovertemplate\": \"Country=Chad<br>Year=%{x}<br>Value=%{y}<extra></extra>\", \"legendgroup\": \"Chad\", \"line\": {\"color\": \"#FF97FF\", \"dash\": \"solid\"}, \"mode\": \"lines\", \"name\": \"Chad\", \"orientation\": \"v\", \"showlegend\": true, \"type\": \"scatter\", \"x\": [2004, 2005, 2006, 2007, 2008, 2009, 2010, 2011, 2012, 2013], \"xaxis\": \"x\", \"y\": [2026, 2034, 2022, 2028, 2027, 2021, 2057, 2062, 2124, 2110], \"yaxis\": \"y\"}, {\"hovertemplate\": \"Country=Congo<br>Year=%{x}<br>Value=%{y}<extra></extra>\", \"legendgroup\": \"Congo\", \"line\": {\"color\": \"#FECB52\", \"dash\": \"solid\"}, \"mode\": \"lines\", \"name\": \"Congo\", \"orientation\": \"v\", \"showlegend\": true, \"type\": \"scatter\", \"x\": [2004, 2005, 2006, 2007, 2008, 2009, 2010, 2011, 2012, 2013], \"xaxis\": \"x\", \"y\": [2263, 2043, 2143, 2135, 2110, 2142, 2143, 2185, 2158, 2208], \"yaxis\": \"y\"}, {\"hovertemplate\": \"Country=Cote d'Ivoire<br>Year=%{x}<br>Value=%{y}<extra></extra>\", \"legendgroup\": \"Cote d'Ivoire\", \"line\": {\"color\": \"#636efa\", \"dash\": \"solid\"}, \"mode\": \"lines\", \"name\": \"Cote d'Ivoire\", \"orientation\": \"v\", \"showlegend\": true, \"type\": \"scatter\", \"x\": [2004, 2005, 2006, 2007, 2008, 2009, 2010, 2011, 2012, 2013], \"xaxis\": \"x\", \"y\": [2738, 2787, 2783, 2792, 2739, 2727, 2737, 2784, 2780, 2799], \"yaxis\": \"y\"}, {\"hovertemplate\": \"Country=Djibouti<br>Year=%{x}<br>Value=%{y}<extra></extra>\", \"legendgroup\": \"Djibouti\", \"line\": {\"color\": \"#EF553B\", \"dash\": \"solid\"}, \"mode\": \"lines\", \"name\": \"Djibouti\", \"orientation\": \"v\", \"showlegend\": true, \"type\": \"scatter\", \"x\": [2004, 2005, 2006, 2007, 2008, 2009, 2010, 2011, 2012, 2013], \"xaxis\": \"x\", \"y\": [2136, 2265, 2314, 2414, 2447, 2466, 2467, 2504, 2545, 2607], \"yaxis\": \"y\"}, {\"hovertemplate\": \"Country=Egypt<br>Year=%{x}<br>Value=%{y}<extra></extra>\", \"legendgroup\": \"Egypt\", \"line\": {\"color\": \"#00cc96\", \"dash\": \"solid\"}, \"mode\": \"lines\", \"name\": \"Egypt\", \"orientation\": \"v\", \"showlegend\": true, \"type\": \"scatter\", \"x\": [2004, 2005, 2006, 2007, 2008, 2009, 2010, 2011, 2012, 2013], \"xaxis\": \"x\", \"y\": [3309, 3367, 3389, 3445, 3490, 3441, 3507, 3549, 3561, 3522], \"yaxis\": \"y\"}, {\"hovertemplate\": \"Country=Ethiopia<br>Year=%{x}<br>Value=%{y}<extra></extra>\", \"legendgroup\": \"Ethiopia\", \"line\": {\"color\": \"#ab63fa\", \"dash\": \"solid\"}, \"mode\": \"lines\", \"name\": \"Ethiopia\", \"orientation\": \"v\", \"showlegend\": true, \"type\": \"scatter\", \"x\": [2004, 2005, 2006, 2007, 2008, 2009, 2010, 2011, 2012, 2013], \"xaxis\": \"x\", \"y\": [1882, 1978, 1967, 1957, 2018, 2052, 2080, 2103, 2124, 2131], \"yaxis\": \"y\"}, {\"hovertemplate\": \"Country=Gabon<br>Year=%{x}<br>Value=%{y}<extra></extra>\", \"legendgroup\": \"Gabon\", \"line\": {\"color\": \"#FFA15A\", \"dash\": \"solid\"}, \"mode\": \"lines\", \"name\": \"Gabon\", \"orientation\": \"v\", \"showlegend\": true, \"type\": \"scatter\", \"x\": [2004, 2005, 2006, 2007, 2008, 2009, 2010, 2011, 2012, 2013], \"xaxis\": \"x\", \"y\": [2676, 2715, 2716, 2711, 2653, 2699, 2732, 2772, 2795, 2830], \"yaxis\": \"y\"}, {\"hovertemplate\": \"Country=Gambia<br>Year=%{x}<br>Value=%{y}<extra></extra>\", \"legendgroup\": \"Gambia\", \"line\": {\"color\": \"#19d3f3\", \"dash\": \"solid\"}, \"mode\": \"lines\", \"name\": \"Gambia\", \"orientation\": \"v\", \"showlegend\": true, \"type\": \"scatter\", \"x\": [2004, 2005, 2006, 2007, 2008, 2009, 2010, 2011, 2012, 2013], \"xaxis\": \"x\", \"y\": [2465, 2442, 2397, 2535, 2589, 2621, 2674, 2692, 2652, 2628], \"yaxis\": \"y\"}, {\"hovertemplate\": \"Country=Ghana<br>Year=%{x}<br>Value=%{y}<extra></extra>\", \"legendgroup\": \"Ghana\", \"line\": {\"color\": \"#FF6692\", \"dash\": \"solid\"}, \"mode\": \"lines\", \"name\": \"Ghana\", \"orientation\": \"v\", \"showlegend\": true, \"type\": \"scatter\", \"x\": [2004, 2005, 2006, 2007, 2008, 2009, 2010, 2011, 2012, 2013], \"xaxis\": \"x\", \"y\": [2682, 2751, 2824, 2803, 2950, 3032, 3077, 3002, 3043, 3016], \"yaxis\": \"y\"}, {\"hovertemplate\": \"Country=Guinea<br>Year=%{x}<br>Value=%{y}<extra></extra>\", \"legendgroup\": \"Guinea\", \"line\": {\"color\": \"#B6E880\", \"dash\": \"solid\"}, \"mode\": \"lines\", \"name\": \"Guinea\", \"orientation\": \"v\", \"showlegend\": true, \"type\": \"scatter\", \"x\": [2004, 2005, 2006, 2007, 2008, 2009, 2010, 2011, 2012, 2013], \"xaxis\": \"x\", \"y\": [2426, 2443, 2503, 2505, 2534, 2546, 2550, 2546, 2561, 2566], \"yaxis\": \"y\"}, {\"hovertemplate\": \"Country=Guinea-Bissau<br>Year=%{x}<br>Value=%{y}<extra></extra>\", \"legendgroup\": \"Guinea-Bissau\", \"line\": {\"color\": \"#FF97FF\", \"dash\": \"solid\"}, \"mode\": \"lines\", \"name\": \"Guinea-Bissau\", \"orientation\": \"v\", \"showlegend\": true, \"type\": \"scatter\", \"x\": [2004, 2005, 2006, 2007, 2008, 2009, 2010, 2011, 2012, 2013], \"xaxis\": \"x\", \"y\": [2257, 2273, 2253, 2293, 2304, 2278, 2346, 2336, 2331, 2292], \"yaxis\": \"y\"}, {\"hovertemplate\": \"Country=Kenya<br>Year=%{x}<br>Value=%{y}<extra></extra>\", \"legendgroup\": \"Kenya\", \"line\": {\"color\": \"#FECB52\", \"dash\": \"solid\"}, \"mode\": \"lines\", \"name\": \"Kenya\", \"orientation\": \"v\", \"showlegend\": true, \"type\": \"scatter\", \"x\": [2004, 2005, 2006, 2007, 2008, 2009, 2010, 2011, 2012, 2013], \"xaxis\": \"x\", \"y\": [2022, 2161, 2161, 2110, 2106, 2165, 2160, 2170, 2192, 2206], \"yaxis\": \"y\"}, {\"hovertemplate\": \"Country=Lesotho<br>Year=%{x}<br>Value=%{y}<extra></extra>\", \"legendgroup\": \"Lesotho\", \"line\": {\"color\": \"#636efa\", \"dash\": \"solid\"}, \"mode\": \"lines\", \"name\": \"Lesotho\", \"orientation\": \"v\", \"showlegend\": true, \"type\": \"scatter\", \"x\": [2004, 2005, 2006, 2007, 2008, 2009, 2010, 2011, 2012, 2013], \"xaxis\": \"x\", \"y\": [2541, 2567, 2595, 2560, 2558, 2569, 2572, 2550, 2547, 2529], \"yaxis\": \"y\"}, {\"hovertemplate\": \"Country=Liberia<br>Year=%{x}<br>Value=%{y}<extra></extra>\", \"legendgroup\": \"Liberia\", \"line\": {\"color\": \"#EF553B\", \"dash\": \"solid\"}, \"mode\": \"lines\", \"name\": \"Liberia\", \"orientation\": \"v\", \"showlegend\": true, \"type\": \"scatter\", \"x\": [2004, 2005, 2006, 2007, 2008, 2009, 2010, 2011, 2012, 2013], \"xaxis\": \"x\", \"y\": [2092, 2160, 2116, 2145, 2227, 2231, 2198, 2254, 2200, 2204], \"yaxis\": \"y\"}, {\"hovertemplate\": \"Country=Madagascar<br>Year=%{x}<br>Value=%{y}<extra></extra>\", \"legendgroup\": \"Madagascar\", \"line\": {\"color\": \"#00cc96\", \"dash\": \"solid\"}, \"mode\": \"lines\", \"name\": \"Madagascar\", \"orientation\": \"v\", \"showlegend\": true, \"type\": \"scatter\", \"x\": [2004, 2005, 2006, 2007, 2008, 2009, 2010, 2011, 2012, 2013], \"xaxis\": \"x\", \"y\": [1980, 2060, 2083, 2096, 2061, 2065, 2068, 2085, 2058, 2052], \"yaxis\": \"y\"}, {\"hovertemplate\": \"Country=Malawi<br>Year=%{x}<br>Value=%{y}<extra></extra>\", \"legendgroup\": \"Malawi\", \"line\": {\"color\": \"#ab63fa\", \"dash\": \"solid\"}, \"mode\": \"lines\", \"name\": \"Malawi\", \"orientation\": \"v\", \"showlegend\": true, \"type\": \"scatter\", \"x\": [2004, 2005, 2006, 2007, 2008, 2009, 2010, 2011, 2012, 2013], \"xaxis\": \"x\", \"y\": [2166, 2191, 2269, 2293, 2318, 2311, 2329, 2348, 2333, 2367], \"yaxis\": \"y\"}, {\"hovertemplate\": \"Country=Mali<br>Year=%{x}<br>Value=%{y}<extra></extra>\", \"legendgroup\": \"Mali\", \"line\": {\"color\": \"#FFA15A\", \"dash\": \"solid\"}, \"mode\": \"lines\", \"name\": \"Mali\", \"orientation\": \"v\", \"showlegend\": true, \"type\": \"scatter\", \"x\": [2004, 2005, 2006, 2007, 2008, 2009, 2010, 2011, 2012, 2013], \"xaxis\": \"x\", \"y\": [2540, 2583, 2654, 2722, 2777, 2831, 2813, 2832, 2860, 2890], \"yaxis\": \"y\"}, {\"hovertemplate\": \"Country=Mauritania<br>Year=%{x}<br>Value=%{y}<extra></extra>\", \"legendgroup\": \"Mauritania\", \"line\": {\"color\": \"#19d3f3\", \"dash\": \"solid\"}, \"mode\": \"lines\", \"name\": \"Mauritania\", \"orientation\": \"v\", \"showlegend\": true, \"type\": \"scatter\", \"x\": [2004, 2005, 2006, 2007, 2008, 2009, 2010, 2011, 2012, 2013], \"xaxis\": \"x\", \"y\": [2599, 2629, 2603, 2726, 2772, 2762, 2797, 2806, 2873, 2876], \"yaxis\": \"y\"}, {\"hovertemplate\": \"Country=Mauritius<br>Year=%{x}<br>Value=%{y}<extra></extra>\", \"legendgroup\": \"Mauritius\", \"line\": {\"color\": \"#FF6692\", \"dash\": \"solid\"}, \"mode\": \"lines\", \"name\": \"Mauritius\", \"orientation\": \"v\", \"showlegend\": true, \"type\": \"scatter\", \"x\": [2004, 2005, 2006, 2007, 2008, 2009, 2010, 2011, 2012, 2013], \"xaxis\": \"x\", \"y\": [3023, 3009, 3022, 3076, 3001, 3124, 3151, 3058, 3014, 3065], \"yaxis\": \"y\"}, {\"hovertemplate\": \"Country=Morocco<br>Year=%{x}<br>Value=%{y}<extra></extra>\", \"legendgroup\": \"Morocco\", \"line\": {\"color\": \"#B6E880\", \"dash\": \"solid\"}, \"mode\": \"lines\", \"name\": \"Morocco\", \"orientation\": \"v\", \"showlegend\": true, \"type\": \"scatter\", \"x\": [2004, 2005, 2006, 2007, 2008, 2009, 2010, 2011, 2012, 2013], \"xaxis\": \"x\", \"y\": [3263, 3206, 3271, 3251, 3271, 3293, 3294, 3349, 3366, 3403], \"yaxis\": \"y\"}, {\"hovertemplate\": \"Country=Mozambique<br>Year=%{x}<br>Value=%{y}<extra></extra>\", \"legendgroup\": \"Mozambique\", \"line\": {\"color\": \"#FF97FF\", \"dash\": \"solid\"}, \"mode\": \"lines\", \"name\": \"Mozambique\", \"orientation\": \"v\", \"showlegend\": true, \"type\": \"scatter\", \"x\": [2004, 2005, 2006, 2007, 2008, 2009, 2010, 2011, 2012, 2013], \"xaxis\": \"x\", \"y\": [2059, 2038, 2111, 2083, 2164, 2165, 2242, 2259, 2298, 2283], \"yaxis\": \"y\"}, {\"hovertemplate\": \"Country=Namibia<br>Year=%{x}<br>Value=%{y}<extra></extra>\", \"legendgroup\": \"Namibia\", \"line\": {\"color\": \"#FECB52\", \"dash\": \"solid\"}, \"mode\": \"lines\", \"name\": \"Namibia\", \"orientation\": \"v\", \"showlegend\": true, \"type\": \"scatter\", \"x\": [2004, 2005, 2006, 2007, 2008, 2009, 2010, 2011, 2012, 2013], \"xaxis\": \"x\", \"y\": [2268, 2243, 2230, 2218, 2120, 2062, 2055, 2090, 2145, 2171], \"yaxis\": \"y\"}, {\"hovertemplate\": \"Country=Niger<br>Year=%{x}<br>Value=%{y}<extra></extra>\", \"legendgroup\": \"Niger\", \"line\": {\"color\": \"#636efa\", \"dash\": \"solid\"}, \"mode\": \"lines\", \"name\": \"Niger\", \"orientation\": \"v\", \"showlegend\": true, \"type\": \"scatter\", \"x\": [2004, 2005, 2006, 2007, 2008, 2009, 2010, 2011, 2012, 2013], \"xaxis\": \"x\", \"y\": [2453, 2444, 2442, 2461, 2520, 2523, 2533, 2534, 2567, 2547], \"yaxis\": \"y\"}, {\"hovertemplate\": \"Country=Nigeria<br>Year=%{x}<br>Value=%{y}<extra></extra>\", \"legendgroup\": \"Nigeria\", \"line\": {\"color\": \"#EF553B\", \"dash\": \"solid\"}, \"mode\": \"lines\", \"name\": \"Nigeria\", \"orientation\": \"v\", \"showlegend\": true, \"type\": \"scatter\", \"x\": [2004, 2005, 2006, 2007, 2008, 2009, 2010, 2011, 2012, 2013], \"xaxis\": \"x\", \"y\": [2655, 2705, 2725, 2720, 2723, 2683, 2706, 2706, 2665, 2700], \"yaxis\": \"y\"}, {\"hovertemplate\": \"Country=Rwanda<br>Year=%{x}<br>Value=%{y}<extra></extra>\", \"legendgroup\": \"Rwanda\", \"line\": {\"color\": \"#00cc96\", \"dash\": \"solid\"}, \"mode\": \"lines\", \"name\": \"Rwanda\", \"orientation\": \"v\", \"showlegend\": true, \"type\": \"scatter\", \"x\": [2004, 2005, 2006, 2007, 2008, 2009, 2010, 2011, 2012, 2013], \"xaxis\": \"x\", \"y\": [1969, 2037, 2044, 2053, 2101, 2196, 2198, 2213, 2270, 2228], \"yaxis\": \"y\"}, {\"hovertemplate\": \"Country=Sao Tome and Principe<br>Year=%{x}<br>Value=%{y}<extra></extra>\", \"legendgroup\": \"Sao Tome and Principe\", \"line\": {\"color\": \"#ab63fa\", \"dash\": \"solid\"}, \"mode\": \"lines\", \"name\": \"Sao Tome and Principe\", \"orientation\": \"v\", \"showlegend\": true, \"type\": \"scatter\", \"x\": [2004, 2005, 2006, 2007, 2008, 2009, 2010, 2011, 2012, 2013], \"xaxis\": \"x\", \"y\": [2513, 2546, 2554, 2511, 2466, 2435, 2368, 2331, 2338, 2400], \"yaxis\": \"y\"}, {\"hovertemplate\": \"Country=Senegal<br>Year=%{x}<br>Value=%{y}<extra></extra>\", \"legendgroup\": \"Senegal\", \"line\": {\"color\": \"#FFA15A\", \"dash\": \"solid\"}, \"mode\": \"lines\", \"name\": \"Senegal\", \"orientation\": \"v\", \"showlegend\": true, \"type\": \"scatter\", \"x\": [2004, 2005, 2006, 2007, 2008, 2009, 2010, 2011, 2012, 2013], \"xaxis\": \"x\", \"y\": [2248, 2237, 2310, 2342, 2439, 2446, 2435, 2428, 2443, 2456], \"yaxis\": \"y\"}, {\"hovertemplate\": \"Country=Sierra Leone<br>Year=%{x}<br>Value=%{y}<extra></extra>\", \"legendgroup\": \"Sierra Leone\", \"line\": {\"color\": \"#19d3f3\", \"dash\": \"solid\"}, \"mode\": \"lines\", \"name\": \"Sierra Leone\", \"orientation\": \"v\", \"showlegend\": true, \"type\": \"scatter\", \"x\": [2004, 2005, 2006, 2007, 2008, 2009, 2010, 2011, 2012, 2013], \"xaxis\": \"x\", \"y\": [2024, 2082, 2155, 2194, 2197, 2251, 2275, 2335, 2374, 2404], \"yaxis\": \"y\"}, {\"hovertemplate\": \"Country=South Africa<br>Year=%{x}<br>Value=%{y}<extra></extra>\", \"legendgroup\": \"South Africa\", \"line\": {\"color\": \"#FF6692\", \"dash\": \"solid\"}, \"mode\": \"lines\", \"name\": \"South Africa\", \"orientation\": \"v\", \"showlegend\": true, \"type\": \"scatter\", \"x\": [2004, 2005, 2006, 2007, 2008, 2009, 2010, 2011, 2012, 2013], \"xaxis\": \"x\", \"y\": [2940, 2952, 2927, 2920, 2924, 2936, 2992, 3002, 3014, 3022], \"yaxis\": \"y\"}, {\"hovertemplate\": \"Country=Sudan<br>Year=%{x}<br>Value=%{y}<extra></extra>\", \"legendgroup\": \"Sudan\", \"line\": {\"color\": \"#B6E880\", \"dash\": \"solid\"}, \"mode\": \"lines\", \"name\": \"Sudan\", \"orientation\": \"v\", \"showlegend\": true, \"type\": \"scatter\", \"x\": [2012, 2013, 2004, 2005, 2006, 2007, 2008, 2009, 2010, 2011], \"xaxis\": \"x\", \"y\": [2301, 2336, 2271, 2296, 2331, 2344, 2344, 2346, 2323, 2346], \"yaxis\": \"y\"}, {\"hovertemplate\": \"Country=Swaziland<br>Year=%{x}<br>Value=%{y}<extra></extra>\", \"legendgroup\": \"Swaziland\", \"line\": {\"color\": \"#FF97FF\", \"dash\": \"solid\"}, \"mode\": \"lines\", \"name\": \"Swaziland\", \"orientation\": \"v\", \"showlegend\": true, \"type\": \"scatter\", \"x\": [2004, 2005, 2006, 2007, 2008, 2009, 2010, 2011, 2012, 2013], \"xaxis\": \"x\", \"y\": [2469, 2372, 2325, 2310, 2257, 2249, 2284, 2283, 2293, 2329], \"yaxis\": \"y\"}, {\"hovertemplate\": \"Country=Togo<br>Year=%{x}<br>Value=%{y}<extra></extra>\", \"legendgroup\": \"Togo\", \"line\": {\"color\": \"#FECB52\", \"dash\": \"solid\"}, \"mode\": \"lines\", \"name\": \"Togo\", \"orientation\": \"v\", \"showlegend\": true, \"type\": \"scatter\", \"x\": [2004, 2005, 2006, 2007, 2008, 2009, 2010, 2011, 2012, 2013], \"xaxis\": \"x\", \"y\": [2246, 2238, 2283, 2295, 2316, 2340, 2370, 2383, 2414, 2454], \"yaxis\": \"y\"}, {\"hovertemplate\": \"Country=Tunisia<br>Year=%{x}<br>Value=%{y}<extra></extra>\", \"legendgroup\": \"Tunisia\", \"line\": {\"color\": \"#636efa\", \"dash\": \"solid\"}, \"mode\": \"lines\", \"name\": \"Tunisia\", \"orientation\": \"v\", \"showlegend\": true, \"type\": \"scatter\", \"x\": [2004, 2005, 2006, 2007, 2008, 2009, 2010, 2011, 2012, 2013], \"xaxis\": \"x\", \"y\": [3248, 3220, 3273, 3252, 3302, 3335, 3326, 3360, 3390, 3349], \"yaxis\": \"y\"}, {\"hovertemplate\": \"Country=Uganda<br>Year=%{x}<br>Value=%{y}<extra></extra>\", \"legendgroup\": \"Uganda\", \"line\": {\"color\": \"#EF553B\", \"dash\": \"solid\"}, \"mode\": \"lines\", \"name\": \"Uganda\", \"orientation\": \"v\", \"showlegend\": true, \"type\": \"scatter\", \"x\": [2004, 2005, 2006, 2007, 2008, 2009, 2010, 2011, 2012, 2013], \"xaxis\": \"x\", \"y\": [2351, 2327, 2276, 2212, 2177, 2194, 2200, 2178, 2160, 2130], \"yaxis\": \"y\"}, {\"hovertemplate\": \"Country=United Republic of Tanzania<br>Year=%{x}<br>Value=%{y}<extra></extra>\", \"legendgroup\": \"United Republic of Tanzania\", \"line\": {\"color\": \"#00cc96\", \"dash\": \"solid\"}, \"mode\": \"lines\", \"name\": \"United Republic of Tanzania\", \"orientation\": \"v\", \"showlegend\": true, \"type\": \"scatter\", \"x\": [2004, 2005, 2006, 2007, 2008, 2009, 2010, 2011, 2012, 2013], \"xaxis\": \"x\", \"y\": [2098, 2134, 2141, 2215, 2132, 2133, 2097, 2200, 2192, 2208], \"yaxis\": \"y\"}, {\"hovertemplate\": \"Country=Zambia<br>Year=%{x}<br>Value=%{y}<extra></extra>\", \"legendgroup\": \"Zambia\", \"line\": {\"color\": \"#ab63fa\", \"dash\": \"solid\"}, \"mode\": \"lines\", \"name\": \"Zambia\", \"orientation\": \"v\", \"showlegend\": true, \"type\": \"scatter\", \"x\": [2004, 2005, 2006, 2007, 2008, 2009, 2010, 2011, 2012, 2013], \"xaxis\": \"x\", \"y\": [1866, 1873, 1838, 1781, 1801, 1878, 1904, 1907, 1923, 1930], \"yaxis\": \"y\"}, {\"hovertemplate\": \"Country=Zimbabwe<br>Year=%{x}<br>Value=%{y}<extra></extra>\", \"legendgroup\": \"Zimbabwe\", \"line\": {\"color\": \"#FFA15A\", \"dash\": \"solid\"}, \"mode\": \"lines\", \"name\": \"Zimbabwe\", \"orientation\": \"v\", \"showlegend\": true, \"type\": \"scatter\", \"x\": [2004, 2005, 2006, 2007, 2008, 2009, 2010, 2011, 2012, 2013], \"xaxis\": \"x\", \"y\": [2044, 2025, 2115, 2109, 2094, 2147, 2168, 2200, 2197, 2110], \"yaxis\": \"y\"}],\n",
       "                        {\"legend\": {\"title\": {\"text\": \"Country\"}, \"tracegroupgap\": 0}, \"margin\": {\"t\": 60}, \"template\": {\"data\": {\"bar\": [{\"error_x\": {\"color\": \"#2a3f5f\"}, \"error_y\": {\"color\": \"#2a3f5f\"}, \"marker\": {\"line\": {\"color\": \"#E5ECF6\", \"width\": 0.5}}, \"type\": \"bar\"}], \"barpolar\": [{\"marker\": {\"line\": {\"color\": \"#E5ECF6\", \"width\": 0.5}}, \"type\": \"barpolar\"}], \"carpet\": [{\"aaxis\": {\"endlinecolor\": \"#2a3f5f\", \"gridcolor\": \"white\", \"linecolor\": \"white\", \"minorgridcolor\": \"white\", \"startlinecolor\": \"#2a3f5f\"}, \"baxis\": {\"endlinecolor\": \"#2a3f5f\", \"gridcolor\": \"white\", \"linecolor\": \"white\", \"minorgridcolor\": \"white\", \"startlinecolor\": \"#2a3f5f\"}, \"type\": \"carpet\"}], \"choropleth\": [{\"colorbar\": {\"outlinewidth\": 0, \"ticks\": \"\"}, \"type\": \"choropleth\"}], \"contour\": [{\"colorbar\": {\"outlinewidth\": 0, \"ticks\": \"\"}, \"colorscale\": [[0.0, \"#0d0887\"], [0.1111111111111111, \"#46039f\"], [0.2222222222222222, \"#7201a8\"], [0.3333333333333333, \"#9c179e\"], [0.4444444444444444, \"#bd3786\"], [0.5555555555555556, \"#d8576b\"], [0.6666666666666666, \"#ed7953\"], [0.7777777777777778, \"#fb9f3a\"], [0.8888888888888888, \"#fdca26\"], [1.0, \"#f0f921\"]], \"type\": \"contour\"}], \"contourcarpet\": [{\"colorbar\": {\"outlinewidth\": 0, \"ticks\": \"\"}, \"type\": \"contourcarpet\"}], \"heatmap\": [{\"colorbar\": {\"outlinewidth\": 0, \"ticks\": \"\"}, \"colorscale\": [[0.0, \"#0d0887\"], [0.1111111111111111, \"#46039f\"], [0.2222222222222222, \"#7201a8\"], [0.3333333333333333, \"#9c179e\"], [0.4444444444444444, \"#bd3786\"], [0.5555555555555556, \"#d8576b\"], [0.6666666666666666, \"#ed7953\"], [0.7777777777777778, \"#fb9f3a\"], [0.8888888888888888, \"#fdca26\"], [1.0, \"#f0f921\"]], \"type\": \"heatmap\"}], \"heatmapgl\": [{\"colorbar\": {\"outlinewidth\": 0, \"ticks\": \"\"}, \"colorscale\": [[0.0, \"#0d0887\"], [0.1111111111111111, \"#46039f\"], [0.2222222222222222, \"#7201a8\"], [0.3333333333333333, \"#9c179e\"], [0.4444444444444444, \"#bd3786\"], [0.5555555555555556, \"#d8576b\"], [0.6666666666666666, \"#ed7953\"], [0.7777777777777778, \"#fb9f3a\"], [0.8888888888888888, \"#fdca26\"], [1.0, \"#f0f921\"]], \"type\": \"heatmapgl\"}], \"histogram\": [{\"marker\": {\"colorbar\": {\"outlinewidth\": 0, \"ticks\": \"\"}}, \"type\": \"histogram\"}], \"histogram2d\": [{\"colorbar\": {\"outlinewidth\": 0, \"ticks\": \"\"}, \"colorscale\": [[0.0, \"#0d0887\"], [0.1111111111111111, \"#46039f\"], [0.2222222222222222, \"#7201a8\"], [0.3333333333333333, \"#9c179e\"], [0.4444444444444444, \"#bd3786\"], [0.5555555555555556, \"#d8576b\"], [0.6666666666666666, \"#ed7953\"], [0.7777777777777778, \"#fb9f3a\"], [0.8888888888888888, \"#fdca26\"], [1.0, \"#f0f921\"]], \"type\": \"histogram2d\"}], \"histogram2dcontour\": [{\"colorbar\": {\"outlinewidth\": 0, \"ticks\": \"\"}, \"colorscale\": [[0.0, \"#0d0887\"], [0.1111111111111111, \"#46039f\"], [0.2222222222222222, \"#7201a8\"], [0.3333333333333333, \"#9c179e\"], [0.4444444444444444, \"#bd3786\"], [0.5555555555555556, \"#d8576b\"], [0.6666666666666666, \"#ed7953\"], [0.7777777777777778, \"#fb9f3a\"], [0.8888888888888888, \"#fdca26\"], [1.0, \"#f0f921\"]], \"type\": \"histogram2dcontour\"}], \"mesh3d\": [{\"colorbar\": {\"outlinewidth\": 0, \"ticks\": \"\"}, \"type\": \"mesh3d\"}], \"parcoords\": [{\"line\": {\"colorbar\": {\"outlinewidth\": 0, \"ticks\": \"\"}}, \"type\": \"parcoords\"}], \"pie\": [{\"automargin\": true, \"type\": \"pie\"}], \"scatter\": [{\"marker\": {\"colorbar\": {\"outlinewidth\": 0, \"ticks\": \"\"}}, \"type\": \"scatter\"}], \"scatter3d\": [{\"line\": {\"colorbar\": {\"outlinewidth\": 0, \"ticks\": \"\"}}, \"marker\": {\"colorbar\": {\"outlinewidth\": 0, \"ticks\": \"\"}}, \"type\": \"scatter3d\"}], \"scattercarpet\": [{\"marker\": {\"colorbar\": {\"outlinewidth\": 0, \"ticks\": \"\"}}, \"type\": \"scattercarpet\"}], \"scattergeo\": [{\"marker\": {\"colorbar\": {\"outlinewidth\": 0, \"ticks\": \"\"}}, \"type\": \"scattergeo\"}], \"scattergl\": [{\"marker\": {\"colorbar\": {\"outlinewidth\": 0, \"ticks\": \"\"}}, \"type\": \"scattergl\"}], \"scattermapbox\": [{\"marker\": {\"colorbar\": {\"outlinewidth\": 0, \"ticks\": \"\"}}, \"type\": \"scattermapbox\"}], \"scatterpolar\": [{\"marker\": {\"colorbar\": {\"outlinewidth\": 0, \"ticks\": \"\"}}, \"type\": \"scatterpolar\"}], \"scatterpolargl\": [{\"marker\": {\"colorbar\": {\"outlinewidth\": 0, \"ticks\": \"\"}}, \"type\": \"scatterpolargl\"}], \"scatterternary\": [{\"marker\": {\"colorbar\": {\"outlinewidth\": 0, \"ticks\": \"\"}}, \"type\": \"scatterternary\"}], \"surface\": [{\"colorbar\": {\"outlinewidth\": 0, \"ticks\": \"\"}, \"colorscale\": [[0.0, \"#0d0887\"], [0.1111111111111111, \"#46039f\"], [0.2222222222222222, \"#7201a8\"], [0.3333333333333333, \"#9c179e\"], [0.4444444444444444, \"#bd3786\"], [0.5555555555555556, \"#d8576b\"], [0.6666666666666666, \"#ed7953\"], [0.7777777777777778, \"#fb9f3a\"], [0.8888888888888888, \"#fdca26\"], [1.0, \"#f0f921\"]], \"type\": \"surface\"}], \"table\": [{\"cells\": {\"fill\": {\"color\": \"#EBF0F8\"}, \"line\": {\"color\": \"white\"}}, \"header\": {\"fill\": {\"color\": \"#C8D4E3\"}, \"line\": {\"color\": \"white\"}}, \"type\": \"table\"}]}, \"layout\": {\"annotationdefaults\": {\"arrowcolor\": \"#2a3f5f\", \"arrowhead\": 0, \"arrowwidth\": 1}, \"coloraxis\": {\"colorbar\": {\"outlinewidth\": 0, \"ticks\": \"\"}}, \"colorscale\": {\"diverging\": [[0, \"#8e0152\"], [0.1, \"#c51b7d\"], [0.2, \"#de77ae\"], [0.3, \"#f1b6da\"], [0.4, \"#fde0ef\"], [0.5, \"#f7f7f7\"], [0.6, \"#e6f5d0\"], [0.7, \"#b8e186\"], [0.8, \"#7fbc41\"], [0.9, \"#4d9221\"], [1, \"#276419\"]], \"sequential\": [[0.0, \"#0d0887\"], [0.1111111111111111, \"#46039f\"], [0.2222222222222222, \"#7201a8\"], [0.3333333333333333, \"#9c179e\"], [0.4444444444444444, \"#bd3786\"], [0.5555555555555556, \"#d8576b\"], [0.6666666666666666, \"#ed7953\"], [0.7777777777777778, \"#fb9f3a\"], [0.8888888888888888, \"#fdca26\"], [1.0, \"#f0f921\"]], \"sequentialminus\": [[0.0, \"#0d0887\"], [0.1111111111111111, \"#46039f\"], [0.2222222222222222, \"#7201a8\"], [0.3333333333333333, \"#9c179e\"], [0.4444444444444444, \"#bd3786\"], [0.5555555555555556, \"#d8576b\"], [0.6666666666666666, \"#ed7953\"], [0.7777777777777778, \"#fb9f3a\"], [0.8888888888888888, \"#fdca26\"], [1.0, \"#f0f921\"]]}, \"colorway\": [\"#636efa\", \"#EF553B\", \"#00cc96\", \"#ab63fa\", \"#FFA15A\", \"#19d3f3\", \"#FF6692\", \"#B6E880\", \"#FF97FF\", \"#FECB52\"], \"font\": {\"color\": \"#2a3f5f\"}, \"geo\": {\"bgcolor\": \"white\", \"lakecolor\": \"white\", \"landcolor\": \"#E5ECF6\", \"showlakes\": true, \"showland\": true, \"subunitcolor\": \"white\"}, \"hoverlabel\": {\"align\": \"left\"}, \"hovermode\": \"closest\", \"mapbox\": {\"style\": \"light\"}, \"paper_bgcolor\": \"white\", \"plot_bgcolor\": \"#E5ECF6\", \"polar\": {\"angularaxis\": {\"gridcolor\": \"white\", \"linecolor\": \"white\", \"ticks\": \"\"}, \"bgcolor\": \"#E5ECF6\", \"radialaxis\": {\"gridcolor\": \"white\", \"linecolor\": \"white\", \"ticks\": \"\"}}, \"scene\": {\"xaxis\": {\"backgroundcolor\": \"#E5ECF6\", \"gridcolor\": \"white\", \"gridwidth\": 2, \"linecolor\": \"white\", \"showbackground\": true, \"ticks\": \"\", \"zerolinecolor\": \"white\"}, \"yaxis\": {\"backgroundcolor\": \"#E5ECF6\", \"gridcolor\": \"white\", \"gridwidth\": 2, \"linecolor\": \"white\", \"showbackground\": true, \"ticks\": \"\", \"zerolinecolor\": \"white\"}, \"zaxis\": {\"backgroundcolor\": \"#E5ECF6\", \"gridcolor\": \"white\", \"gridwidth\": 2, \"linecolor\": \"white\", \"showbackground\": true, \"ticks\": \"\", \"zerolinecolor\": \"white\"}}, \"shapedefaults\": {\"line\": {\"color\": \"#2a3f5f\"}}, \"ternary\": {\"aaxis\": {\"gridcolor\": \"white\", \"linecolor\": \"white\", \"ticks\": \"\"}, \"baxis\": {\"gridcolor\": \"white\", \"linecolor\": \"white\", \"ticks\": \"\"}, \"bgcolor\": \"#E5ECF6\", \"caxis\": {\"gridcolor\": \"white\", \"linecolor\": \"white\", \"ticks\": \"\"}}, \"title\": {\"x\": 0.05}, \"xaxis\": {\"automargin\": true, \"gridcolor\": \"white\", \"linecolor\": \"white\", \"ticks\": \"\", \"title\": {\"standoff\": 15}, \"zerolinecolor\": \"white\", \"zerolinewidth\": 2}, \"yaxis\": {\"automargin\": true, \"gridcolor\": \"white\", \"linecolor\": \"white\", \"ticks\": \"\", \"title\": {\"standoff\": 15}, \"zerolinecolor\": \"white\", \"zerolinewidth\": 2}}}, \"xaxis\": {\"anchor\": \"y\", \"domain\": [0.0, 1.0], \"title\": {\"text\": \"Year\"}}, \"yaxis\": {\"anchor\": \"x\", \"domain\": [0.0, 1.0], \"title\": {\"text\": \"Value\"}}},\n",
       "                        {\"responsive\": true}\n",
       "                    ).then(function(){\n",
       "                            \n",
       "var gd = document.getElementById('9b68a4ae-72aa-42ce-8151-fe0f00d5416b');\n",
       "var x = new MutationObserver(function (mutations, observer) {{\n",
       "        var display = window.getComputedStyle(gd).display;\n",
       "        if (!display || display === 'none') {{\n",
       "            console.log([gd, 'removed!']);\n",
       "            Plotly.purge(gd);\n",
       "            observer.disconnect();\n",
       "        }}\n",
       "}});\n",
       "\n",
       "// Listen for the removal of the full notebook cells\n",
       "var notebookContainer = gd.closest('#notebook-container');\n",
       "if (notebookContainer) {{\n",
       "    x.observe(notebookContainer, {childList: true});\n",
       "}}\n",
       "\n",
       "// Listen for the clearing of the current output cell\n",
       "var outputEl = gd.closest('.output');\n",
       "if (outputEl) {{\n",
       "    x.observe(outputEl, {childList: true});\n",
       "}}\n",
       "\n",
       "                        })\n",
       "                };\n",
       "                });\n",
       "            </script>\n",
       "        </div>"
      ]
     },
     "metadata": {},
     "output_type": "display_data"
    }
   ],
   "source": [
    "import plotly.express as px\n",
    "fig = px.line(African_supply, x='Year', y='Value', color='Country')\n",
    "fig.show()"
   ]
  },
  {
   "cell_type": "markdown",
   "metadata": {},
   "source": [
    "Countries that has the least supply from 2004 to 2006 are Zambia, Ethiopia and Central African Republic."
   ]
  },
  {
   "cell_type": "code",
   "execution_count": null,
   "metadata": {},
   "outputs": [],
   "source": []
  }
 ],
 "metadata": {
  "kernelspec": {
   "display_name": "Python 3",
   "language": "python",
   "name": "python3"
  },
  "language_info": {
   "codemirror_mode": {
    "name": "ipython",
    "version": 3
   },
   "file_extension": ".py",
   "mimetype": "text/x-python",
   "name": "python",
   "nbconvert_exporter": "python",
   "pygments_lexer": "ipython3",
   "version": "3.7.6"
  }
 },
 "nbformat": 4,
 "nbformat_minor": 4
}
